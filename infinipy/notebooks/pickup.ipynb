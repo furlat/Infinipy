{
 "cells": [
  {
   "cell_type": "code",
   "execution_count": 1,
   "metadata": {},
   "outputs": [],
   "source": [
    "from infinipy.actions import Action,Prerequisites,Consequences\n",
    "from infinipy.entity import Statement\n",
    "from infinipy.spatial import GameEntity, Attribute, ActionInstance, GridMap,ActionsPayload, Node\n",
    "from infinipy.interactions import *\n",
    "from typing import Optional, Callable, List, Tuple, Dict\n"
   ]
  },
  {
   "cell_type": "code",
   "execution_count": 2,
   "metadata": {},
   "outputs": [],
   "source": [
    "\n",
    "\n",
    "# Create a grid map\n",
    "grid_map = GridMap(width=5, height=5)\n",
    "\n",
    "# Create floor entities and add them to the grid map\n",
    "for x in range(grid_map.width):\n",
    "    for y in range(grid_map.height):\n",
    "        floor = Floor(name=f\"Floor_{x}_{y}\")\n",
    "        floor.set_node(grid_map.get_node((x, y)))\n",
    "\n",
    "# Create a character entity\n",
    "character = Character(name=\"Character\")\n",
    "character_id = character.id\n",
    "character.set_node(grid_map.get_node((2, 2)))\n",
    "\n",
    "# Create a test item entity\n",
    "test_item = TestItem(name=\"Test Item\")\n",
    "test_item_id = test_item.id\n",
    "test_item.set_node(grid_map.get_node((2, 2)))\n",
    "\n"
   ]
  },
  {
   "cell_type": "code",
   "execution_count": 3,
   "metadata": {},
   "outputs": [],
   "source": [
    "# Retrieve the updated entities from the registry\n",
    "updated_character = Character.get_instance(character_id)\n",
    "updated_test_item = TestItem.get_instance(test_item_id)\n"
   ]
  },
  {
   "cell_type": "code",
   "execution_count": 4,
   "metadata": {},
   "outputs": [
    {
     "name": "stdout",
     "output_type": "stream",
     "text": [
      "Character position: name='Position' id='595b9129-0338-4f10-8935-74479996a041' value=(2, 2)\n",
      "Test item position: name='Position' id='595b9129-0338-4f10-8935-74479996a041' value=(2, 2)\n",
      "Test item stored in: None\n",
      "Character inventory: []\n"
     ]
    }
   ],
   "source": [
    "print(f\"Character position: {updated_character.position}\")\n",
    "print(f\"Test item position: {updated_test_item.position}\")\n",
    "print(f\"Test item stored in: {updated_test_item.stored_in}\")\n",
    "print(f\"Character inventory: {updated_character.inventory}\")"
   ]
  },
  {
   "cell_type": "code",
   "execution_count": 5,
   "metadata": {},
   "outputs": [
    {
     "data": {
      "text/plain": [
       "Position(name='Position', id='595b9129-0338-4f10-8935-74479996a041', value=(2, 2))"
      ]
     },
     "execution_count": 5,
     "metadata": {},
     "output_type": "execute_result"
    }
   ],
   "source": [
    "updated_test_item.position"
   ]
  },
  {
   "cell_type": "code",
   "execution_count": 6,
   "metadata": {},
   "outputs": [
    {
     "name": "stdout",
     "output_type": "stream",
     "text": [
      "Applying 1 actions\n",
      "Pickup result: results=[ActionResult(action_instance=ActionInstance(source_id='72c66540-a922-4864-a2ca-8a6d2c266440', target_id='1b611134-5c09-4c6c-b0d8-bc98e1ea8715', action=Pickup(name='Pickup', prerequisites=Prerequisites(source_statements=[Statement(name='Statement', id='f07b0489-a966-4951-934d-15afab9cc49f', conditions={'can_act': True}, comparisons={})], target_statements=[Statement(name='Statement', id='8852626e-9494-45be-9733-51d6f8dff407', conditions={'is_pickupable': True}, comparisons={})], source_target_statements=[]), consequences=Consequences(source_transformations={'inventory': <function add_to_inventory at 0x000001926DEE70A0>}, target_transformations={'stored_in': <function set_stored_in at 0x000001926DEE6CB0>, 'node': None}))), success=True, error=None)]\n",
      "Applying 3 actions\n",
      "Move result: results=[ActionResult(action_instance=ActionInstance(source_id='72c66540-a922-4864-a2ca-8a6d2c266440', target_id='111b3a2d-f2b9-434a-84ef-fb3654d132c3', action=Move(name='Move Step', prerequisites=Prerequisites(source_statements=[Statement(name='Statement', id='484f1c4e-0618-44e8-a334-18f21d5a0443', conditions={'can_act': True}, comparisons={})], target_statements=[Statement(name='Statement', id='05a46b54-825c-4a00-b58d-40b82c808ef8', conditions={'blocks_movement': False}, comparisons={})], source_target_statements=[Statement(name='Statement', id='ecf5827b-ccbb-44f6-8965-bcb5e1a3f8a1', conditions={}, comparisons={'source_position': ('node', 'node', <function source_node_comparison at 0x000001926DF536D0>)})]), consequences=Consequences(source_transformations={'node': <function move_to_target_node at 0x000001926DEE67A0>}, target_transformations={}))), success=True, error=None), ActionResult(action_instance=ActionInstance(source_id='72c66540-a922-4864-a2ca-8a6d2c266440', target_id='847eec2d-3189-4fb0-a5f9-4939a8aed09d', action=Move(name='Move Step', prerequisites=Prerequisites(source_statements=[Statement(name='Statement', id='484f1c4e-0618-44e8-a334-18f21d5a0443', conditions={'can_act': True}, comparisons={})], target_statements=[Statement(name='Statement', id='05a46b54-825c-4a00-b58d-40b82c808ef8', conditions={'blocks_movement': False}, comparisons={})], source_target_statements=[Statement(name='Statement', id='ecf5827b-ccbb-44f6-8965-bcb5e1a3f8a1', conditions={}, comparisons={'source_position': ('node', 'node', <function source_node_comparison at 0x000001926DF536D0>)})]), consequences=Consequences(source_transformations={'node': <function move_to_target_node at 0x000001926DEE67A0>}, target_transformations={}))), success=True, error=None), ActionResult(action_instance=ActionInstance(source_id='72c66540-a922-4864-a2ca-8a6d2c266440', target_id='de2eeffd-07cc-4a60-9566-08034f25c38a', action=Move(name='Move Step', prerequisites=Prerequisites(source_statements=[Statement(name='Statement', id='484f1c4e-0618-44e8-a334-18f21d5a0443', conditions={'can_act': True}, comparisons={})], target_statements=[Statement(name='Statement', id='05a46b54-825c-4a00-b58d-40b82c808ef8', conditions={'blocks_movement': False}, comparisons={})], source_target_statements=[Statement(name='Statement', id='ecf5827b-ccbb-44f6-8965-bcb5e1a3f8a1', conditions={}, comparisons={'source_position': ('node', 'node', <function source_node_comparison at 0x000001926DF536D0>)})]), consequences=Consequences(source_transformations={'node': <function move_to_target_node at 0x000001926DEE67A0>}, target_transformations={}))), success=True, error=None)]\n"
     ]
    }
   ],
   "source": [
    "# Perform the pickup action\n",
    "pickup_action = ActionInstance(source_id=character_id, target_id=test_item_id, action=Pickup())\n",
    "pickup_payload = ActionsPayload(actions=[pickup_action])\n",
    "pickup_result = grid_map.apply_actions_payload(pickup_payload)\n",
    "print(f\"Pickup result: {pickup_result}\")\n",
    "\n",
    "# Move the character 3 steps\n",
    "move_actions = [\n",
    "    ActionInstance(source_id=character_id, target_id=grid_map.get_node((2, 3)).entities[0].id, action=Move()),\n",
    "    ActionInstance(source_id=character_id, target_id=grid_map.get_node((2, 4)).entities[0].id, action=Move()),\n",
    "    ActionInstance(source_id=character_id, target_id=grid_map.get_node((3, 4)).entities[0].id, action=Move())\n",
    "]\n",
    "move_payload = ActionsPayload(actions=move_actions)\n",
    "move_result = grid_map.apply_actions_payload(move_payload)\n",
    "print(f\"Move result: {move_result}\")\n",
    "\n"
   ]
  },
  {
   "cell_type": "code",
   "execution_count": 7,
   "metadata": {},
   "outputs": [],
   "source": [
    "# Retrieve the updated entities from the registry\n",
    "updated_character = Character.get_instance(character_id)\n",
    "updated_test_item = TestItem.get_instance(test_item_id)\n"
   ]
  },
  {
   "cell_type": "code",
   "execution_count": 8,
   "metadata": {},
   "outputs": [
    {
     "data": {
      "text/plain": [
       "Character(name=Character, id=72c66540-a922-4864-a2ca-8a6d2c266440, blocks_movement=name='BlocksMovement' id='039cdce8-62e1-4e02-8bc4-ac2ecdf45eb1' value=False, blocks_light=name='BlocksLight' id='5d409c4d-e86c-4b8e-9e95-67e805a693a7' value=False, node=Node(id=8124aac1-2b36-40b9-b657-80944f3465ba, position=(3, 4)), inventory=[TestItem(name=Test Item, id=1b611134-5c09-4c6c-b0d8-bc98e1ea8715, blocks_movement=name='BlocksMovement' id='1e887805-2a6c-4890-bbd1-a88d0d78a6e5' value=False, blocks_light=name='BlocksLight' id='61efb22d-1030-4aef-86c2-b77b2aa75527' value=False, inventory=[], stored_in=name='Character' id='72c66540-a922-4864-a2ca-8a6d2c266440' blocks_movement=BlocksMovement(name='BlocksMovement', id='039cdce8-62e1-4e02-8bc4-ac2ecdf45eb1', value=False) blocks_light=BlocksLight(name='BlocksLight', id='5d409c4d-e86c-4b8e-9e95-67e805a693a7', value=False) node=Node(name='', id='8124aac1-2b36-40b9-b657-80944f3465ba', position=Position(name='Position', id='8c8cdce1-f685-43ea-8cf9-aa9d70f86f5a', value=(3, 4)), entities=[Floor(name=Floor_3_4, id=de2eeffd-07cc-4a60-9566-08034f25c38a, blocks_movement=name='BlocksMovement' id='04eb876a-65b5-49d2-b97b-e7310c4a0977' value=False, blocks_light=name='BlocksLight' id='9b700a67-f663-44b4-b0cc-2a0679ce6710' value=False, node=Node(id=8124aac1-2b36-40b9-b657-80944f3465ba, position=(3, 4)), inventory=[], stored_in=None), Character(name=Character, id=72c66540-a922-4864-a2ca-8a6d2c266440, blocks_movement=name='BlocksMovement' id='039cdce8-62e1-4e02-8bc4-ac2ecdf45eb1' value=False, blocks_light=name='BlocksLight' id='5d409c4d-e86c-4b8e-9e95-67e805a693a7' value=False, node=Node(id=8124aac1-2b36-40b9-b657-80944f3465ba, position=(3, 4)), inventory=[...], stored_in=None, can_act=name='can_act' id='72fd10ac-5bcc-491c-86c6-4c82f8e4c377' value=True)], grid_map=<infinipy.spatial.GridMap object at 0x000001926F0D1810>, blocks_movement=False, blocks_light=False) inventory=[...] stored_in=None can_act=Attribute(name='can_act', id='72fd10ac-5bcc-491c-86c6-4c82f8e4c377', value=True), is_pickupable=name='is_pickupable' id='73bd7ccb-c8d5-4480-9b7c-2f2c2c1065b4' value=True)], stored_in=None, can_act=name='can_act' id='72fd10ac-5bcc-491c-86c6-4c82f8e4c377' value=True)"
      ]
     },
     "execution_count": 8,
     "metadata": {},
     "output_type": "execute_result"
    }
   ],
   "source": [
    "updated_test_item.stored_in"
   ]
  },
  {
   "cell_type": "code",
   "execution_count": 9,
   "metadata": {},
   "outputs": [
    {
     "name": "stdout",
     "output_type": "stream",
     "text": [
      "Character position: name='Position' id='8c8cdce1-f685-43ea-8cf9-aa9d70f86f5a' value=(3, 4)\n",
      "Test item position: name='Position' id='8c8cdce1-f685-43ea-8cf9-aa9d70f86f5a' value=(3, 4)\n",
      "Test item position: name='Character' id='72c66540-a922-4864-a2ca-8a6d2c266440' blocks_movement=BlocksMovement(name='BlocksMovement', id='039cdce8-62e1-4e02-8bc4-ac2ecdf45eb1', value=False) blocks_light=BlocksLight(name='BlocksLight', id='5d409c4d-e86c-4b8e-9e95-67e805a693a7', value=False) node=Node(name='', id='8124aac1-2b36-40b9-b657-80944f3465ba', position=Position(name='Position', id='8c8cdce1-f685-43ea-8cf9-aa9d70f86f5a', value=(3, 4)), entities=[Floor(name=Floor_3_4, id=de2eeffd-07cc-4a60-9566-08034f25c38a, blocks_movement=name='BlocksMovement' id='04eb876a-65b5-49d2-b97b-e7310c4a0977' value=False, blocks_light=name='BlocksLight' id='9b700a67-f663-44b4-b0cc-2a0679ce6710' value=False, node=Node(id=8124aac1-2b36-40b9-b657-80944f3465ba, position=(3, 4)), inventory=[], stored_in=None), Character(name=Character, id=72c66540-a922-4864-a2ca-8a6d2c266440, blocks_movement=name='BlocksMovement' id='039cdce8-62e1-4e02-8bc4-ac2ecdf45eb1' value=False, blocks_light=name='BlocksLight' id='5d409c4d-e86c-4b8e-9e95-67e805a693a7' value=False, node=Node(id=8124aac1-2b36-40b9-b657-80944f3465ba, position=(3, 4)), inventory=[TestItem(name=Test Item, id=1b611134-5c09-4c6c-b0d8-bc98e1ea8715, blocks_movement=name='BlocksMovement' id='1e887805-2a6c-4890-bbd1-a88d0d78a6e5' value=False, blocks_light=name='BlocksLight' id='61efb22d-1030-4aef-86c2-b77b2aa75527' value=False, inventory=[], stored_in=name='Character' id='72c66540-a922-4864-a2ca-8a6d2c266440' blocks_movement=BlocksMovement(name='BlocksMovement', id='039cdce8-62e1-4e02-8bc4-ac2ecdf45eb1', value=False) blocks_light=BlocksLight(name='BlocksLight', id='5d409c4d-e86c-4b8e-9e95-67e805a693a7', value=False) node=Node(name='', id='8124aac1-2b36-40b9-b657-80944f3465ba', position=Position(name='Position', id='8c8cdce1-f685-43ea-8cf9-aa9d70f86f5a', value=(3, 4)), entities=[...], grid_map=<infinipy.spatial.GridMap object at 0x000001926F0D1810>, blocks_movement=False, blocks_light=False) inventory=[...] stored_in=None can_act=Attribute(name='can_act', id='72fd10ac-5bcc-491c-86c6-4c82f8e4c377', value=True), is_pickupable=name='is_pickupable' id='73bd7ccb-c8d5-4480-9b7c-2f2c2c1065b4' value=True)], stored_in=None, can_act=name='can_act' id='72fd10ac-5bcc-491c-86c6-4c82f8e4c377' value=True)], grid_map=<infinipy.spatial.GridMap object at 0x000001926F0D1810>, blocks_movement=False, blocks_light=False) inventory=[TestItem(name=Test Item, id=1b611134-5c09-4c6c-b0d8-bc98e1ea8715, blocks_movement=name='BlocksMovement' id='1e887805-2a6c-4890-bbd1-a88d0d78a6e5' value=False, blocks_light=name='BlocksLight' id='61efb22d-1030-4aef-86c2-b77b2aa75527' value=False, inventory=[], stored_in=name='Character' id='72c66540-a922-4864-a2ca-8a6d2c266440' blocks_movement=BlocksMovement(name='BlocksMovement', id='039cdce8-62e1-4e02-8bc4-ac2ecdf45eb1', value=False) blocks_light=BlocksLight(name='BlocksLight', id='5d409c4d-e86c-4b8e-9e95-67e805a693a7', value=False) node=Node(name='', id='8124aac1-2b36-40b9-b657-80944f3465ba', position=Position(name='Position', id='8c8cdce1-f685-43ea-8cf9-aa9d70f86f5a', value=(3, 4)), entities=[Floor(name=Floor_3_4, id=de2eeffd-07cc-4a60-9566-08034f25c38a, blocks_movement=name='BlocksMovement' id='04eb876a-65b5-49d2-b97b-e7310c4a0977' value=False, blocks_light=name='BlocksLight' id='9b700a67-f663-44b4-b0cc-2a0679ce6710' value=False, node=Node(id=8124aac1-2b36-40b9-b657-80944f3465ba, position=(3, 4)), inventory=[], stored_in=None), Character(name=Character, id=72c66540-a922-4864-a2ca-8a6d2c266440, blocks_movement=name='BlocksMovement' id='039cdce8-62e1-4e02-8bc4-ac2ecdf45eb1' value=False, blocks_light=name='BlocksLight' id='5d409c4d-e86c-4b8e-9e95-67e805a693a7' value=False, node=Node(id=8124aac1-2b36-40b9-b657-80944f3465ba, position=(3, 4)), inventory=[...], stored_in=None, can_act=name='can_act' id='72fd10ac-5bcc-491c-86c6-4c82f8e4c377' value=True)], grid_map=<infinipy.spatial.GridMap object at 0x000001926F0D1810>, blocks_movement=False, blocks_light=False) inventory=[...] stored_in=None can_act=Attribute(name='can_act', id='72fd10ac-5bcc-491c-86c6-4c82f8e4c377', value=True), is_pickupable=name='is_pickupable' id='73bd7ccb-c8d5-4480-9b7c-2f2c2c1065b4' value=True)] stored_in=None can_act=Attribute(name='can_act', id='72fd10ac-5bcc-491c-86c6-4c82f8e4c377', value=True)\n",
      "Character inventory: [TestItem(name=Test Item, id=1b611134-5c09-4c6c-b0d8-bc98e1ea8715, blocks_movement=name='BlocksMovement' id='1e887805-2a6c-4890-bbd1-a88d0d78a6e5' value=False, blocks_light=name='BlocksLight' id='61efb22d-1030-4aef-86c2-b77b2aa75527' value=False, inventory=[], stored_in=name='Character' id='72c66540-a922-4864-a2ca-8a6d2c266440' blocks_movement=BlocksMovement(name='BlocksMovement', id='039cdce8-62e1-4e02-8bc4-ac2ecdf45eb1', value=False) blocks_light=BlocksLight(name='BlocksLight', id='5d409c4d-e86c-4b8e-9e95-67e805a693a7', value=False) node=Node(name='', id='8124aac1-2b36-40b9-b657-80944f3465ba', position=Position(name='Position', id='8c8cdce1-f685-43ea-8cf9-aa9d70f86f5a', value=(3, 4)), entities=[Floor(name=Floor_3_4, id=de2eeffd-07cc-4a60-9566-08034f25c38a, blocks_movement=name='BlocksMovement' id='04eb876a-65b5-49d2-b97b-e7310c4a0977' value=False, blocks_light=name='BlocksLight' id='9b700a67-f663-44b4-b0cc-2a0679ce6710' value=False, node=Node(id=8124aac1-2b36-40b9-b657-80944f3465ba, position=(3, 4)), inventory=[], stored_in=None), Character(name=Character, id=72c66540-a922-4864-a2ca-8a6d2c266440, blocks_movement=name='BlocksMovement' id='039cdce8-62e1-4e02-8bc4-ac2ecdf45eb1' value=False, blocks_light=name='BlocksLight' id='5d409c4d-e86c-4b8e-9e95-67e805a693a7' value=False, node=Node(id=8124aac1-2b36-40b9-b657-80944f3465ba, position=(3, 4)), inventory=[...], stored_in=None, can_act=name='can_act' id='72fd10ac-5bcc-491c-86c6-4c82f8e4c377' value=True)], grid_map=<infinipy.spatial.GridMap object at 0x000001926F0D1810>, blocks_movement=False, blocks_light=False) inventory=[...] stored_in=None can_act=Attribute(name='can_act', id='72fd10ac-5bcc-491c-86c6-4c82f8e4c377', value=True), is_pickupable=name='is_pickupable' id='73bd7ccb-c8d5-4480-9b7c-2f2c2c1065b4' value=True)]\n"
     ]
    }
   ],
   "source": [
    "print(f\"Character position: {updated_character.position}\")\n",
    "print(f\"Test item position: {updated_test_item.position}\")\n",
    "print(f\"Test item position: {updated_test_item.stored_in}\")\n",
    "print(f\"Character inventory: {updated_character.inventory}\")"
   ]
  },
  {
   "cell_type": "code",
   "execution_count": 10,
   "metadata": {},
   "outputs": [
    {
     "name": "stdout",
     "output_type": "stream",
     "text": [
      "Applying 1 actions\n",
      "Drop result: results=[ActionResult(action_instance=ActionInstance(source_id='72c66540-a922-4864-a2ca-8a6d2c266440', target_id='1b611134-5c09-4c6c-b0d8-bc98e1ea8715', action=Drop(name='Drop', prerequisites=Prerequisites(source_statements=[Statement(name='Statement', id='cc709da4-2916-4dc9-b959-a666f2d189e8', conditions={'can_act': True}, comparisons={})], target_statements=[], source_target_statements=[]), consequences=Consequences(source_transformations={}, target_transformations={'stored_in': <function clear_stored_in at 0x000001926DEE7AC0>, 'node': <function set_node at 0x000001926DEE5D80>}))), success=True, error=None)]\n"
     ]
    }
   ],
   "source": [
    "\n",
    "# Perform the drop action at the new position\n",
    "drop_action = ActionInstance(source_id=character_id, target_id=test_item_id, action=Drop())\n",
    "drop_payload = ActionsPayload(actions=[drop_action])\n",
    "drop_result = grid_map.apply_actions_payload(drop_payload)\n",
    "print(f\"Drop result: {drop_result}\")\n",
    "\n"
   ]
  },
  {
   "cell_type": "code",
   "execution_count": 11,
   "metadata": {},
   "outputs": [
    {
     "name": "stdout",
     "output_type": "stream",
     "text": [
      "Character inventory: []\n",
      "Character position: name='Position' id='8c8cdce1-f685-43ea-8cf9-aa9d70f86f5a' value=(3, 4)\n",
      "Test item position: name='Position' id='8c8cdce1-f685-43ea-8cf9-aa9d70f86f5a' value=(3, 4)\n",
      "Test item stored in: None\n"
     ]
    }
   ],
   "source": [
    "# Retrieve the updated entities from the registry\n",
    "updated_character = Character.get_instance(character_id)\n",
    "updated_test_item = TestItem.get_instance(test_item_id)\n",
    "print(f\"Character inventory: {updated_character.inventory}\")\n",
    "print(f\"Character position: {updated_character.position}\")\n",
    "print(f\"Test item position: {updated_test_item.position}\")\n",
    "print(f\"Test item stored in: {updated_test_item.stored_in}\")"
   ]
  },
  {
   "cell_type": "code",
   "execution_count": null,
   "metadata": {},
   "outputs": [],
   "source": []
  },
  {
   "cell_type": "code",
   "execution_count": 12,
   "metadata": {},
   "outputs": [
    {
     "data": {
      "text/plain": [
       "[]"
      ]
     },
     "execution_count": 12,
     "metadata": {},
     "output_type": "execute_result"
    }
   ],
   "source": [
    "updated_character.inventory"
   ]
  },
  {
   "cell_type": "code",
   "execution_count": 13,
   "metadata": {},
   "outputs": [
    {
     "name": "stdout",
     "output_type": "stream",
     "text": [
      "Applying 3 actions\n",
      "Move back result: results=[ActionResult(action_instance=ActionInstance(source_id='72c66540-a922-4864-a2ca-8a6d2c266440', target_id='847eec2d-3189-4fb0-a5f9-4939a8aed09d', action=Move(name='Move Step', prerequisites=Prerequisites(source_statements=[Statement(name='Statement', id='484f1c4e-0618-44e8-a334-18f21d5a0443', conditions={'can_act': True}, comparisons={})], target_statements=[Statement(name='Statement', id='05a46b54-825c-4a00-b58d-40b82c808ef8', conditions={'blocks_movement': False}, comparisons={})], source_target_statements=[Statement(name='Statement', id='ecf5827b-ccbb-44f6-8965-bcb5e1a3f8a1', conditions={}, comparisons={'source_position': ('node', 'node', <function source_node_comparison at 0x000001926DF536D0>)})]), consequences=Consequences(source_transformations={'node': <function move_to_target_node at 0x000001926DEE67A0>}, target_transformations={}))), success=True, error=None), ActionResult(action_instance=ActionInstance(source_id='72c66540-a922-4864-a2ca-8a6d2c266440', target_id='111b3a2d-f2b9-434a-84ef-fb3654d132c3', action=Move(name='Move Step', prerequisites=Prerequisites(source_statements=[Statement(name='Statement', id='484f1c4e-0618-44e8-a334-18f21d5a0443', conditions={'can_act': True}, comparisons={})], target_statements=[Statement(name='Statement', id='05a46b54-825c-4a00-b58d-40b82c808ef8', conditions={'blocks_movement': False}, comparisons={})], source_target_statements=[Statement(name='Statement', id='ecf5827b-ccbb-44f6-8965-bcb5e1a3f8a1', conditions={}, comparisons={'source_position': ('node', 'node', <function source_node_comparison at 0x000001926DF536D0>)})]), consequences=Consequences(source_transformations={'node': <function move_to_target_node at 0x000001926DEE67A0>}, target_transformations={}))), success=True, error=None), ActionResult(action_instance=ActionInstance(source_id='72c66540-a922-4864-a2ca-8a6d2c266440', target_id='b26bbe44-bde9-4f48-9dc7-b28d389b7dab', action=Move(name='Move Step', prerequisites=Prerequisites(source_statements=[Statement(name='Statement', id='484f1c4e-0618-44e8-a334-18f21d5a0443', conditions={'can_act': True}, comparisons={})], target_statements=[Statement(name='Statement', id='05a46b54-825c-4a00-b58d-40b82c808ef8', conditions={'blocks_movement': False}, comparisons={})], source_target_statements=[Statement(name='Statement', id='ecf5827b-ccbb-44f6-8965-bcb5e1a3f8a1', conditions={}, comparisons={'source_position': ('node', 'node', <function source_node_comparison at 0x000001926DF536D0>)})]), consequences=Consequences(source_transformations={'node': <function move_to_target_node at 0x000001926DEE67A0>}, target_transformations={}))), success=True, error=None)]\n"
     ]
    }
   ],
   "source": [
    "\n",
    "# Move the character back to the original position\n",
    "move_back_actions = [\n",
    "    ActionInstance(source_id=character_id, target_id=grid_map.get_node((2, 4)).entities[0].id, action=Move()),\n",
    "    ActionInstance(source_id=character_id, target_id=grid_map.get_node((2, 3)).entities[0].id, action=Move()),\n",
    "    ActionInstance(source_id=character_id, target_id=grid_map.get_node((2, 2)).entities[0].id, action=Move())\n",
    "]\n",
    "move_back_payload = ActionsPayload(actions=move_back_actions)\n",
    "move_back_result = grid_map.apply_actions_payload(move_back_payload)\n",
    "print(f\"Move back result: {move_back_result}\")\n",
    "\n"
   ]
  },
  {
   "cell_type": "code",
   "execution_count": 14,
   "metadata": {},
   "outputs": [],
   "source": [
    "updated_test_item.stored_in"
   ]
  },
  {
   "cell_type": "code",
   "execution_count": 15,
   "metadata": {},
   "outputs": [
    {
     "name": "stdout",
     "output_type": "stream",
     "text": [
      "Character position: name='Position' id='595b9129-0338-4f10-8935-74479996a041' value=(2, 2)\n",
      "Test item position: name='Position' id='8c8cdce1-f685-43ea-8cf9-aa9d70f86f5a' value=(3, 4)\n",
      "Test item stored in: None\n"
     ]
    }
   ],
   "source": [
    "# Retrieve the updated entities from the registry\n",
    "updated_character = Character.get_instance(character_id)\n",
    "updated_test_item = TestItem.get_instance(test_item_id)\n",
    "print(f\"Character position: {updated_character.position}\")\n",
    "print(f\"Test item position: {updated_test_item.position}\")\n",
    "print(f\"Test item stored in: {updated_test_item.stored_in}\")"
   ]
  }
 ],
 "metadata": {
  "kernelspec": {
   "display_name": "Python 3",
   "language": "python",
   "name": "python3"
  },
  "language_info": {
   "codemirror_mode": {
    "name": "ipython",
    "version": 3
   },
   "file_extension": ".py",
   "mimetype": "text/x-python",
   "name": "python",
   "nbconvert_exporter": "python",
   "pygments_lexer": "ipython3",
   "version": "3.10.6"
  }
 },
 "nbformat": 4,
 "nbformat_minor": 2
}
