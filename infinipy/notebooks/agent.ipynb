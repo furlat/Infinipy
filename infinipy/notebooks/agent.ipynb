{
 "cells": [
  {
   "cell_type": "code",
   "execution_count": 1,
   "metadata": {},
   "outputs": [
    {
     "name": "stderr",
     "output_type": "stream",
     "text": [
      "........................................\n",
      "llama_new_context_with_model: n_ctx      = 30016\n",
      "llama_new_context_with_model: n_batch    = 512\n",
      "llama_new_context_with_model: n_ubatch   = 512\n",
      "llama_new_context_with_model: freq_base  = 1000000.0\n",
      "llama_new_context_with_model: freq_scale = 1\n",
      "ggml_metal_init: allocating\n",
      "ggml_metal_init: found device: Apple M3 Max\n",
      "ggml_metal_init: picking default device: Apple M3 Max\n",
      "ggml_metal_init: using embedded metal library\n",
      "ggml_metal_init: GPU name:   Apple M3 Max\n",
      "ggml_metal_init: GPU family: MTLGPUFamilyApple9  (1009)\n",
      "ggml_metal_init: GPU family: MTLGPUFamilyCommon3 (3003)\n",
      "ggml_metal_init: GPU family: MTLGPUFamilyMetal3  (5001)\n",
      "ggml_metal_init: simdgroup reduction support   = true\n",
      "ggml_metal_init: simdgroup matrix mul. support = true\n",
      "ggml_metal_init: hasUnifiedMemory              = true\n",
      "ggml_metal_init: recommendedMaxWorkingSetSize  = 103079.22 MB\n",
      "ggml_backend_metal_buffer_type_alloc_buffer: allocated buffer, size =  3752.00 MiB, (50949.80 / 98304.00)\n",
      "llama_kv_cache_init:      Metal KV buffer size =  3752.00 MiB\n",
      "llama_new_context_with_model: KV self size  = 3752.00 MiB, K (f16): 1876.00 MiB, V (f16): 1876.00 MiB\n",
      "llama_new_context_with_model:        CPU  output buffer size =     0.12 MiB\n",
      "ggml_backend_metal_buffer_type_alloc_buffer: allocated buffer, size =  1986.67 MiB, (52936.47 / 98304.00)\n",
      "llama_new_context_with_model:      Metal compute buffer size =  1986.66 MiB\n",
      "llama_new_context_with_model:        CPU compute buffer size =    66.63 MiB\n",
      "llama_new_context_with_model: graph nodes  = 1638\n",
      "llama_new_context_with_model: graph splits = 2\n",
      "AVX = 0 | AVX_VNNI = 0 | AVX2 = 0 | AVX512 = 0 | AVX512_VBMI = 0 | AVX512_VNNI = 0 | FMA = 0 | NEON = 1 | ARM_FMA = 1 | F16C = 0 | FP16_VA = 1 | WASM_SIMD = 0 | BLAS = 1 | SSE3 = 0 | SSSE3 = 0 | VSX = 0 | MATMUL_INT8 = 0 | \n",
      "Model metadata: {'general.quantization_version': '2', 'tokenizer.chat_template': \"{% for message in messages %}{{'<|im_start|>' + message['role'] + '\\n' + message['content'] + '<|im_end|>' + '\\n'}}{% endfor %}{% if add_generation_prompt %}{{ '<|im_start|>assistant\\n' }}{% endif %}\", 'tokenizer.ggml.add_eos_token': 'false', 'tokenizer.ggml.add_bos_token': 'true', 'tokenizer.ggml.padding_token_id': '2', 'tokenizer.ggml.unknown_token_id': '0', 'tokenizer.ggml.eos_token_id': '32000', 'tokenizer.ggml.bos_token_id': '1', 'tokenizer.ggml.model': 'llama', 'llama.expert_used_count': '2', 'llama.attention.head_count_kv': '8', 'llama.context_length': '32768', 'llama.attention.head_count': '32', 'llama.rope.freq_base': '1000000.000000', 'llama.rope.dimension_count': '128', 'general.file_type': '7', 'llama.feed_forward_length': '14336', 'llama.embedding_length': '4096', 'llama.expert_count': '8', 'llama.block_count': '32', 'general.architecture': 'llama', 'llama.attention.layer_norm_rms_epsilon': '0.000010', 'general.name': 'emozilla'}\n",
      "Guessed chat format: chatml\n"
     ]
    }
   ],
   "source": [
    "from typing import List, Optional, Union, Tuple\n",
    "from infinipy.actions import Prerequisites, Goal\n",
    "from infinipy.entity import Statement, Attribute\n",
    "from infinipy.nodes import GameEntity, Node, Position\n",
    "from infinipy.language_state import GoalState\n",
    "from infinipy.gridmap import GridMap\n",
    "from infinipy.interactions import Character, Door, Key, Treasure, Floor, Wall, InanimateEntity, IsPickupable, TestItem, Open, Close, Unlock, Lock, Pickup, Drop, Move\n",
    "from infinipy.game.main import generate_dungeon\n",
    "from infinipy.shapes import Rectangle, Shadow, Radius, RayCast, BlockedRaycast\n",
    "from infinipy.agents import Agent\n",
    "\n",
    "def source_target_position_comparison(source: tuple[int,int], target: tuple[int,int]) -> bool:\n",
    "    \"\"\"Check if the source entity's position is the same as the target entity's position.\"\"\"\n",
    "    if source and target:\n",
    "        return source == target\n",
    "    return False\n",
    "\n",
    "def treasure_in_neighborhood(source: GameEntity, target: Optional[GameEntity] = None) -> bool:\n",
    "    \"\"\"Check if the treasure is in the character's neighborhood.\"\"\"\n",
    "    if source.node and target and target.node:\n",
    "        return source.node in target.node.neighbors()\n",
    "    return False\n",
    "\n",
    "def key_in_inventory(source: GameEntity, target: Optional[GameEntity] = None) -> bool:\n",
    "    \"\"\"Check if the key is in the character's inventory.\"\"\"\n",
    "    if target:\n",
    "        return target in source.inventory\n",
    "    return False\n",
    "\n",
    "def is_treasure(source: GameEntity, target: Optional[GameEntity] = None) -> bool:\n",
    "    \"\"\"Check if the target entity is a Treasure.\"\"\"\n",
    "    return isinstance(target, Treasure)\n",
    "\n",
    "def is_golden_key(source: GameEntity, target: Optional[GameEntity] = None) -> bool:\n",
    "    \"\"\"Check if the entity is a Golden Key.\"\"\"\n",
    "    return isinstance(target, Key) and target.key_name.value == \"Golden Key\"\n",
    "\n",
    "def is_door(entity: GameEntity, target: Optional[GameEntity] = None) -> bool:\n",
    "    \"\"\"Check if the entity is a Door.\"\"\"\n",
    "    return isinstance(entity, Door)\n",
    "\n",
    "# Example usage\n",
    "grid_map = GridMap(width=10, height=10)\n",
    "grid_map.register_actions([Move, Pickup,  Open, Close, Unlock, Lock])\n",
    "room_width, room_height = 6, 6\n",
    "character, door, key, treasure = generate_dungeon(grid_map, room_width, room_height)\n",
    "grid_map.generate_entity_type_map()\n",
    "\n",
    "# Goal 1: Check if the character's position is the same as the treasure's position\n",
    "reach_treasure_goal = Goal(\n",
    "    name=\"Reach the treasure\",\n",
    "    source_entity_id=character.id,\n",
    "    target_entity_id=treasure.id,\n",
    "    prerequisites=Prerequisites(\n",
    "        source_statements=[Statement(conditions={\"can_act\": True})],\n",
    "        target_statements=[Statement(callables=[is_treasure])],\n",
    "        source_target_statements=[\n",
    "            Statement(comparisons={\n",
    "                \"source_position\": (\"position\", \"position\", source_target_position_comparison)\n",
    "            })\n",
    "        ]\n",
    "    )\n",
    ")\n",
    "\n",
    "# Goal 2: Check if the treasure is in the character's neighborhood\n",
    "treasure_in_neighborhood_goal = Goal(\n",
    "    name=\"Treasure in neighborhood\",\n",
    "    source_entity_id=character.id,\n",
    "    target_entity_id=treasure.id,\n",
    "    prerequisites=Prerequisites(\n",
    "        source_statements=[Statement(conditions={\"can_act\": True})],\n",
    "        target_statements=[Statement(callables=[is_treasure])],\n",
    "        source_target_statements=[\n",
    "            Statement(callables=[treasure_in_neighborhood])\n",
    "        ]\n",
    "    )\n",
    ")\n",
    "\n",
    "# Goal 3: Check if the key is in the character's inventory\n",
    "key_in_inventory_goal = Goal(\n",
    "    name=\"Key in inventory\",\n",
    "    source_entity_id=character.id,\n",
    "    target_entity_id=key.id,\n",
    "    prerequisites=Prerequisites(\n",
    "        source_statements=[Statement(conditions={\"can_act\": True})],\n",
    "        target_statements=[Statement(callables=[is_golden_key])],\n",
    "        source_target_statements=[\n",
    "            Statement(callables=[key_in_inventory])\n",
    "        ]\n",
    "    )\n",
    ")\n",
    "\n",
    "# Goal 4: Check if the door is unlocked\n",
    "door_unlocked_goal = Goal(\n",
    "    name=\"Door unlocked\",\n",
    "    source_entity_id=door.id,\n",
    "    prerequisites=Prerequisites(\n",
    "        source_statements=[\n",
    "            Statement(callables=[is_door]),\n",
    "            Statement(conditions={\"is_locked\": False})\n",
    "        ],\n",
    "        target_statements=[],\n",
    "        source_target_statements=[]\n",
    "    )\n",
    ")\n",
    "\n",
    "# goals = [reach_treasure_goal, treasure_in_neighborhood_goal, key_in_inventory_goal, door_unlocked_goal]\n",
    "goals = [key_in_inventory_goal]\n",
    "model_path = \"/Users/tommasofurlanello/Documents/Dev/models/TheBloke/dolphin-2.5-mixtral-8x7b-GGUF/dolphin-2.5-mixtral-8x7b.Q8_0.gguf\"\n",
    "# model_path = \"/Users/tommasofurlanello/Documents/Dev/models/NousResearch/Nous-Hermes-2-Mixtral-8x7B-DPO-GGUF/Nous-Hermes-2-Mixtral-8x7B-DPO.Q8_0.gguf\"\n",
    "# model_path = \"/Users/tommasofurlanello/Documents/Dev/models/NousResearch/Hermes-2-Pro-Mistral-7B-GGUF/Hermes-2-Pro-Mistral-7B.Q8_0.gguf\"\n",
    "# model_path = None\n",
    "agent = Agent(\n",
    "    goals=goals,\n",
    "    character_id=character.id,\n",
    "    actions=grid_map.get_actions(),\n",
    "    entity_type_map=grid_map.entity_type_map,\n",
    "    llm = model_path\n",
    "\n",
    ")\n",
    "mdp = True\n",
    "if mdp:\n",
    "    shape = grid_map.get_rectangle()\n",
    "else:\n",
    "    character_node = GameEntity.get_instance(character.id).node\n",
    "    shape = grid_map.get_shadow(source=character_node, max_radius=5)\n",
    "\n"
   ]
  },
  {
   "cell_type": "code",
   "execution_count": 2,
   "metadata": {},
   "outputs": [
    {
     "data": {
      "text/plain": [
       "['East Move Floor',\n",
       " 'North Move Floor',\n",
       " 'NorthEast Move Floor',\n",
       " 'NorthWest Move Floor',\n",
       " 'West Move Floor']"
      ]
     },
     "execution_count": 2,
     "metadata": {},
     "output_type": "execute_result"
    }
   ],
   "source": [
    "agent.derive_allowed_strings(grid_map)"
   ]
  },
  {
   "cell_type": "code",
   "execution_count": 3,
   "metadata": {},
   "outputs": [
    {
     "data": {
      "text/plain": [
       "{}"
      ]
     },
     "execution_count": 3,
     "metadata": {},
     "output_type": "execute_result"
    }
   ],
   "source": [
    "agent.allowed_strings_count"
   ]
  },
  {
   "cell_type": "code",
   "execution_count": 4,
   "metadata": {},
   "outputs": [
    {
     "name": "stdout",
     "output_type": "stream",
     "text": [
      "\n",
      "--- Step 0 ---\n",
      "Generating generator for ['East Move Floor', 'North Move Floor', 'NorthEast Move Floor', 'NorthWest Move Floor', 'West Move Floor']\n"
     ]
    },
    {
     "name": "stderr",
     "output_type": "stream",
     "text": [
      "\n",
      "llama_print_timings:        load time =    4684.39 ms\n",
      "llama_print_timings:      sample time =       0.41 ms /     5 runs   (    0.08 ms per token, 12345.68 tokens per second)\n",
      "llama_print_timings: prompt eval time =   17088.76 ms /  2663 tokens (    6.42 ms per token,   155.83 tokens per second)\n",
      "llama_print_timings:        eval time =     205.96 ms /     4 runs   (   51.49 ms per token,    19.42 tokens per second)\n",
      "llama_print_timings:       total time =   17308.72 ms /  2667 tokens\n"
     ]
    },
    {
     "name": "stdout",
     "output_type": "stream",
     "text": [
      "\n",
      "Action State:\n",
      "\n",
      "\n",
      "Generated Action:\n",
      "East Move Floor\n",
      "Attemping to find entity of type <class 'infinipy.interactions.Floor'> in node name='' id='b68ec7cc-e25c-4864-a6ac-d71190537775' position=Position(name='Position', id='d8175c3b-69fc-4ba2-aa3f-74ab1f02a6b3', value=(6, 1)) entities=[Floor(id=b0bf2f17-5486-4a56-905b-66d6edec2d43, name=Floor_6_1, position=(6, 1))] gridmap_id='d5fb5c7d-efa2-4d8c-ac31-641303664ef8' blocks_movement=BlocksMovement(name='BlocksMovement', id='7e1081e4-6e96-4f40-bd8d-ef6d102728a2', value=False) blocks_light=BlocksLight(name='BlocksLight', id='a8d6113c-2366-419f-a29a-b52bdd1dd6d0', value=False) hash_resolution='default' starting from action string East Move Floor\n",
      "\n",
      "Action Payload:\n",
      "actions=[ActionInstance(source_id='f3fab05f-d9e4-4a59-9f29-e5f2cfb8c51d', target_id='b0bf2f17-5486-4a56-905b-66d6edec2d43', action=Move(name='Move Step', prerequisites=Prerequisites(source_statements=[Statement(name='Statement', id='8493120c-a519-40cd-8b0d-8eb9f2a53617', conditions={'can_act': True}, comparisons={}, callables=[])], target_statements=[Statement(name='Statement', id='89be9c3b-7e05-40e9-af15-3aebf5450add', conditions={'blocks_movement': False}, comparisons={}, callables=[])], source_target_statements=[Statement(name='Statement', id='1ae5bd13-873f-458d-8273-9170b9a20d78', conditions={}, comparisons={'source_position': ('node', 'node', <function source_node_comparison_and_walkable at 0x10e613740>)}, callables=[])]), consequences=Consequences(source_transformations={'node': <function move_to_target_node at 0x10e6136a0>}, target_transformations={})))] results=None\n",
      "Applying 1 actions\n",
      "Attempting to apply action: Move Step\n",
      "Action applied successfully: Move Step\n",
      "\n",
      "Action Results:\n",
      "results=[ActionResult(action_instance=ActionInstance(source_id='f3fab05f-d9e4-4a59-9f29-e5f2cfb8c51d', target_id='b0bf2f17-5486-4a56-905b-66d6edec2d43', action=Move(name='Move Step', prerequisites=Prerequisites(source_statements=[Statement(name='Statement', id='8493120c-a519-40cd-8b0d-8eb9f2a53617', conditions={'can_act': True}, comparisons={}, callables=[])], target_statements=[Statement(name='Statement', id='89be9c3b-7e05-40e9-af15-3aebf5450add', conditions={'blocks_movement': False}, comparisons={}, callables=[])], source_target_statements=[Statement(name='Statement', id='1ae5bd13-873f-458d-8273-9170b9a20d78', conditions={}, comparisons={'source_position': ('node', 'node', <function source_node_comparison_and_walkable at 0x10e613740>)}, callables=[])]), consequences=Consequences(source_transformations={'node': <function move_to_target_node at 0x10e6136a0>}, target_transformations={}))), success=True, error=None, failed_prerequisites=[], state_before={'source': {'blocks_movement': False, 'blocks_light': False, 'health': 100, 'max_health': 100, 'attack_power': 10, 'can_act': True, 'position': (5, 1), 'inventory': []}, 'target': {'blocks_movement': False, 'blocks_light': False, 'material': '', 'position': (6, 1), 'inventory': []}}, state_after={'source': {'blocks_movement': False, 'blocks_light': False, 'health': 100, 'max_health': 100, 'attack_power': 10, 'can_act': True, 'position': (6, 1), 'inventory': []}, 'target': {'blocks_movement': False, 'blocks_light': False, 'material': '', 'position': (6, 1), 'inventory': []}})]\n",
      "\n",
      "--- Step 1 ---\n"
     ]
    },
    {
     "name": "stderr",
     "output_type": "stream",
     "text": [
      "\n",
      "llama_print_timings:        load time =    4684.39 ms\n",
      "llama_print_timings:      sample time =       0.51 ms /     7 runs   (    0.07 ms per token, 13725.49 tokens per second)\n",
      "llama_print_timings: prompt eval time =   15339.62 ms /  2857 tokens (    5.37 ms per token,   186.25 tokens per second)\n",
      "llama_print_timings:        eval time =     308.05 ms /     6 runs   (   51.34 ms per token,    19.48 tokens per second)\n",
      "llama_print_timings:       total time =   15663.44 ms /  2863 tokens\n"
     ]
    },
    {
     "name": "stdout",
     "output_type": "stream",
     "text": [
      "\n",
      "Action State:\n",
      "# Action Result Analysis\n",
      "## Action: Move\n",
      "### Result: Success\n",
      "### Before:\n",
      "- Source: Character 'Player' (5, 1) [blocks_movement: False, blocks_light: False, health: 100, max_health: 100, attack_power: 10, can_act: True, inventory: []]\n",
      "- Target: Floor 'Floor_6_1' (6, 1) [blocks_movement: False, blocks_light: False, material: , inventory: []]\n",
      "### Changes:\n",
      "- Source: Character 'Player' [position: (5, 1) -> (6, 1)]\n",
      "### Natural Language Summary:\n",
      "The position: (5, 1) of Character 'Player' changed to (6, 1) as a result of Move.\n",
      "\n",
      "\n",
      "Generated Action:\n",
      "NorthEast Move Floor\n",
      "Attemping to find entity of type <class 'infinipy.interactions.Floor'> in node name='' id='c2b81a54-44d1-4c0d-b856-e58989f71e7f' position=Position(name='Position', id='43cb38dd-f967-4c34-8a29-40f645d6f533', value=(7, 0)) entities=[Floor(id=1450f95e-3725-43d5-b607-545060a6357f, name=Floor_7_0, position=(7, 0))] gridmap_id='d5fb5c7d-efa2-4d8c-ac31-641303664ef8' blocks_movement=BlocksMovement(name='BlocksMovement', id='87f6acb0-5f65-47fd-9d96-921aa0de99ba', value=False) blocks_light=BlocksLight(name='BlocksLight', id='8458ad73-f10e-47db-aed4-52492825877c', value=False) hash_resolution='default' starting from action string NorthEast Move Floor\n",
      "\n",
      "Action Payload:\n",
      "actions=[ActionInstance(source_id='f3fab05f-d9e4-4a59-9f29-e5f2cfb8c51d', target_id='1450f95e-3725-43d5-b607-545060a6357f', action=Move(name='Move Step', prerequisites=Prerequisites(source_statements=[Statement(name='Statement', id='8493120c-a519-40cd-8b0d-8eb9f2a53617', conditions={'can_act': True}, comparisons={}, callables=[])], target_statements=[Statement(name='Statement', id='89be9c3b-7e05-40e9-af15-3aebf5450add', conditions={'blocks_movement': False}, comparisons={}, callables=[])], source_target_statements=[Statement(name='Statement', id='1ae5bd13-873f-458d-8273-9170b9a20d78', conditions={}, comparisons={'source_position': ('node', 'node', <function source_node_comparison_and_walkable at 0x10e613740>)}, callables=[])]), consequences=Consequences(source_transformations={'node': <function move_to_target_node at 0x10e6136a0>}, target_transformations={})))] results=None\n",
      "Applying 1 actions\n",
      "Attempting to apply action: Move Step\n",
      "Action applied successfully: Move Step\n",
      "\n",
      "Action Results:\n",
      "results=[ActionResult(action_instance=ActionInstance(source_id='f3fab05f-d9e4-4a59-9f29-e5f2cfb8c51d', target_id='1450f95e-3725-43d5-b607-545060a6357f', action=Move(name='Move Step', prerequisites=Prerequisites(source_statements=[Statement(name='Statement', id='8493120c-a519-40cd-8b0d-8eb9f2a53617', conditions={'can_act': True}, comparisons={}, callables=[])], target_statements=[Statement(name='Statement', id='89be9c3b-7e05-40e9-af15-3aebf5450add', conditions={'blocks_movement': False}, comparisons={}, callables=[])], source_target_statements=[Statement(name='Statement', id='1ae5bd13-873f-458d-8273-9170b9a20d78', conditions={}, comparisons={'source_position': ('node', 'node', <function source_node_comparison_and_walkable at 0x10e613740>)}, callables=[])]), consequences=Consequences(source_transformations={'node': <function move_to_target_node at 0x10e6136a0>}, target_transformations={}))), success=True, error=None, failed_prerequisites=[], state_before={'source': {'blocks_movement': False, 'blocks_light': False, 'health': 100, 'max_health': 100, 'attack_power': 10, 'can_act': True, 'position': (6, 1), 'inventory': []}, 'target': {'blocks_movement': False, 'blocks_light': False, 'material': '', 'position': (7, 0), 'inventory': []}}, state_after={'source': {'blocks_movement': False, 'blocks_light': False, 'health': 100, 'max_health': 100, 'attack_power': 10, 'can_act': True, 'position': (7, 0), 'inventory': []}, 'target': {'blocks_movement': False, 'blocks_light': False, 'material': '', 'position': (7, 0), 'inventory': []}})]\n",
      "\n",
      "--- Step 2 ---\n",
      "Generating generator for ['East Move Floor', 'South Move Floor', 'SouthEast Move Floor', 'SouthWest Move Floor', 'West Move Floor']\n"
     ]
    },
    {
     "name": "stderr",
     "output_type": "stream",
     "text": [
      "\n",
      "llama_print_timings:        load time =    4684.39 ms\n",
      "llama_print_timings:      sample time =       0.58 ms /     8 runs   (    0.07 ms per token, 13675.21 tokens per second)\n",
      "llama_print_timings: prompt eval time =   15516.63 ms /  2962 tokens (    5.24 ms per token,   190.89 tokens per second)\n",
      "llama_print_timings:        eval time =     361.14 ms /     7 runs   (   51.59 ms per token,    19.38 tokens per second)\n",
      "llama_print_timings:       total time =   15897.86 ms /  2969 tokens\n"
     ]
    },
    {
     "name": "stdout",
     "output_type": "stream",
     "text": [
      "\n",
      "Action State:\n",
      "# Action Result Analysis\n",
      "## Action: Move\n",
      "### Result: Success\n",
      "### Before:\n",
      "- Source: Character 'Player' (6, 1) [blocks_movement: False, blocks_light: False, health: 100, max_health: 100, attack_power: 10, can_act: True, inventory: []]\n",
      "- Target: Floor 'Floor_7_0' (7, 0) [blocks_movement: False, blocks_light: False, material: , inventory: []]\n",
      "### Changes:\n",
      "- Source: Character 'Player' [position: (6, 1) -> (7, 0)]\n",
      "### Natural Language Summary:\n",
      "The position: (6, 1) of Character 'Player' changed to (7, 0) as a result of Move.\n",
      "\n",
      "\n",
      "Generated Action:\n",
      "SouthEast Move Floor\n",
      "Attemping to find entity of type <class 'infinipy.interactions.Floor'> in node name='' id='7620bece-3a5c-4b7c-b14c-583b19c4fd36' position=Position(name='Position', id='a22fb065-afc6-4390-8768-cb2f029add3b', value=(8, 1)) entities=[Floor(id=63f82b00-ebeb-4140-8579-a6923dad9a7f, name=Floor_8_1, position=(8, 1))] gridmap_id='d5fb5c7d-efa2-4d8c-ac31-641303664ef8' blocks_movement=BlocksMovement(name='BlocksMovement', id='e4501b9d-b935-4721-8805-b5fb4feb8f69', value=False) blocks_light=BlocksLight(name='BlocksLight', id='5ffd123a-2c15-4e7d-87e6-a5ceed03950d', value=False) hash_resolution='default' starting from action string SouthEast Move Floor\n",
      "\n",
      "Action Payload:\n",
      "actions=[ActionInstance(source_id='f3fab05f-d9e4-4a59-9f29-e5f2cfb8c51d', target_id='63f82b00-ebeb-4140-8579-a6923dad9a7f', action=Move(name='Move Step', prerequisites=Prerequisites(source_statements=[Statement(name='Statement', id='8493120c-a519-40cd-8b0d-8eb9f2a53617', conditions={'can_act': True}, comparisons={}, callables=[])], target_statements=[Statement(name='Statement', id='89be9c3b-7e05-40e9-af15-3aebf5450add', conditions={'blocks_movement': False}, comparisons={}, callables=[])], source_target_statements=[Statement(name='Statement', id='1ae5bd13-873f-458d-8273-9170b9a20d78', conditions={}, comparisons={'source_position': ('node', 'node', <function source_node_comparison_and_walkable at 0x10e613740>)}, callables=[])]), consequences=Consequences(source_transformations={'node': <function move_to_target_node at 0x10e6136a0>}, target_transformations={})))] results=None\n",
      "Applying 1 actions\n",
      "Attempting to apply action: Move Step\n",
      "Action applied successfully: Move Step\n",
      "\n",
      "Action Results:\n",
      "results=[ActionResult(action_instance=ActionInstance(source_id='f3fab05f-d9e4-4a59-9f29-e5f2cfb8c51d', target_id='63f82b00-ebeb-4140-8579-a6923dad9a7f', action=Move(name='Move Step', prerequisites=Prerequisites(source_statements=[Statement(name='Statement', id='8493120c-a519-40cd-8b0d-8eb9f2a53617', conditions={'can_act': True}, comparisons={}, callables=[])], target_statements=[Statement(name='Statement', id='89be9c3b-7e05-40e9-af15-3aebf5450add', conditions={'blocks_movement': False}, comparisons={}, callables=[])], source_target_statements=[Statement(name='Statement', id='1ae5bd13-873f-458d-8273-9170b9a20d78', conditions={}, comparisons={'source_position': ('node', 'node', <function source_node_comparison_and_walkable at 0x10e613740>)}, callables=[])]), consequences=Consequences(source_transformations={'node': <function move_to_target_node at 0x10e6136a0>}, target_transformations={}))), success=True, error=None, failed_prerequisites=[], state_before={'source': {'blocks_movement': False, 'blocks_light': False, 'health': 100, 'max_health': 100, 'attack_power': 10, 'can_act': True, 'position': (7, 0), 'inventory': []}, 'target': {'blocks_movement': False, 'blocks_light': False, 'material': '', 'position': (8, 1), 'inventory': []}}, state_after={'source': {'blocks_movement': False, 'blocks_light': False, 'health': 100, 'max_health': 100, 'attack_power': 10, 'can_act': True, 'position': (8, 1), 'inventory': []}, 'target': {'blocks_movement': False, 'blocks_light': False, 'material': '', 'position': (8, 1), 'inventory': []}})]\n",
      "\n",
      "--- Step 3 ---\n",
      "Generating generator for ['East Move Floor', 'North Move Floor', 'NorthEast Move Floor', 'NorthWest Move Floor', 'South Move Floor', 'SouthEast Move Floor', 'West Move Floor']\n"
     ]
    },
    {
     "name": "stderr",
     "output_type": "stream",
     "text": [
      "\n",
      "llama_print_timings:        load time =    4684.39 ms\n",
      "llama_print_timings:      sample time =       0.45 ms /     6 runs   (    0.08 ms per token, 13215.86 tokens per second)\n",
      "llama_print_timings: prompt eval time =   17800.55 ms /  3196 tokens (    5.57 ms per token,   179.54 tokens per second)\n",
      "llama_print_timings:        eval time =     262.25 ms /     5 runs   (   52.45 ms per token,    19.07 tokens per second)\n",
      "llama_print_timings:       total time =   18078.89 ms /  3201 tokens\n"
     ]
    },
    {
     "name": "stdout",
     "output_type": "stream",
     "text": [
      "\n",
      "Action State:\n",
      "# Action Result Analysis\n",
      "## Action: Move\n",
      "### Result: Success\n",
      "### Before:\n",
      "- Source: Character 'Player' (7, 0) [blocks_movement: False, blocks_light: False, health: 100, max_health: 100, attack_power: 10, can_act: True, inventory: []]\n",
      "- Target: Floor 'Floor_8_1' (8, 1) [blocks_movement: False, blocks_light: False, material: , inventory: []]\n",
      "### Changes:\n",
      "- Source: Character 'Player' [position: (7, 0) -> (8, 1)]\n",
      "### Natural Language Summary:\n",
      "The position: (7, 0) of Character 'Player' changed to (8, 1) as a result of Move.\n",
      "\n",
      "\n",
      "Generated Action:\n",
      "SouthEast Move Floor\n",
      "Attemping to find entity of type <class 'infinipy.interactions.Floor'> in node name='' id='11c5e736-7293-4d60-a324-e40d199afda5' position=Position(name='Position', id='7454fea9-4828-4887-bb56-65802a2d9be1', value=(9, 2)) entities=[Floor(id=2b0f249f-cbf9-4fc5-baed-67e5d8b893a0, name=Floor_9_2, position=(9, 2))] gridmap_id='d5fb5c7d-efa2-4d8c-ac31-641303664ef8' blocks_movement=BlocksMovement(name='BlocksMovement', id='ce74ba92-ddbe-48c2-8050-5c847b2b5420', value=False) blocks_light=BlocksLight(name='BlocksLight', id='9f0b8caf-1e51-4b21-9722-f258fa00f5fc', value=False) hash_resolution='default' starting from action string SouthEast Move Floor\n",
      "\n",
      "Action Payload:\n",
      "actions=[ActionInstance(source_id='f3fab05f-d9e4-4a59-9f29-e5f2cfb8c51d', target_id='2b0f249f-cbf9-4fc5-baed-67e5d8b893a0', action=Move(name='Move Step', prerequisites=Prerequisites(source_statements=[Statement(name='Statement', id='8493120c-a519-40cd-8b0d-8eb9f2a53617', conditions={'can_act': True}, comparisons={}, callables=[])], target_statements=[Statement(name='Statement', id='89be9c3b-7e05-40e9-af15-3aebf5450add', conditions={'blocks_movement': False}, comparisons={}, callables=[])], source_target_statements=[Statement(name='Statement', id='1ae5bd13-873f-458d-8273-9170b9a20d78', conditions={}, comparisons={'source_position': ('node', 'node', <function source_node_comparison_and_walkable at 0x10e613740>)}, callables=[])]), consequences=Consequences(source_transformations={'node': <function move_to_target_node at 0x10e6136a0>}, target_transformations={})))] results=None\n",
      "Applying 1 actions\n",
      "Attempting to apply action: Move Step\n",
      "Action applied successfully: Move Step\n",
      "\n",
      "Action Results:\n",
      "results=[ActionResult(action_instance=ActionInstance(source_id='f3fab05f-d9e4-4a59-9f29-e5f2cfb8c51d', target_id='2b0f249f-cbf9-4fc5-baed-67e5d8b893a0', action=Move(name='Move Step', prerequisites=Prerequisites(source_statements=[Statement(name='Statement', id='8493120c-a519-40cd-8b0d-8eb9f2a53617', conditions={'can_act': True}, comparisons={}, callables=[])], target_statements=[Statement(name='Statement', id='89be9c3b-7e05-40e9-af15-3aebf5450add', conditions={'blocks_movement': False}, comparisons={}, callables=[])], source_target_statements=[Statement(name='Statement', id='1ae5bd13-873f-458d-8273-9170b9a20d78', conditions={}, comparisons={'source_position': ('node', 'node', <function source_node_comparison_and_walkable at 0x10e613740>)}, callables=[])]), consequences=Consequences(source_transformations={'node': <function move_to_target_node at 0x10e6136a0>}, target_transformations={}))), success=True, error=None, failed_prerequisites=[], state_before={'source': {'blocks_movement': False, 'blocks_light': False, 'health': 100, 'max_health': 100, 'attack_power': 10, 'can_act': True, 'position': (8, 1), 'inventory': []}, 'target': {'blocks_movement': False, 'blocks_light': False, 'material': '', 'position': (9, 2), 'inventory': []}}, state_after={'source': {'blocks_movement': False, 'blocks_light': False, 'health': 100, 'max_health': 100, 'attack_power': 10, 'can_act': True, 'position': (9, 2), 'inventory': []}, 'target': {'blocks_movement': False, 'blocks_light': False, 'material': '', 'position': (9, 2), 'inventory': []}})]\n",
      "\n",
      "--- Step 4 ---\n",
      "Generating generator for ['North Move Floor', 'NorthWest Move Floor', 'South Move Floor', 'SouthWest Move Floor', 'West Move Floor']\n"
     ]
    },
    {
     "name": "stderr",
     "output_type": "stream",
     "text": [
      "\n",
      "llama_print_timings:        load time =    4684.39 ms\n",
      "llama_print_timings:      sample time =       0.44 ms /     6 runs   (    0.07 ms per token, 13513.51 tokens per second)\n",
      "llama_print_timings: prompt eval time =   18080.83 ms /  3321 tokens (    5.44 ms per token,   183.68 tokens per second)\n",
      "llama_print_timings:        eval time =     265.86 ms /     5 runs   (   53.17 ms per token,    18.81 tokens per second)\n",
      "llama_print_timings:       total time =   18363.38 ms /  3326 tokens\n"
     ]
    },
    {
     "name": "stdout",
     "output_type": "stream",
     "text": [
      "\n",
      "Action State:\n",
      "# Action Result Analysis\n",
      "## Action: Move\n",
      "### Result: Success\n",
      "### Before:\n",
      "- Source: Character 'Player' (8, 1) [blocks_movement: False, blocks_light: False, health: 100, max_health: 100, attack_power: 10, can_act: True, inventory: []]\n",
      "- Target: Floor 'Floor_9_2' (9, 2) [blocks_movement: False, blocks_light: False, material: , inventory: []]\n",
      "### Changes:\n",
      "- Source: Character 'Player' [position: (8, 1) -> (9, 2)]\n",
      "### Natural Language Summary:\n",
      "The position: (8, 1) of Character 'Player' changed to (9, 2) as a result of Move.\n",
      "\n",
      "\n",
      "Generated Action:\n",
      "West Move Floor\n",
      "Attemping to find entity of type <class 'infinipy.interactions.Floor'> in node name='' id='c640f058-f637-4936-b7d7-06b61e25725d' position=Position(name='Position', id='eedaf53e-f97e-444f-ac8d-6540f66efb61', value=(8, 2)) entities=[Floor(id=6a8a27af-ef7f-48a6-97ca-2222875eb5fe, name=Floor_8_2, position=(8, 2))] gridmap_id='d5fb5c7d-efa2-4d8c-ac31-641303664ef8' blocks_movement=BlocksMovement(name='BlocksMovement', id='ca665ddf-0b4f-4ab1-920d-5f646b51174c', value=False) blocks_light=BlocksLight(name='BlocksLight', id='1287abb2-4f38-40e6-9847-2eacea647e25', value=False) hash_resolution='default' starting from action string West Move Floor\n",
      "\n",
      "Action Payload:\n",
      "actions=[ActionInstance(source_id='f3fab05f-d9e4-4a59-9f29-e5f2cfb8c51d', target_id='6a8a27af-ef7f-48a6-97ca-2222875eb5fe', action=Move(name='Move Step', prerequisites=Prerequisites(source_statements=[Statement(name='Statement', id='8493120c-a519-40cd-8b0d-8eb9f2a53617', conditions={'can_act': True}, comparisons={}, callables=[])], target_statements=[Statement(name='Statement', id='89be9c3b-7e05-40e9-af15-3aebf5450add', conditions={'blocks_movement': False}, comparisons={}, callables=[])], source_target_statements=[Statement(name='Statement', id='1ae5bd13-873f-458d-8273-9170b9a20d78', conditions={}, comparisons={'source_position': ('node', 'node', <function source_node_comparison_and_walkable at 0x10e613740>)}, callables=[])]), consequences=Consequences(source_transformations={'node': <function move_to_target_node at 0x10e6136a0>}, target_transformations={})))] results=None\n",
      "Applying 1 actions\n",
      "Attempting to apply action: Move Step\n",
      "Action applied successfully: Move Step\n",
      "\n",
      "Action Results:\n",
      "results=[ActionResult(action_instance=ActionInstance(source_id='f3fab05f-d9e4-4a59-9f29-e5f2cfb8c51d', target_id='6a8a27af-ef7f-48a6-97ca-2222875eb5fe', action=Move(name='Move Step', prerequisites=Prerequisites(source_statements=[Statement(name='Statement', id='8493120c-a519-40cd-8b0d-8eb9f2a53617', conditions={'can_act': True}, comparisons={}, callables=[])], target_statements=[Statement(name='Statement', id='89be9c3b-7e05-40e9-af15-3aebf5450add', conditions={'blocks_movement': False}, comparisons={}, callables=[])], source_target_statements=[Statement(name='Statement', id='1ae5bd13-873f-458d-8273-9170b9a20d78', conditions={}, comparisons={'source_position': ('node', 'node', <function source_node_comparison_and_walkable at 0x10e613740>)}, callables=[])]), consequences=Consequences(source_transformations={'node': <function move_to_target_node at 0x10e6136a0>}, target_transformations={}))), success=True, error=None, failed_prerequisites=[], state_before={'source': {'blocks_movement': False, 'blocks_light': False, 'health': 100, 'max_health': 100, 'attack_power': 10, 'can_act': True, 'position': (9, 2), 'inventory': []}, 'target': {'blocks_movement': False, 'blocks_light': False, 'material': '', 'position': (8, 2), 'inventory': []}}, state_after={'source': {'blocks_movement': False, 'blocks_light': False, 'health': 100, 'max_health': 100, 'attack_power': 10, 'can_act': True, 'position': (8, 2), 'inventory': []}, 'target': {'blocks_movement': False, 'blocks_light': False, 'material': '', 'position': (8, 2), 'inventory': []}})]\n",
      "\n",
      "--- Step 5 ---\n",
      "Generating generator for ['East Move Floor', 'North Move Floor', 'NorthEast Move Floor', 'NorthWest Move Floor', 'South Move Floor', 'SouthEast Move Floor']\n"
     ]
    },
    {
     "name": "stderr",
     "output_type": "stream",
     "text": [
      "\n",
      "llama_print_timings:        load time =    4684.39 ms\n",
      "llama_print_timings:      sample time =       0.61 ms /     8 runs   (    0.08 ms per token, 13114.75 tokens per second)\n",
      "llama_print_timings: prompt eval time =   20541.69 ms /  3566 tokens (    5.76 ms per token,   173.60 tokens per second)\n",
      "llama_print_timings:        eval time =     374.82 ms /     7 runs   (   53.55 ms per token,    18.68 tokens per second)\n",
      "llama_print_timings:       total time =   20937.27 ms /  3573 tokens\n"
     ]
    },
    {
     "name": "stdout",
     "output_type": "stream",
     "text": [
      "\n",
      "Action State:\n",
      "# Action Result Analysis\n",
      "## Action: Move\n",
      "### Result: Success\n",
      "### Before:\n",
      "- Source: Character 'Player' (9, 2) [blocks_movement: False, blocks_light: False, health: 100, max_health: 100, attack_power: 10, can_act: True, inventory: []]\n",
      "- Target: Floor 'Floor_8_2' (8, 2) [blocks_movement: False, blocks_light: False, material: , inventory: []]\n",
      "### Changes:\n",
      "- Source: Character 'Player' [position: (9, 2) -> (8, 2)]\n",
      "### Natural Language Summary:\n",
      "The position: (9, 2) of Character 'Player' changed to (8, 2) as a result of Move.\n",
      "\n",
      "\n",
      "Generated Action:\n",
      "SouthEast Move Floor\n",
      "Attemping to find entity of type <class 'infinipy.interactions.Floor'> in node name='' id='755fb62f-485b-4baa-a94d-30f2a32b4278' position=Position(name='Position', id='6dae93f4-2f98-40a8-9252-868f04e9f33a', value=(9, 3)) entities=[Floor(id=d2e9695d-359c-4e0e-bfe7-88d08a847f7d, name=Floor_9_3, position=(9, 3))] gridmap_id='d5fb5c7d-efa2-4d8c-ac31-641303664ef8' blocks_movement=BlocksMovement(name='BlocksMovement', id='a96dc4b9-4b62-4a78-a17e-924737386822', value=False) blocks_light=BlocksLight(name='BlocksLight', id='ac194b94-25e4-4967-b3ae-807080b89c13', value=False) hash_resolution='default' starting from action string SouthEast Move Floor\n",
      "\n",
      "Action Payload:\n",
      "actions=[ActionInstance(source_id='f3fab05f-d9e4-4a59-9f29-e5f2cfb8c51d', target_id='d2e9695d-359c-4e0e-bfe7-88d08a847f7d', action=Move(name='Move Step', prerequisites=Prerequisites(source_statements=[Statement(name='Statement', id='8493120c-a519-40cd-8b0d-8eb9f2a53617', conditions={'can_act': True}, comparisons={}, callables=[])], target_statements=[Statement(name='Statement', id='89be9c3b-7e05-40e9-af15-3aebf5450add', conditions={'blocks_movement': False}, comparisons={}, callables=[])], source_target_statements=[Statement(name='Statement', id='1ae5bd13-873f-458d-8273-9170b9a20d78', conditions={}, comparisons={'source_position': ('node', 'node', <function source_node_comparison_and_walkable at 0x10e613740>)}, callables=[])]), consequences=Consequences(source_transformations={'node': <function move_to_target_node at 0x10e6136a0>}, target_transformations={})))] results=None\n",
      "Applying 1 actions\n",
      "Attempting to apply action: Move Step\n",
      "Action applied successfully: Move Step\n",
      "\n",
      "Action Results:\n",
      "results=[ActionResult(action_instance=ActionInstance(source_id='f3fab05f-d9e4-4a59-9f29-e5f2cfb8c51d', target_id='d2e9695d-359c-4e0e-bfe7-88d08a847f7d', action=Move(name='Move Step', prerequisites=Prerequisites(source_statements=[Statement(name='Statement', id='8493120c-a519-40cd-8b0d-8eb9f2a53617', conditions={'can_act': True}, comparisons={}, callables=[])], target_statements=[Statement(name='Statement', id='89be9c3b-7e05-40e9-af15-3aebf5450add', conditions={'blocks_movement': False}, comparisons={}, callables=[])], source_target_statements=[Statement(name='Statement', id='1ae5bd13-873f-458d-8273-9170b9a20d78', conditions={}, comparisons={'source_position': ('node', 'node', <function source_node_comparison_and_walkable at 0x10e613740>)}, callables=[])]), consequences=Consequences(source_transformations={'node': <function move_to_target_node at 0x10e6136a0>}, target_transformations={}))), success=True, error=None, failed_prerequisites=[], state_before={'source': {'blocks_movement': False, 'blocks_light': False, 'health': 100, 'max_health': 100, 'attack_power': 10, 'can_act': True, 'position': (8, 2), 'inventory': []}, 'target': {'blocks_movement': False, 'blocks_light': False, 'material': '', 'position': (9, 3), 'inventory': []}}, state_after={'source': {'blocks_movement': False, 'blocks_light': False, 'health': 100, 'max_health': 100, 'attack_power': 10, 'can_act': True, 'position': (9, 3), 'inventory': []}, 'target': {'blocks_movement': False, 'blocks_light': False, 'material': '', 'position': (9, 3), 'inventory': []}})]\n",
      "\n",
      "--- Step 6 ---\n"
     ]
    },
    {
     "name": "stderr",
     "output_type": "stream",
     "text": [
      "\n",
      "llama_print_timings:        load time =    4684.39 ms\n",
      "llama_print_timings:      sample time =       0.31 ms /     4 runs   (    0.08 ms per token, 12903.23 tokens per second)\n",
      "llama_print_timings: prompt eval time =   20378.26 ms /  3682 tokens (    5.53 ms per token,   180.68 tokens per second)\n",
      "llama_print_timings:        eval time =     164.05 ms /     3 runs   (   54.68 ms per token,    18.29 tokens per second)\n",
      "llama_print_timings:       total time =   20557.13 ms /  3685 tokens\n"
     ]
    },
    {
     "name": "stdout",
     "output_type": "stream",
     "text": [
      "\n",
      "Action State:\n",
      "# Action Result Analysis\n",
      "## Action: Move\n",
      "### Result: Success\n",
      "### Before:\n",
      "- Source: Character 'Player' (8, 2) [blocks_movement: False, blocks_light: False, health: 100, max_health: 100, attack_power: 10, can_act: True, inventory: []]\n",
      "- Target: Floor 'Floor_9_3' (9, 3) [blocks_movement: False, blocks_light: False, material: , inventory: []]\n",
      "### Changes:\n",
      "- Source: Character 'Player' [position: (8, 2) -> (9, 3)]\n",
      "### Natural Language Summary:\n",
      "The position: (8, 2) of Character 'Player' changed to (9, 3) as a result of Move.\n",
      "\n",
      "\n",
      "Generated Action:\n",
      "West Move Floor\n",
      "Attemping to find entity of type <class 'infinipy.interactions.Floor'> in node name='' id='d932a91e-8fe4-4c34-974b-2ccc8e0d7dd4' position=Position(name='Position', id='bea0f03e-93da-43b3-bbb7-781224f4bbb7', value=(8, 3)) entities=[Floor(id=fb070339-99eb-4773-a24e-e9a77b69e840, name=Floor_8_3, position=(8, 3))] gridmap_id='d5fb5c7d-efa2-4d8c-ac31-641303664ef8' blocks_movement=BlocksMovement(name='BlocksMovement', id='3cb60f85-36ef-44c5-9f0b-8763cb7cd9fe', value=False) blocks_light=BlocksLight(name='BlocksLight', id='4da62133-5cd2-40b4-af3e-85b6352dd49a', value=False) hash_resolution='default' starting from action string West Move Floor\n",
      "\n",
      "Action Payload:\n",
      "actions=[ActionInstance(source_id='f3fab05f-d9e4-4a59-9f29-e5f2cfb8c51d', target_id='fb070339-99eb-4773-a24e-e9a77b69e840', action=Move(name='Move Step', prerequisites=Prerequisites(source_statements=[Statement(name='Statement', id='8493120c-a519-40cd-8b0d-8eb9f2a53617', conditions={'can_act': True}, comparisons={}, callables=[])], target_statements=[Statement(name='Statement', id='89be9c3b-7e05-40e9-af15-3aebf5450add', conditions={'blocks_movement': False}, comparisons={}, callables=[])], source_target_statements=[Statement(name='Statement', id='1ae5bd13-873f-458d-8273-9170b9a20d78', conditions={}, comparisons={'source_position': ('node', 'node', <function source_node_comparison_and_walkable at 0x10e613740>)}, callables=[])]), consequences=Consequences(source_transformations={'node': <function move_to_target_node at 0x10e6136a0>}, target_transformations={})))] results=None\n",
      "Applying 1 actions\n",
      "Attempting to apply action: Move Step\n",
      "Action applied successfully: Move Step\n",
      "\n",
      "Action Results:\n",
      "results=[ActionResult(action_instance=ActionInstance(source_id='f3fab05f-d9e4-4a59-9f29-e5f2cfb8c51d', target_id='fb070339-99eb-4773-a24e-e9a77b69e840', action=Move(name='Move Step', prerequisites=Prerequisites(source_statements=[Statement(name='Statement', id='8493120c-a519-40cd-8b0d-8eb9f2a53617', conditions={'can_act': True}, comparisons={}, callables=[])], target_statements=[Statement(name='Statement', id='89be9c3b-7e05-40e9-af15-3aebf5450add', conditions={'blocks_movement': False}, comparisons={}, callables=[])], source_target_statements=[Statement(name='Statement', id='1ae5bd13-873f-458d-8273-9170b9a20d78', conditions={}, comparisons={'source_position': ('node', 'node', <function source_node_comparison_and_walkable at 0x10e613740>)}, callables=[])]), consequences=Consequences(source_transformations={'node': <function move_to_target_node at 0x10e6136a0>}, target_transformations={}))), success=True, error=None, failed_prerequisites=[], state_before={'source': {'blocks_movement': False, 'blocks_light': False, 'health': 100, 'max_health': 100, 'attack_power': 10, 'can_act': True, 'position': (9, 3), 'inventory': []}, 'target': {'blocks_movement': False, 'blocks_light': False, 'material': '', 'position': (8, 3), 'inventory': []}}, state_after={'source': {'blocks_movement': False, 'blocks_light': False, 'health': 100, 'max_health': 100, 'attack_power': 10, 'can_act': True, 'position': (8, 3), 'inventory': []}, 'target': {'blocks_movement': False, 'blocks_light': False, 'material': '', 'position': (8, 3), 'inventory': []}})]\n",
      "\n",
      "--- Step 7 ---\n",
      "Generating generator for ['East Move Floor', 'North Move Floor', 'NorthEast Move Floor', 'South Move Floor', 'SouthEast Move Floor']\n"
     ]
    }
   ],
   "source": [
    "agent.run(grid_map, max_steps=10000, mdp=True)"
   ]
  },
  {
   "cell_type": "code",
   "execution_count": null,
   "metadata": {},
   "outputs": [],
   "source": [
    "# obs_text, act_text, goal_text = agent.generate_text(shape)"
   ]
  },
  {
   "cell_type": "code",
   "execution_count": null,
   "metadata": {},
   "outputs": [],
   "source": [
    "# agent.generate_action(obs_text, act_text, goal_text)"
   ]
  },
  {
   "cell_type": "code",
   "execution_count": null,
   "metadata": {},
   "outputs": [],
   "source": [
    "# agent = Agent(\n",
    "#     goals=goals,\n",
    "#     character_id=character.id,\n",
    "#     actions=grid_map.get_actions(),\n",
    "#     entity_type_map=grid_map.entity_type_map\n",
    "# )\n",
    "\n",
    "# # Run the agent\n",
    "# agent.run(grid_map, max_steps=10000, mdp=True)"
   ]
  },
  {
   "cell_type": "code",
   "execution_count": null,
   "metadata": {},
   "outputs": [],
   "source": [
    "# gang = Character.get_instance(character.id)\n"
   ]
  },
  {
   "cell_type": "code",
   "execution_count": null,
   "metadata": {},
   "outputs": [],
   "source": []
  }
 ],
 "metadata": {
  "kernelspec": {
   "display_name": "Python 3",
   "language": "python",
   "name": "python3"
  },
  "language_info": {
   "codemirror_mode": {
    "name": "ipython",
    "version": 3
   },
   "file_extension": ".py",
   "mimetype": "text/x-python",
   "name": "python",
   "nbconvert_exporter": "python",
   "pygments_lexer": "ipython3",
   "version": "3.10.6"
  }
 },
 "nbformat": 4,
 "nbformat_minor": 2
}
