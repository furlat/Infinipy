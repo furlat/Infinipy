{
 "cells": [
  {
   "cell_type": "code",
   "execution_count": 1,
   "metadata": {},
   "outputs": [],
   "source": [
    "from infinipy.spatial import GridMap, GameEntity, Node, Attribute, BlocksMovement, BlocksLight, SummarizedActionPayload, ActionConversionError\n",
    "from infinipy.interactions import Character, Door, Key, Treasure, Floor\n",
    "from infinipy.interactions import Move, Pickup, Drop, Open, Close, Unlock, Lock\n",
    "\n",
    "def setup_test_environment():\n",
    "    grid_map = GridMap(width=5, height=5)\n",
    "    \n",
    "    # Register actions\n",
    "    grid_map.register_actions([Move, Pickup, Drop, Open, Close, Unlock, Lock])\n",
    "    \n",
    "    # Create entities\n",
    "    character = Character(name=\"Player\")\n",
    "    door = Door(name=\"Door\", is_locked=Attribute(name=\"is_locked\", value=True), required_key=Attribute(name=\"required_key\", value=\"Golden Key\"))\n",
    "    key = Key(name=\"Golden Key\", key_name=Attribute(name=\"key_name\", value=\"Golden Key\"))\n",
    "    treasure = Treasure(name=\"Treasure\")\n",
    "    \n",
    "    # Place entities on the grid\n",
    "    grid_map.get_node((2, 2)).add_entity(character)\n",
    "    grid_map.get_node((1, 2)).add_entity(door)\n",
    "    grid_map.get_node((3, 2)).add_entity(key)\n",
    "    grid_map.get_node((4, 2)).add_entity(treasure)\n",
    "    \n",
    "    # Add floor entities to all nodes\n",
    "    for x in range(grid_map.width):\n",
    "        for y in range(grid_map.height):\n",
    "            floor = Floor(name=f\"Floor_{x}_{y}\")\n",
    "            grid_map.get_node((x, y)).add_entity(floor)\n",
    "    \n",
    "    return grid_map, character, door, key, treasure\n",
    "\n",
    "def test_summarized_action_payload(grid_map, character, door, key, treasure):\n",
    "    # Create a summarized action payload\n",
    "    move_payload = SummarizedActionPayload(\n",
    "        action_name=\"Move\",\n",
    "        source_entity_type=Character,\n",
    "        source_entity_position=(2, 2),\n",
    "        target_entity_type=Floor,\n",
    "        target_entity_position=(3, 2)\n",
    "    )\n",
    "    \n",
    "    # Convert the summarized payload to a regular payload\n",
    "    result = grid_map.convert_summarized_payload(move_payload)\n",
    "    \n",
    "    if isinstance(result, ActionConversionError):\n",
    "        print(f\"Action Conversion Error: {result}\")\n",
    "    else:\n",
    "        actions_payload = result\n",
    "        \n",
    "        # Apply the actions payload\n",
    "        actions_results = grid_map.apply_actions_payload(actions_payload)\n",
    "        \n",
    "        # Print the actions results\n",
    "        for result in actions_results.results:\n",
    "            print(f\"Action: {result.action_instance.action.name}\")\n",
    "            print(f\"Success: {result.success}\")\n",
    "            if not result.success:\n",
    "                print(f\"Error: {result.error}\")\n",
    "            print(f\"State Before: {result.state_before}\")\n",
    "            print(f\"State After: {result.state_after}\")\n",
    "            print(\"---\")"
   ]
  },
  {
   "cell_type": "code",
   "execution_count": 2,
   "metadata": {},
   "outputs": [
    {
     "name": "stdout",
     "output_type": "stream",
     "text": [
      "Updating block attributes... for door\n",
      "Applying 1 actions\n",
      "Action: Move Step\n",
      "Success: True\n",
      "State Before: {'source': {'blocks_movement': False, 'blocks_light': False, 'health': 100, 'max_health': 100, 'attack_power': 10, 'can_act': True, 'position': (2, 2), 'inventory': []}, 'target': {'blocks_movement': False, 'blocks_light': False, 'material': '', 'position': (3, 2), 'inventory': []}}\n",
      "State After: {'source': {'blocks_movement': False, 'blocks_light': False, 'health': 100, 'max_health': 100, 'attack_power': 10, 'can_act': True, 'position': (3, 2), 'inventory': []}, 'target': {'blocks_movement': False, 'blocks_light': False, 'material': '', 'position': (3, 2), 'inventory': []}}\n",
      "---\n"
     ]
    }
   ],
   "source": [
    "grid_map, character, door, key, treasure = setup_test_environment()\n",
    "test_summarized_action_payload(grid_map, character, door, key, treasure)"
   ]
  },
  {
   "cell_type": "code",
   "execution_count": null,
   "metadata": {},
   "outputs": [],
   "source": []
  }
 ],
 "metadata": {
  "kernelspec": {
   "display_name": "Python 3",
   "language": "python",
   "name": "python3"
  },
  "language_info": {
   "codemirror_mode": {
    "name": "ipython",
    "version": 3
   },
   "file_extension": ".py",
   "mimetype": "text/x-python",
   "name": "python",
   "nbconvert_exporter": "python",
   "pygments_lexer": "ipython3",
   "version": "3.10.6"
  }
 },
 "nbformat": 4,
 "nbformat_minor": 2
}
