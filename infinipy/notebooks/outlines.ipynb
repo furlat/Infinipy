{
 "cells": [
  {
   "cell_type": "code",
   "execution_count": 1,
   "metadata": {},
   "outputs": [
    {
     "name": "stderr",
     "output_type": "stream",
     "text": [
      "/Users/tommasofurlanello/.pyenv/versions/3.12.1/envs/abstractions/lib/python3.12/site-packages/tqdm/auto.py:21: TqdmWarning: IProgress not found. Please update jupyter and ipywidgets. See https://ipywidgets.readthedocs.io/en/stable/user_install.html\n",
      "  from .autonotebook import tqdm as notebook_tqdm\n"
     ]
    }
   ],
   "source": [
    "from outlines import models, generate\n",
    "import outlines\n",
    "from pydantic import BaseModel, constr\n"
   ]
  },
  {
   "cell_type": "code",
   "execution_count": 2,
   "metadata": {},
   "outputs": [],
   "source": [
    "from infinipy.spatial import GridMap, GameEntity, Node, Attribute, BlocksMovement, BlocksLight, SummarizedActionPayload, ActionConversionError\n",
    "from infinipy.interactions import Character, Door, Key, Treasure, Floor\n",
    "from infinipy.interactions import Move, Pickup, Drop, Open, Close, Unlock, Lock\n",
    "\n",
    "def setup_test_environment():\n",
    "    grid_map = GridMap(width=5, height=5)\n",
    "    \n",
    "    # Register actions\n",
    "    grid_map.register_actions([Move, Pickup, Drop, Open, Close, Unlock, Lock])\n",
    "    \n",
    "    # Create entities\n",
    "    character = Character(name=\"Player\")\n",
    "    door = Door(name=\"Door\", is_locked=Attribute(name=\"is_locked\", value=True), required_key=Attribute(name=\"required_key\", value=\"Golden Key\"))\n",
    "    key = Key(name=\"Golden Key\", key_name=Attribute(name=\"key_name\", value=\"Golden Key\"))\n",
    "    treasure = Treasure(name=\"Treasure\")\n",
    "    \n",
    "    # Place entities on the grid\n",
    "    grid_map.get_node((2, 2)).add_entity(character)\n",
    "    grid_map.get_node((1, 2)).add_entity(door)\n",
    "    grid_map.get_node((3, 2)).add_entity(key)\n",
    "    grid_map.get_node((4, 2)).add_entity(treasure)\n",
    "    \n",
    "    # Add floor entities to all nodes\n",
    "    for x in range(grid_map.width):\n",
    "        for y in range(grid_map.height):\n",
    "            floor = Floor(name=f\"Floor_{x}_{y}\")\n",
    "            grid_map.get_node((x, y)).add_entity(floor)\n",
    "    \n",
    "    return grid_map, character, door, key, treasure"
   ]
  },
  {
   "cell_type": "code",
   "execution_count": null,
   "metadata": {},
   "outputs": [],
   "source": []
  },
  {
   "cell_type": "code",
   "execution_count": 3,
   "metadata": {},
   "outputs": [
    {
     "name": "stdout",
     "output_type": "stream",
     "text": [
      "Updating block attributes... for door\n"
     ]
    }
   ],
   "source": [
    "grid_map, character, door, key, treasure = setup_test_environment()\n"
   ]
  },
  {
   "cell_type": "code",
   "execution_count": 4,
   "metadata": {},
   "outputs": [],
   "source": [
    "shadow = grid_map.get_shadow(source=character.node,max_radius=3)"
   ]
  },
  {
   "cell_type": "code",
   "execution_count": 5,
   "metadata": {},
   "outputs": [
    {
     "data": {
      "text/plain": [
       "\"Entity Types: ['Floor'], Attributes: [('BlocksLight', False), ('BlocksMovement', False), ('Material', '')], Positions: (1:5, 3:5), (1, 0:2), (2, 0:2), (3, 0:2), (4, 0:2), (0, 0), (0, 4)\\nEntity Types: ['Character', 'Floor'], Attributes: [('AttackPower', 10), ('BlocksLight', False), ('BlocksLight', False), ('BlocksMovement', False), ('BlocksMovement', False), ('CanAct', True), ('Health', 100), ('Material', ''), ('MaxHealth', 100)], Positions: (2, 2)\\nEntity Types: ['Treasure', 'Floor'], Attributes: [('BlocksLight', False), ('BlocksLight', False), ('BlocksMovement', False), ('BlocksMovement', False), ('IsPickupable', True), ('Material', ''), ('Material', ''), ('monetary_value', 1000)], Positions: (4, 2)\\nEntity Types: ['Door', 'Floor'], Attributes: [('BlocksLight', False), ('BlocksLight', True), ('BlocksMovement', False), ('BlocksMovement', True), ('Material', ''), ('Material', ''), ('Open', False), ('is_locked', True), ('required_key', 'Golden Key')], Positions: (1, 2)\\nEntity Types: ['Key', 'Floor'], Attributes: [('BlocksLight', False), ('BlocksLight', False), ('BlocksMovement', False), ('BlocksMovement', False), ('IsPickupable', True), ('Material', ''), ('Material', ''), ('key_name', 'Golden Key')], Positions: (3, 2)\""
      ]
     },
     "execution_count": 5,
     "metadata": {},
     "output_type": "execute_result"
    }
   ],
   "source": [
    "shadow.to_entity_groups()"
   ]
  },
  {
   "cell_type": "code",
   "execution_count": 6,
   "metadata": {},
   "outputs": [],
   "source": [
    "model_path = \"/Users/tommasofurlanello/Documents/Dev/models/NousResearch/Hermes-2-Pro-Mistral-7B-GGUF/Hermes-2-Pro-Mistral-7B.Q8_0.gguf\""
   ]
  },
  {
   "cell_type": "code",
   "execution_count": 7,
   "metadata": {},
   "outputs": [
    {
     "name": "stderr",
     "output_type": "stream",
     "text": [
      "llama_model_loader: loaded meta data with 22 key-value pairs and 291 tensors from /Users/tommasofurlanello/Documents/Dev/models/NousResearch/Hermes-2-Pro-Mistral-7B-GGUF/Hermes-2-Pro-Mistral-7B.Q8_0.gguf (version GGUF V3 (latest))\n",
      "llama_model_loader: Dumping metadata keys/values. Note: KV overrides do not apply in this output.\n",
      "llama_model_loader: - kv   0:                       general.architecture str              = llama\n",
      "llama_model_loader: - kv   1:                               general.name str              = jeffq\n",
      "llama_model_loader: - kv   2:                       llama.context_length u32              = 32768\n",
      "llama_model_loader: - kv   3:                     llama.embedding_length u32              = 4096\n",
      "llama_model_loader: - kv   4:                          llama.block_count u32              = 32\n",
      "llama_model_loader: - kv   5:                  llama.feed_forward_length u32              = 14336\n",
      "llama_model_loader: - kv   6:                 llama.rope.dimension_count u32              = 128\n",
      "llama_model_loader: - kv   7:                 llama.attention.head_count u32              = 32\n",
      "llama_model_loader: - kv   8:              llama.attention.head_count_kv u32              = 8\n",
      "llama_model_loader: - kv   9:     llama.attention.layer_norm_rms_epsilon f32              = 0.000010\n",
      "llama_model_loader: - kv  10:                       llama.rope.freq_base f32              = 10000.000000\n",
      "llama_model_loader: - kv  11:                          general.file_type u32              = 7\n",
      "llama_model_loader: - kv  12:                       tokenizer.ggml.model str              = llama\n",
      "llama_model_loader: - kv  13:                      tokenizer.ggml.tokens arr[str,32032]   = [\"<unk>\", \"<s>\", \"</s>\", \"<0x00>\", \"<...\n",
      "llama_model_loader: - kv  14:                      tokenizer.ggml.scores arr[f32,32032]   = [0.000000, 0.000000, 0.000000, 0.0000...\n",
      "llama_model_loader: - kv  15:                  tokenizer.ggml.token_type arr[i32,32032]   = [2, 3, 3, 6, 6, 6, 6, 6, 6, 6, 6, 6, ...\n",
      "llama_model_loader: - kv  16:                tokenizer.ggml.bos_token_id u32              = 1\n",
      "llama_model_loader: - kv  17:                tokenizer.ggml.eos_token_id u32              = 32000\n",
      "llama_model_loader: - kv  18:               tokenizer.ggml.add_bos_token bool             = true\n",
      "llama_model_loader: - kv  19:               tokenizer.ggml.add_eos_token bool             = false\n",
      "llama_model_loader: - kv  20:                    tokenizer.chat_template str              = {% for message in messages %}{{'<|im_...\n",
      "llama_model_loader: - kv  21:               general.quantization_version u32              = 2\n",
      "llama_model_loader: - type  f32:   65 tensors\n",
      "llama_model_loader: - type q8_0:  226 tensors\n",
      "llm_load_vocab: special tokens definition check successful ( 291/32032 ).\n",
      "llm_load_print_meta: format           = GGUF V3 (latest)\n",
      "llm_load_print_meta: arch             = llama\n",
      "llm_load_print_meta: vocab type       = SPM\n",
      "llm_load_print_meta: n_vocab          = 32032\n",
      "llm_load_print_meta: n_merges         = 0\n",
      "llm_load_print_meta: n_ctx_train      = 32768\n",
      "llm_load_print_meta: n_embd           = 4096\n",
      "llm_load_print_meta: n_head           = 32\n",
      "llm_load_print_meta: n_head_kv        = 8\n",
      "llm_load_print_meta: n_layer          = 32\n",
      "llm_load_print_meta: n_rot            = 128\n",
      "llm_load_print_meta: n_embd_head_k    = 128\n",
      "llm_load_print_meta: n_embd_head_v    = 128\n",
      "llm_load_print_meta: n_gqa            = 4\n",
      "llm_load_print_meta: n_embd_k_gqa     = 1024\n",
      "llm_load_print_meta: n_embd_v_gqa     = 1024\n",
      "llm_load_print_meta: f_norm_eps       = 0.0e+00\n",
      "llm_load_print_meta: f_norm_rms_eps   = 1.0e-05\n",
      "llm_load_print_meta: f_clamp_kqv      = 0.0e+00\n",
      "llm_load_print_meta: f_max_alibi_bias = 0.0e+00\n",
      "llm_load_print_meta: f_logit_scale    = 0.0e+00\n",
      "llm_load_print_meta: n_ff             = 14336\n",
      "llm_load_print_meta: n_expert         = 0\n",
      "llm_load_print_meta: n_expert_used    = 0\n",
      "llm_load_print_meta: causal attn      = 1\n",
      "llm_load_print_meta: pooling type     = 0\n",
      "llm_load_print_meta: rope type        = 0\n",
      "llm_load_print_meta: rope scaling     = linear\n",
      "llm_load_print_meta: freq_base_train  = 10000.0\n",
      "llm_load_print_meta: freq_scale_train = 1\n",
      "llm_load_print_meta: n_yarn_orig_ctx  = 32768\n",
      "llm_load_print_meta: rope_finetuned   = unknown\n",
      "llm_load_print_meta: ssm_d_conv       = 0\n",
      "llm_load_print_meta: ssm_d_inner      = 0\n",
      "llm_load_print_meta: ssm_d_state      = 0\n",
      "llm_load_print_meta: ssm_dt_rank      = 0\n",
      "llm_load_print_meta: model type       = 7B\n",
      "llm_load_print_meta: model ftype      = Q8_0\n",
      "llm_load_print_meta: model params     = 7.24 B\n",
      "llm_load_print_meta: model size       = 7.17 GiB (8.50 BPW) \n",
      "llm_load_print_meta: general.name     = jeffq\n",
      "llm_load_print_meta: BOS token        = 1 '<s>'\n",
      "llm_load_print_meta: EOS token        = 32000 '<|im_end|>'\n",
      "llm_load_print_meta: UNK token        = 0 '<unk>'\n",
      "llm_load_print_meta: LF token         = 13 '<0x0A>'\n",
      "llm_load_tensors: ggml ctx size =    0.11 MiB\n",
      "llm_load_tensors: offloading 0 repeating layers to GPU\n",
      "llm_load_tensors: offloaded 0/33 layers to GPU\n",
      "llm_load_tensors:        CPU buffer size =  7338.91 MiB\n",
      "...................................................................................................\n",
      "llama_new_context_with_model: n_ctx      = 512\n",
      "llama_new_context_with_model: n_batch    = 512\n",
      "llama_new_context_with_model: n_ubatch   = 512\n",
      "llama_new_context_with_model: freq_base  = 10000.0\n",
      "llama_new_context_with_model: freq_scale = 1\n",
      "llama_kv_cache_init:        CPU KV buffer size =    64.00 MiB\n",
      "llama_new_context_with_model: KV self size  =   64.00 MiB, K (f16):   32.00 MiB, V (f16):   32.00 MiB\n",
      "llama_new_context_with_model:        CPU  output buffer size =     0.12 MiB\n",
      "llama_new_context_with_model:        CPU compute buffer size =    81.01 MiB\n",
      "llama_new_context_with_model: graph nodes  = 1030\n",
      "llama_new_context_with_model: graph splits = 1\n",
      "AVX = 0 | AVX_VNNI = 0 | AVX2 = 0 | AVX512 = 0 | AVX512_VBMI = 0 | AVX512_VNNI = 0 | FMA = 0 | NEON = 1 | ARM_FMA = 1 | F16C = 0 | FP16_VA = 1 | WASM_SIMD = 0 | BLAS = 1 | SSE3 = 0 | SSSE3 = 0 | VSX = 0 | MATMUL_INT8 = 0 | \n",
      "Model metadata: {'general.quantization_version': '2', 'tokenizer.chat_template': \"{% for message in messages %}{{'<|im_start|>' + message['role'] + '\\n' + message['content'] + '<|im_end|>' + '\\n'}}{% endfor %}{% if add_generation_prompt %}{{ '<|im_start|>assistant\\n' }}{% endif %}\", 'tokenizer.ggml.add_eos_token': 'false', 'tokenizer.ggml.add_bos_token': 'true', 'tokenizer.ggml.eos_token_id': '32000', 'tokenizer.ggml.bos_token_id': '1', 'tokenizer.ggml.model': 'llama', 'llama.attention.head_count_kv': '8', 'llama.context_length': '32768', 'llama.attention.head_count': '32', 'llama.rope.freq_base': '10000.000000', 'llama.rope.dimension_count': '128', 'general.file_type': '7', 'llama.feed_forward_length': '14336', 'llama.embedding_length': '4096', 'llama.block_count': '32', 'general.architecture': 'llama', 'llama.attention.layer_norm_rms_epsilon': '0.000010', 'general.name': 'jeffq'}\n",
      "Guessed chat format: chatml\n"
     ]
    }
   ],
   "source": [
    "model = models.llamacpp(model_path)"
   ]
  },
  {
   "cell_type": "code",
   "execution_count": 8,
   "metadata": {},
   "outputs": [
    {
     "ename": "PydanticInvalidForJsonSchema",
     "evalue": "Cannot generate a JsonSchema for core_schema.IsInstanceSchema (<class 'infinipy.spatial.GridMap'>)\n\nFor further information visit https://errors.pydantic.dev/2.6/u/invalid-for-json-schema",
     "output_type": "error",
     "traceback": [
      "\u001b[0;31m---------------------------------------------------------------------------\u001b[0m",
      "\u001b[0;31mPydanticInvalidForJsonSchema\u001b[0m              Traceback (most recent call last)",
      "Cell \u001b[0;32mIn[8], line 1\u001b[0m\n\u001b[0;32m----> 1\u001b[0m generator \u001b[38;5;241m=\u001b[39m \u001b[43moutlines\u001b[49m\u001b[38;5;241;43m.\u001b[39;49m\u001b[43mgenerate\u001b[49m\u001b[38;5;241;43m.\u001b[39;49m\u001b[43mjson\u001b[49m\u001b[43m(\u001b[49m\u001b[43mmodel\u001b[49m\u001b[43m,\u001b[49m\u001b[43m \u001b[49m\u001b[43mCharacter\u001b[49m\u001b[43m)\u001b[49m\n\u001b[1;32m      2\u001b[0m character \u001b[38;5;241m=\u001b[39m generator(\u001b[38;5;124m\"\u001b[39m\u001b[38;5;124mGive me a character \u001b[39m\u001b[38;5;124m\"\u001b[39m)\n\u001b[1;32m      3\u001b[0m \u001b[38;5;28mprint\u001b[39m(\u001b[38;5;28mprint\u001b[39m(\u001b[38;5;28mrepr\u001b[39m(character)))\n",
      "File \u001b[0;32m~/.pyenv/versions/3.12.1/lib/python3.12/functools.py:909\u001b[0m, in \u001b[0;36msingledispatch.<locals>.wrapper\u001b[0;34m(*args, **kw)\u001b[0m\n\u001b[1;32m    905\u001b[0m \u001b[38;5;28;01mif\u001b[39;00m \u001b[38;5;129;01mnot\u001b[39;00m args:\n\u001b[1;32m    906\u001b[0m     \u001b[38;5;28;01mraise\u001b[39;00m \u001b[38;5;167;01mTypeError\u001b[39;00m(\u001b[38;5;124mf\u001b[39m\u001b[38;5;124m'\u001b[39m\u001b[38;5;132;01m{\u001b[39;00mfuncname\u001b[38;5;132;01m}\u001b[39;00m\u001b[38;5;124m requires at least \u001b[39m\u001b[38;5;124m'\u001b[39m\n\u001b[1;32m    907\u001b[0m                     \u001b[38;5;124m'\u001b[39m\u001b[38;5;124m1 positional argument\u001b[39m\u001b[38;5;124m'\u001b[39m)\n\u001b[0;32m--> 909\u001b[0m \u001b[38;5;28;01mreturn\u001b[39;00m \u001b[43mdispatch\u001b[49m\u001b[43m(\u001b[49m\u001b[43margs\u001b[49m\u001b[43m[\u001b[49m\u001b[38;5;241;43m0\u001b[39;49m\u001b[43m]\u001b[49m\u001b[38;5;241;43m.\u001b[39;49m\u001b[38;5;18;43m__class__\u001b[39;49m\u001b[43m)\u001b[49m\u001b[43m(\u001b[49m\u001b[38;5;241;43m*\u001b[39;49m\u001b[43margs\u001b[49m\u001b[43m,\u001b[49m\u001b[43m \u001b[49m\u001b[38;5;241;43m*\u001b[39;49m\u001b[38;5;241;43m*\u001b[39;49m\u001b[43mkw\u001b[49m\u001b[43m)\u001b[49m\n",
      "File \u001b[0;32m~/.pyenv/versions/3.12.1/envs/abstractions/lib/python3.12/site-packages/outlines/generate/json.py:47\u001b[0m, in \u001b[0;36mjson\u001b[0;34m(model, schema_object, sampler, whitespace_pattern)\u001b[0m\n\u001b[1;32m     22\u001b[0m \u001b[38;5;250m\u001b[39m\u001b[38;5;124;03m\"\"\"\u001b[39;00m\n\u001b[1;32m     23\u001b[0m \u001b[38;5;124;03mGenerate structured JSON data with a `Transformer` model based on a specified JSON Schema.\u001b[39;00m\n\u001b[1;32m     24\u001b[0m \n\u001b[0;32m   (...)\u001b[0m\n\u001b[1;32m     44\u001b[0m \n\u001b[1;32m     45\u001b[0m \u001b[38;5;124;03m\"\"\"\u001b[39;00m\n\u001b[1;32m     46\u001b[0m \u001b[38;5;28;01mif\u001b[39;00m \u001b[38;5;28misinstance\u001b[39m(schema_object, \u001b[38;5;28mtype\u001b[39m(BaseModel)):\n\u001b[0;32m---> 47\u001b[0m     schema \u001b[38;5;241m=\u001b[39m pyjson\u001b[38;5;241m.\u001b[39mdumps(\u001b[43mschema_object\u001b[49m\u001b[38;5;241;43m.\u001b[39;49m\u001b[43mmodel_json_schema\u001b[49m\u001b[43m(\u001b[49m\u001b[43m)\u001b[49m)\n\u001b[1;32m     48\u001b[0m     regex_str \u001b[38;5;241m=\u001b[39m build_regex_from_schema(schema, whitespace_pattern)\n\u001b[1;32m     49\u001b[0m     generator \u001b[38;5;241m=\u001b[39m regex(model, regex_str, sampler)\n",
      "File \u001b[0;32m~/.pyenv/versions/3.12.1/envs/abstractions/lib/python3.12/site-packages/pydantic/main.py:391\u001b[0m, in \u001b[0;36mBaseModel.model_json_schema\u001b[0;34m(cls, by_alias, ref_template, schema_generator, mode)\u001b[0m\n\u001b[1;32m    371\u001b[0m \u001b[38;5;129m@classmethod\u001b[39m\n\u001b[1;32m    372\u001b[0m \u001b[38;5;28;01mdef\u001b[39;00m \u001b[38;5;21mmodel_json_schema\u001b[39m(\n\u001b[1;32m    373\u001b[0m     \u001b[38;5;28mcls\u001b[39m,\n\u001b[0;32m   (...)\u001b[0m\n\u001b[1;32m    377\u001b[0m     mode: JsonSchemaMode \u001b[38;5;241m=\u001b[39m \u001b[38;5;124m'\u001b[39m\u001b[38;5;124mvalidation\u001b[39m\u001b[38;5;124m'\u001b[39m,\n\u001b[1;32m    378\u001b[0m ) \u001b[38;5;241m-\u001b[39m\u001b[38;5;241m>\u001b[39m \u001b[38;5;28mdict\u001b[39m[\u001b[38;5;28mstr\u001b[39m, Any]:\n\u001b[1;32m    379\u001b[0m \u001b[38;5;250m    \u001b[39m\u001b[38;5;124;03m\"\"\"Generates a JSON schema for a model class.\u001b[39;00m\n\u001b[1;32m    380\u001b[0m \n\u001b[1;32m    381\u001b[0m \u001b[38;5;124;03m    Args:\u001b[39;00m\n\u001b[0;32m   (...)\u001b[0m\n\u001b[1;32m    389\u001b[0m \u001b[38;5;124;03m        The JSON schema for the given model class.\u001b[39;00m\n\u001b[1;32m    390\u001b[0m \u001b[38;5;124;03m    \"\"\"\u001b[39;00m\n\u001b[0;32m--> 391\u001b[0m     \u001b[38;5;28;01mreturn\u001b[39;00m \u001b[43mmodel_json_schema\u001b[49m\u001b[43m(\u001b[49m\n\u001b[1;32m    392\u001b[0m \u001b[43m        \u001b[49m\u001b[38;5;28;43mcls\u001b[39;49m\u001b[43m,\u001b[49m\u001b[43m \u001b[49m\u001b[43mby_alias\u001b[49m\u001b[38;5;241;43m=\u001b[39;49m\u001b[43mby_alias\u001b[49m\u001b[43m,\u001b[49m\u001b[43m \u001b[49m\u001b[43mref_template\u001b[49m\u001b[38;5;241;43m=\u001b[39;49m\u001b[43mref_template\u001b[49m\u001b[43m,\u001b[49m\u001b[43m \u001b[49m\u001b[43mschema_generator\u001b[49m\u001b[38;5;241;43m=\u001b[39;49m\u001b[43mschema_generator\u001b[49m\u001b[43m,\u001b[49m\u001b[43m \u001b[49m\u001b[43mmode\u001b[49m\u001b[38;5;241;43m=\u001b[39;49m\u001b[43mmode\u001b[49m\n\u001b[1;32m    393\u001b[0m \u001b[43m    \u001b[49m\u001b[43m)\u001b[49m\n",
      "File \u001b[0;32m~/.pyenv/versions/3.12.1/envs/abstractions/lib/python3.12/site-packages/pydantic/json_schema.py:2177\u001b[0m, in \u001b[0;36mmodel_json_schema\u001b[0;34m(cls, by_alias, ref_template, schema_generator, mode)\u001b[0m\n\u001b[1;32m   2175\u001b[0m     \u001b[38;5;28mcls\u001b[39m\u001b[38;5;241m.\u001b[39m__pydantic_validator__\u001b[38;5;241m.\u001b[39mrebuild()\n\u001b[1;32m   2176\u001b[0m \u001b[38;5;28;01massert\u001b[39;00m \u001b[38;5;124m'\u001b[39m\u001b[38;5;124m__pydantic_core_schema__\u001b[39m\u001b[38;5;124m'\u001b[39m \u001b[38;5;129;01min\u001b[39;00m \u001b[38;5;28mcls\u001b[39m\u001b[38;5;241m.\u001b[39m\u001b[38;5;18m__dict__\u001b[39m, \u001b[38;5;124m'\u001b[39m\u001b[38;5;124mthis is a bug! please report it\u001b[39m\u001b[38;5;124m'\u001b[39m\n\u001b[0;32m-> 2177\u001b[0m \u001b[38;5;28;01mreturn\u001b[39;00m \u001b[43mschema_generator_instance\u001b[49m\u001b[38;5;241;43m.\u001b[39;49m\u001b[43mgenerate\u001b[49m\u001b[43m(\u001b[49m\u001b[38;5;28;43mcls\u001b[39;49m\u001b[38;5;241;43m.\u001b[39;49m\u001b[43m__pydantic_core_schema__\u001b[49m\u001b[43m,\u001b[49m\u001b[43m \u001b[49m\u001b[43mmode\u001b[49m\u001b[38;5;241;43m=\u001b[39;49m\u001b[43mmode\u001b[49m\u001b[43m)\u001b[49m\n",
      "File \u001b[0;32m~/.pyenv/versions/3.12.1/envs/abstractions/lib/python3.12/site-packages/pydantic/json_schema.py:409\u001b[0m, in \u001b[0;36mGenerateJsonSchema.generate\u001b[0;34m(self, schema, mode)\u001b[0m\n\u001b[1;32m    402\u001b[0m     \u001b[38;5;28;01mraise\u001b[39;00m PydanticUserError(\n\u001b[1;32m    403\u001b[0m         \u001b[38;5;124m'\u001b[39m\u001b[38;5;124mThis JSON schema generator has already been used to generate a JSON schema. \u001b[39m\u001b[38;5;124m'\u001b[39m\n\u001b[1;32m    404\u001b[0m         \u001b[38;5;124mf\u001b[39m\u001b[38;5;124m'\u001b[39m\u001b[38;5;124mYou must create a new instance of \u001b[39m\u001b[38;5;132;01m{\u001b[39;00m\u001b[38;5;28mtype\u001b[39m(\u001b[38;5;28mself\u001b[39m)\u001b[38;5;241m.\u001b[39m\u001b[38;5;18m__name__\u001b[39m\u001b[38;5;132;01m}\u001b[39;00m\u001b[38;5;124m to generate a new JSON schema.\u001b[39m\u001b[38;5;124m'\u001b[39m,\n\u001b[1;32m    405\u001b[0m         code\u001b[38;5;241m=\u001b[39m\u001b[38;5;124m'\u001b[39m\u001b[38;5;124mjson-schema-already-used\u001b[39m\u001b[38;5;124m'\u001b[39m,\n\u001b[1;32m    406\u001b[0m     )\n\u001b[1;32m    408\u001b[0m json_schema: JsonSchemaValue \u001b[38;5;241m=\u001b[39m \u001b[38;5;28mself\u001b[39m\u001b[38;5;241m.\u001b[39mgenerate_inner(schema)\n\u001b[0;32m--> 409\u001b[0m json_ref_counts \u001b[38;5;241m=\u001b[39m \u001b[38;5;28;43mself\u001b[39;49m\u001b[38;5;241;43m.\u001b[39;49m\u001b[43mget_json_ref_counts\u001b[49m\u001b[43m(\u001b[49m\u001b[43mjson_schema\u001b[49m\u001b[43m)\u001b[49m\n\u001b[1;32m    411\u001b[0m \u001b[38;5;66;03m# Remove the top-level $ref if present; note that the _generate method already ensures there are no sibling keys\u001b[39;00m\n\u001b[1;32m    412\u001b[0m ref \u001b[38;5;241m=\u001b[39m cast(JsonRef, json_schema\u001b[38;5;241m.\u001b[39mget(\u001b[38;5;124m'\u001b[39m\u001b[38;5;124m$ref\u001b[39m\u001b[38;5;124m'\u001b[39m))\n",
      "File \u001b[0;32m~/.pyenv/versions/3.12.1/envs/abstractions/lib/python3.12/site-packages/pydantic/json_schema.py:2089\u001b[0m, in \u001b[0;36mGenerateJsonSchema.get_json_ref_counts\u001b[0;34m(self, json_schema)\u001b[0m\n\u001b[1;32m   2086\u001b[0m         \u001b[38;5;28;01mfor\u001b[39;00m v \u001b[38;5;129;01min\u001b[39;00m schema:\n\u001b[1;32m   2087\u001b[0m             _add_json_refs(v)\n\u001b[0;32m-> 2089\u001b[0m \u001b[43m_add_json_refs\u001b[49m\u001b[43m(\u001b[49m\u001b[43mjson_schema\u001b[49m\u001b[43m)\u001b[49m\n\u001b[1;32m   2090\u001b[0m \u001b[38;5;28;01mreturn\u001b[39;00m json_refs\n",
      "File \u001b[0;32m~/.pyenv/versions/3.12.1/envs/abstractions/lib/python3.12/site-packages/pydantic/json_schema.py:2081\u001b[0m, in \u001b[0;36mGenerateJsonSchema.get_json_ref_counts.<locals>._add_json_refs\u001b[0;34m(schema)\u001b[0m\n\u001b[1;32m   2079\u001b[0m     \u001b[38;5;28;01mif\u001b[39;00m defs_ref \u001b[38;5;129;01min\u001b[39;00m \u001b[38;5;28mself\u001b[39m\u001b[38;5;241m.\u001b[39m_core_defs_invalid_for_json_schema:\n\u001b[1;32m   2080\u001b[0m         \u001b[38;5;28;01mraise\u001b[39;00m \u001b[38;5;28mself\u001b[39m\u001b[38;5;241m.\u001b[39m_core_defs_invalid_for_json_schema[defs_ref]\n\u001b[0;32m-> 2081\u001b[0m     \u001b[43m_add_json_refs\u001b[49m\u001b[43m(\u001b[49m\u001b[38;5;28;43mself\u001b[39;49m\u001b[38;5;241;43m.\u001b[39;49m\u001b[43mdefinitions\u001b[49m\u001b[43m[\u001b[49m\u001b[43mdefs_ref\u001b[49m\u001b[43m]\u001b[49m\u001b[43m)\u001b[49m\n\u001b[1;32m   2083\u001b[0m \u001b[38;5;28;01mfor\u001b[39;00m v \u001b[38;5;129;01min\u001b[39;00m schema\u001b[38;5;241m.\u001b[39mvalues():\n\u001b[1;32m   2084\u001b[0m     _add_json_refs(v)\n",
      "File \u001b[0;32m~/.pyenv/versions/3.12.1/envs/abstractions/lib/python3.12/site-packages/pydantic/json_schema.py:2084\u001b[0m, in \u001b[0;36mGenerateJsonSchema.get_json_ref_counts.<locals>._add_json_refs\u001b[0;34m(schema)\u001b[0m\n\u001b[1;32m   2081\u001b[0m         _add_json_refs(\u001b[38;5;28mself\u001b[39m\u001b[38;5;241m.\u001b[39mdefinitions[defs_ref])\n\u001b[1;32m   2083\u001b[0m     \u001b[38;5;28;01mfor\u001b[39;00m v \u001b[38;5;129;01min\u001b[39;00m schema\u001b[38;5;241m.\u001b[39mvalues():\n\u001b[0;32m-> 2084\u001b[0m         \u001b[43m_add_json_refs\u001b[49m\u001b[43m(\u001b[49m\u001b[43mv\u001b[49m\u001b[43m)\u001b[49m\n\u001b[1;32m   2085\u001b[0m \u001b[38;5;28;01melif\u001b[39;00m \u001b[38;5;28misinstance\u001b[39m(schema, \u001b[38;5;28mlist\u001b[39m):\n\u001b[1;32m   2086\u001b[0m     \u001b[38;5;28;01mfor\u001b[39;00m v \u001b[38;5;129;01min\u001b[39;00m schema:\n",
      "File \u001b[0;32m~/.pyenv/versions/3.12.1/envs/abstractions/lib/python3.12/site-packages/pydantic/json_schema.py:2084\u001b[0m, in \u001b[0;36mGenerateJsonSchema.get_json_ref_counts.<locals>._add_json_refs\u001b[0;34m(schema)\u001b[0m\n\u001b[1;32m   2081\u001b[0m         _add_json_refs(\u001b[38;5;28mself\u001b[39m\u001b[38;5;241m.\u001b[39mdefinitions[defs_ref])\n\u001b[1;32m   2083\u001b[0m     \u001b[38;5;28;01mfor\u001b[39;00m v \u001b[38;5;129;01min\u001b[39;00m schema\u001b[38;5;241m.\u001b[39mvalues():\n\u001b[0;32m-> 2084\u001b[0m         \u001b[43m_add_json_refs\u001b[49m\u001b[43m(\u001b[49m\u001b[43mv\u001b[49m\u001b[43m)\u001b[49m\n\u001b[1;32m   2085\u001b[0m \u001b[38;5;28;01melif\u001b[39;00m \u001b[38;5;28misinstance\u001b[39m(schema, \u001b[38;5;28mlist\u001b[39m):\n\u001b[1;32m   2086\u001b[0m     \u001b[38;5;28;01mfor\u001b[39;00m v \u001b[38;5;129;01min\u001b[39;00m schema:\n",
      "File \u001b[0;32m~/.pyenv/versions/3.12.1/envs/abstractions/lib/python3.12/site-packages/pydantic/json_schema.py:2084\u001b[0m, in \u001b[0;36mGenerateJsonSchema.get_json_ref_counts.<locals>._add_json_refs\u001b[0;34m(schema)\u001b[0m\n\u001b[1;32m   2081\u001b[0m         _add_json_refs(\u001b[38;5;28mself\u001b[39m\u001b[38;5;241m.\u001b[39mdefinitions[defs_ref])\n\u001b[1;32m   2083\u001b[0m     \u001b[38;5;28;01mfor\u001b[39;00m v \u001b[38;5;129;01min\u001b[39;00m schema\u001b[38;5;241m.\u001b[39mvalues():\n\u001b[0;32m-> 2084\u001b[0m         \u001b[43m_add_json_refs\u001b[49m\u001b[43m(\u001b[49m\u001b[43mv\u001b[49m\u001b[43m)\u001b[49m\n\u001b[1;32m   2085\u001b[0m \u001b[38;5;28;01melif\u001b[39;00m \u001b[38;5;28misinstance\u001b[39m(schema, \u001b[38;5;28mlist\u001b[39m):\n\u001b[1;32m   2086\u001b[0m     \u001b[38;5;28;01mfor\u001b[39;00m v \u001b[38;5;129;01min\u001b[39;00m schema:\n",
      "File \u001b[0;32m~/.pyenv/versions/3.12.1/envs/abstractions/lib/python3.12/site-packages/pydantic/json_schema.py:2087\u001b[0m, in \u001b[0;36mGenerateJsonSchema.get_json_ref_counts.<locals>._add_json_refs\u001b[0;34m(schema)\u001b[0m\n\u001b[1;32m   2085\u001b[0m \u001b[38;5;28;01melif\u001b[39;00m \u001b[38;5;28misinstance\u001b[39m(schema, \u001b[38;5;28mlist\u001b[39m):\n\u001b[1;32m   2086\u001b[0m     \u001b[38;5;28;01mfor\u001b[39;00m v \u001b[38;5;129;01min\u001b[39;00m schema:\n\u001b[0;32m-> 2087\u001b[0m         \u001b[43m_add_json_refs\u001b[49m\u001b[43m(\u001b[49m\u001b[43mv\u001b[49m\u001b[43m)\u001b[49m\n",
      "File \u001b[0;32m~/.pyenv/versions/3.12.1/envs/abstractions/lib/python3.12/site-packages/pydantic/json_schema.py:2080\u001b[0m, in \u001b[0;36mGenerateJsonSchema.get_json_ref_counts.<locals>._add_json_refs\u001b[0;34m(schema)\u001b[0m\n\u001b[1;32m   2078\u001b[0m     defs_ref \u001b[38;5;241m=\u001b[39m \u001b[38;5;28mself\u001b[39m\u001b[38;5;241m.\u001b[39mjson_to_defs_refs[json_ref]\n\u001b[1;32m   2079\u001b[0m     \u001b[38;5;28;01mif\u001b[39;00m defs_ref \u001b[38;5;129;01min\u001b[39;00m \u001b[38;5;28mself\u001b[39m\u001b[38;5;241m.\u001b[39m_core_defs_invalid_for_json_schema:\n\u001b[0;32m-> 2080\u001b[0m         \u001b[38;5;28;01mraise\u001b[39;00m \u001b[38;5;28mself\u001b[39m\u001b[38;5;241m.\u001b[39m_core_defs_invalid_for_json_schema[defs_ref]\n\u001b[1;32m   2081\u001b[0m     _add_json_refs(\u001b[38;5;28mself\u001b[39m\u001b[38;5;241m.\u001b[39mdefinitions[defs_ref])\n\u001b[1;32m   2083\u001b[0m \u001b[38;5;28;01mfor\u001b[39;00m v \u001b[38;5;129;01min\u001b[39;00m schema\u001b[38;5;241m.\u001b[39mvalues():\n",
      "File \u001b[0;32m~/.pyenv/versions/3.12.1/envs/abstractions/lib/python3.12/site-packages/pydantic/json_schema.py:1754\u001b[0m, in \u001b[0;36mGenerateJsonSchema.definitions_schema\u001b[0;34m(self, schema)\u001b[0m\n\u001b[1;32m   1752\u001b[0m \u001b[38;5;28;01mfor\u001b[39;00m definition \u001b[38;5;129;01min\u001b[39;00m schema[\u001b[38;5;124m'\u001b[39m\u001b[38;5;124mdefinitions\u001b[39m\u001b[38;5;124m'\u001b[39m]:\n\u001b[1;32m   1753\u001b[0m     \u001b[38;5;28;01mtry\u001b[39;00m:\n\u001b[0;32m-> 1754\u001b[0m         \u001b[38;5;28;43mself\u001b[39;49m\u001b[38;5;241;43m.\u001b[39;49m\u001b[43mgenerate_inner\u001b[49m\u001b[43m(\u001b[49m\u001b[43mdefinition\u001b[49m\u001b[43m)\u001b[49m\n\u001b[1;32m   1755\u001b[0m     \u001b[38;5;28;01mexcept\u001b[39;00m PydanticInvalidForJsonSchema \u001b[38;5;28;01mas\u001b[39;00m e:\n\u001b[1;32m   1756\u001b[0m         core_ref: CoreRef \u001b[38;5;241m=\u001b[39m CoreRef(definition[\u001b[38;5;124m'\u001b[39m\u001b[38;5;124mref\u001b[39m\u001b[38;5;124m'\u001b[39m])  \u001b[38;5;66;03m# type: ignore\u001b[39;00m\n",
      "File \u001b[0;32m~/.pyenv/versions/3.12.1/envs/abstractions/lib/python3.12/site-packages/pydantic/json_schema.py:547\u001b[0m, in \u001b[0;36mGenerateJsonSchema.generate_inner\u001b[0;34m(self, schema)\u001b[0m\n\u001b[1;32m    543\u001b[0m         \u001b[38;5;28;01mreturn\u001b[39;00m json_schema\n\u001b[1;32m    545\u001b[0m     current_handler \u001b[38;5;241m=\u001b[39m _schema_generation_shared\u001b[38;5;241m.\u001b[39mGenerateJsonSchemaHandler(\u001b[38;5;28mself\u001b[39m, new_handler_func)\n\u001b[0;32m--> 547\u001b[0m json_schema \u001b[38;5;241m=\u001b[39m \u001b[43mcurrent_handler\u001b[49m\u001b[43m(\u001b[49m\u001b[43mschema\u001b[49m\u001b[43m)\u001b[49m\n\u001b[1;32m    548\u001b[0m \u001b[38;5;28;01mif\u001b[39;00m _core_utils\u001b[38;5;241m.\u001b[39mis_core_schema(schema):\n\u001b[1;32m    549\u001b[0m     json_schema \u001b[38;5;241m=\u001b[39m populate_defs(schema, json_schema)\n",
      "File \u001b[0;32m~/.pyenv/versions/3.12.1/envs/abstractions/lib/python3.12/site-packages/pydantic/_internal/_schema_generation_shared.py:36\u001b[0m, in \u001b[0;36mGenerateJsonSchemaHandler.__call__\u001b[0;34m(self, _GenerateJsonSchemaHandler__core_schema)\u001b[0m\n\u001b[1;32m     35\u001b[0m \u001b[38;5;28;01mdef\u001b[39;00m \u001b[38;5;21m__call__\u001b[39m(\u001b[38;5;28mself\u001b[39m, __core_schema: CoreSchemaOrField) \u001b[38;5;241m-\u001b[39m\u001b[38;5;241m>\u001b[39m JsonSchemaValue:\n\u001b[0;32m---> 36\u001b[0m     \u001b[38;5;28;01mreturn\u001b[39;00m \u001b[38;5;28;43mself\u001b[39;49m\u001b[38;5;241;43m.\u001b[39;49m\u001b[43mhandler\u001b[49m\u001b[43m(\u001b[49m\u001b[43m__core_schema\u001b[49m\u001b[43m)\u001b[49m\n",
      "File \u001b[0;32m~/.pyenv/versions/3.12.1/envs/abstractions/lib/python3.12/site-packages/pydantic/json_schema.py:521\u001b[0m, in \u001b[0;36mGenerateJsonSchema.generate_inner.<locals>.new_handler_func\u001b[0;34m(schema_or_field, current_handler, js_modify_function)\u001b[0m\n\u001b[1;32m    516\u001b[0m \u001b[38;5;28;01mdef\u001b[39;00m \u001b[38;5;21mnew_handler_func\u001b[39m(\n\u001b[1;32m    517\u001b[0m     schema_or_field: CoreSchemaOrField,\n\u001b[1;32m    518\u001b[0m     current_handler: GetJsonSchemaHandler \u001b[38;5;241m=\u001b[39m current_handler,\n\u001b[1;32m    519\u001b[0m     js_modify_function: GetJsonSchemaFunction \u001b[38;5;241m=\u001b[39m js_modify_function,\n\u001b[1;32m    520\u001b[0m ) \u001b[38;5;241m-\u001b[39m\u001b[38;5;241m>\u001b[39m JsonSchemaValue:\n\u001b[0;32m--> 521\u001b[0m     json_schema \u001b[38;5;241m=\u001b[39m \u001b[43mjs_modify_function\u001b[49m\u001b[43m(\u001b[49m\u001b[43mschema_or_field\u001b[49m\u001b[43m,\u001b[49m\u001b[43m \u001b[49m\u001b[43mcurrent_handler\u001b[49m\u001b[43m)\u001b[49m\n\u001b[1;32m    522\u001b[0m     \u001b[38;5;28;01mif\u001b[39;00m _core_utils\u001b[38;5;241m.\u001b[39mis_core_schema(schema_or_field):\n\u001b[1;32m    523\u001b[0m         json_schema \u001b[38;5;241m=\u001b[39m populate_defs(schema_or_field, json_schema)\n",
      "File \u001b[0;32m~/.pyenv/versions/3.12.1/envs/abstractions/lib/python3.12/site-packages/pydantic/main.py:609\u001b[0m, in \u001b[0;36mBaseModel.__get_pydantic_json_schema__\u001b[0;34m(cls, _BaseModel__core_schema, _BaseModel__handler)\u001b[0m\n\u001b[1;32m    586\u001b[0m \u001b[38;5;129m@classmethod\u001b[39m\n\u001b[1;32m    587\u001b[0m \u001b[38;5;28;01mdef\u001b[39;00m \u001b[38;5;21m__get_pydantic_json_schema__\u001b[39m(\n\u001b[1;32m    588\u001b[0m     \u001b[38;5;28mcls\u001b[39m,\n\u001b[1;32m    589\u001b[0m     __core_schema: CoreSchema,\n\u001b[1;32m    590\u001b[0m     __handler: GetJsonSchemaHandler,\n\u001b[1;32m    591\u001b[0m ) \u001b[38;5;241m-\u001b[39m\u001b[38;5;241m>\u001b[39m JsonSchemaValue:\n\u001b[1;32m    592\u001b[0m \u001b[38;5;250m    \u001b[39m\u001b[38;5;124;03m\"\"\"Hook into generating the model's JSON schema.\u001b[39;00m\n\u001b[1;32m    593\u001b[0m \n\u001b[1;32m    594\u001b[0m \u001b[38;5;124;03m    Args:\u001b[39;00m\n\u001b[0;32m   (...)\u001b[0m\n\u001b[1;32m    607\u001b[0m \u001b[38;5;124;03m        A JSON schema, as a Python object.\u001b[39;00m\n\u001b[1;32m    608\u001b[0m \u001b[38;5;124;03m    \"\"\"\u001b[39;00m\n\u001b[0;32m--> 609\u001b[0m     \u001b[38;5;28;01mreturn\u001b[39;00m \u001b[43m__handler\u001b[49m\u001b[43m(\u001b[49m\u001b[43m__core_schema\u001b[49m\u001b[43m)\u001b[49m\n",
      "File \u001b[0;32m~/.pyenv/versions/3.12.1/envs/abstractions/lib/python3.12/site-packages/pydantic/_internal/_schema_generation_shared.py:36\u001b[0m, in \u001b[0;36mGenerateJsonSchemaHandler.__call__\u001b[0;34m(self, _GenerateJsonSchemaHandler__core_schema)\u001b[0m\n\u001b[1;32m     35\u001b[0m \u001b[38;5;28;01mdef\u001b[39;00m \u001b[38;5;21m__call__\u001b[39m(\u001b[38;5;28mself\u001b[39m, __core_schema: CoreSchemaOrField) \u001b[38;5;241m-\u001b[39m\u001b[38;5;241m>\u001b[39m JsonSchemaValue:\n\u001b[0;32m---> 36\u001b[0m     \u001b[38;5;28;01mreturn\u001b[39;00m \u001b[38;5;28;43mself\u001b[39;49m\u001b[38;5;241;43m.\u001b[39;49m\u001b[43mhandler\u001b[49m\u001b[43m(\u001b[49m\u001b[43m__core_schema\u001b[49m\u001b[43m)\u001b[49m\n",
      "File \u001b[0;32m~/.pyenv/versions/3.12.1/envs/abstractions/lib/python3.12/site-packages/pydantic/json_schema.py:521\u001b[0m, in \u001b[0;36mGenerateJsonSchema.generate_inner.<locals>.new_handler_func\u001b[0;34m(schema_or_field, current_handler, js_modify_function)\u001b[0m\n\u001b[1;32m    516\u001b[0m \u001b[38;5;28;01mdef\u001b[39;00m \u001b[38;5;21mnew_handler_func\u001b[39m(\n\u001b[1;32m    517\u001b[0m     schema_or_field: CoreSchemaOrField,\n\u001b[1;32m    518\u001b[0m     current_handler: GetJsonSchemaHandler \u001b[38;5;241m=\u001b[39m current_handler,\n\u001b[1;32m    519\u001b[0m     js_modify_function: GetJsonSchemaFunction \u001b[38;5;241m=\u001b[39m js_modify_function,\n\u001b[1;32m    520\u001b[0m ) \u001b[38;5;241m-\u001b[39m\u001b[38;5;241m>\u001b[39m JsonSchemaValue:\n\u001b[0;32m--> 521\u001b[0m     json_schema \u001b[38;5;241m=\u001b[39m \u001b[43mjs_modify_function\u001b[49m\u001b[43m(\u001b[49m\u001b[43mschema_or_field\u001b[49m\u001b[43m,\u001b[49m\u001b[43m \u001b[49m\u001b[43mcurrent_handler\u001b[49m\u001b[43m)\u001b[49m\n\u001b[1;32m    522\u001b[0m     \u001b[38;5;28;01mif\u001b[39;00m _core_utils\u001b[38;5;241m.\u001b[39mis_core_schema(schema_or_field):\n\u001b[1;32m    523\u001b[0m         json_schema \u001b[38;5;241m=\u001b[39m populate_defs(schema_or_field, json_schema)\n",
      "File \u001b[0;32m~/.pyenv/versions/3.12.1/envs/abstractions/lib/python3.12/site-packages/pydantic/_internal/_generate_schema.py:222\u001b[0m, in \u001b[0;36mmodify_model_json_schema\u001b[0;34m(schema_or_field, handler, cls)\u001b[0m\n\u001b[1;32m    210\u001b[0m \u001b[38;5;250m\u001b[39m\u001b[38;5;124;03m\"\"\"Add title and description for model-like classes' JSON schema.\u001b[39;00m\n\u001b[1;32m    211\u001b[0m \n\u001b[1;32m    212\u001b[0m \u001b[38;5;124;03mArgs:\u001b[39;00m\n\u001b[0;32m   (...)\u001b[0m\n\u001b[1;32m    218\u001b[0m \u001b[38;5;124;03m    JsonSchemaValue: The updated JSON schema.\u001b[39;00m\n\u001b[1;32m    219\u001b[0m \u001b[38;5;124;03m\"\"\"\u001b[39;00m\n\u001b[1;32m    220\u001b[0m \u001b[38;5;28;01mfrom\u001b[39;00m \u001b[38;5;21;01m.\u001b[39;00m\u001b[38;5;21;01m.\u001b[39;00m\u001b[38;5;21;01mmain\u001b[39;00m \u001b[38;5;28;01mimport\u001b[39;00m BaseModel\n\u001b[0;32m--> 222\u001b[0m json_schema \u001b[38;5;241m=\u001b[39m \u001b[43mhandler\u001b[49m\u001b[43m(\u001b[49m\u001b[43mschema_or_field\u001b[49m\u001b[43m)\u001b[49m\n\u001b[1;32m    223\u001b[0m original_schema \u001b[38;5;241m=\u001b[39m handler\u001b[38;5;241m.\u001b[39mresolve_ref_schema(json_schema)\n\u001b[1;32m    224\u001b[0m \u001b[38;5;66;03m# Preserve the fact that definitions schemas should never have sibling keys:\u001b[39;00m\n",
      "File \u001b[0;32m~/.pyenv/versions/3.12.1/envs/abstractions/lib/python3.12/site-packages/pydantic/_internal/_schema_generation_shared.py:36\u001b[0m, in \u001b[0;36mGenerateJsonSchemaHandler.__call__\u001b[0;34m(self, _GenerateJsonSchemaHandler__core_schema)\u001b[0m\n\u001b[1;32m     35\u001b[0m \u001b[38;5;28;01mdef\u001b[39;00m \u001b[38;5;21m__call__\u001b[39m(\u001b[38;5;28mself\u001b[39m, __core_schema: CoreSchemaOrField) \u001b[38;5;241m-\u001b[39m\u001b[38;5;241m>\u001b[39m JsonSchemaValue:\n\u001b[0;32m---> 36\u001b[0m     \u001b[38;5;28;01mreturn\u001b[39;00m \u001b[38;5;28;43mself\u001b[39;49m\u001b[38;5;241;43m.\u001b[39;49m\u001b[43mhandler\u001b[49m\u001b[43m(\u001b[49m\u001b[43m__core_schema\u001b[49m\u001b[43m)\u001b[49m\n",
      "File \u001b[0;32m~/.pyenv/versions/3.12.1/envs/abstractions/lib/python3.12/site-packages/pydantic/json_schema.py:504\u001b[0m, in \u001b[0;36mGenerateJsonSchema.generate_inner.<locals>.handler_func\u001b[0;34m(schema_or_field)\u001b[0m\n\u001b[1;32m    502\u001b[0m \u001b[38;5;28;01mif\u001b[39;00m _core_utils\u001b[38;5;241m.\u001b[39mis_core_schema(schema_or_field) \u001b[38;5;129;01mor\u001b[39;00m _core_utils\u001b[38;5;241m.\u001b[39mis_core_schema_field(schema_or_field):\n\u001b[1;32m    503\u001b[0m     generate_for_schema_type \u001b[38;5;241m=\u001b[39m \u001b[38;5;28mself\u001b[39m\u001b[38;5;241m.\u001b[39m_schema_type_to_method[schema_or_field[\u001b[38;5;124m'\u001b[39m\u001b[38;5;124mtype\u001b[39m\u001b[38;5;124m'\u001b[39m]]\n\u001b[0;32m--> 504\u001b[0m     json_schema \u001b[38;5;241m=\u001b[39m \u001b[43mgenerate_for_schema_type\u001b[49m\u001b[43m(\u001b[49m\u001b[43mschema_or_field\u001b[49m\u001b[43m)\u001b[49m\n\u001b[1;32m    505\u001b[0m \u001b[38;5;28;01melse\u001b[39;00m:\n\u001b[1;32m    506\u001b[0m     \u001b[38;5;28;01mraise\u001b[39;00m \u001b[38;5;167;01mTypeError\u001b[39;00m(\u001b[38;5;124mf\u001b[39m\u001b[38;5;124m'\u001b[39m\u001b[38;5;124mUnexpected schema type: schema=\u001b[39m\u001b[38;5;132;01m{\u001b[39;00mschema_or_field\u001b[38;5;132;01m}\u001b[39;00m\u001b[38;5;124m'\u001b[39m)\n",
      "File \u001b[0;32m~/.pyenv/versions/3.12.1/envs/abstractions/lib/python3.12/site-packages/pydantic/json_schema.py:1344\u001b[0m, in \u001b[0;36mGenerateJsonSchema.model_schema\u001b[0;34m(self, schema)\u001b[0m\n\u001b[1;32m   1341\u001b[0m title \u001b[38;5;241m=\u001b[39m config\u001b[38;5;241m.\u001b[39mget(\u001b[38;5;124m'\u001b[39m\u001b[38;5;124mtitle\u001b[39m\u001b[38;5;124m'\u001b[39m)\n\u001b[1;32m   1343\u001b[0m \u001b[38;5;28;01mwith\u001b[39;00m \u001b[38;5;28mself\u001b[39m\u001b[38;5;241m.\u001b[39m_config_wrapper_stack\u001b[38;5;241m.\u001b[39mpush(config):\n\u001b[0;32m-> 1344\u001b[0m     json_schema \u001b[38;5;241m=\u001b[39m \u001b[38;5;28;43mself\u001b[39;49m\u001b[38;5;241;43m.\u001b[39;49m\u001b[43mgenerate_inner\u001b[49m\u001b[43m(\u001b[49m\u001b[43mschema\u001b[49m\u001b[43m[\u001b[49m\u001b[38;5;124;43m'\u001b[39;49m\u001b[38;5;124;43mschema\u001b[39;49m\u001b[38;5;124;43m'\u001b[39;49m\u001b[43m]\u001b[49m\u001b[43m)\u001b[49m\n\u001b[1;32m   1346\u001b[0m json_schema_extra \u001b[38;5;241m=\u001b[39m config\u001b[38;5;241m.\u001b[39mget(\u001b[38;5;124m'\u001b[39m\u001b[38;5;124mjson_schema_extra\u001b[39m\u001b[38;5;124m'\u001b[39m)\n\u001b[1;32m   1347\u001b[0m \u001b[38;5;28;01mif\u001b[39;00m \u001b[38;5;28mcls\u001b[39m\u001b[38;5;241m.\u001b[39m__pydantic_root_model__:\n",
      "File \u001b[0;32m~/.pyenv/versions/3.12.1/envs/abstractions/lib/python3.12/site-packages/pydantic/json_schema.py:547\u001b[0m, in \u001b[0;36mGenerateJsonSchema.generate_inner\u001b[0;34m(self, schema)\u001b[0m\n\u001b[1;32m    543\u001b[0m         \u001b[38;5;28;01mreturn\u001b[39;00m json_schema\n\u001b[1;32m    545\u001b[0m     current_handler \u001b[38;5;241m=\u001b[39m _schema_generation_shared\u001b[38;5;241m.\u001b[39mGenerateJsonSchemaHandler(\u001b[38;5;28mself\u001b[39m, new_handler_func)\n\u001b[0;32m--> 547\u001b[0m json_schema \u001b[38;5;241m=\u001b[39m \u001b[43mcurrent_handler\u001b[49m\u001b[43m(\u001b[49m\u001b[43mschema\u001b[49m\u001b[43m)\u001b[49m\n\u001b[1;32m    548\u001b[0m \u001b[38;5;28;01mif\u001b[39;00m _core_utils\u001b[38;5;241m.\u001b[39mis_core_schema(schema):\n\u001b[1;32m    549\u001b[0m     json_schema \u001b[38;5;241m=\u001b[39m populate_defs(schema, json_schema)\n",
      "File \u001b[0;32m~/.pyenv/versions/3.12.1/envs/abstractions/lib/python3.12/site-packages/pydantic/_internal/_schema_generation_shared.py:36\u001b[0m, in \u001b[0;36mGenerateJsonSchemaHandler.__call__\u001b[0;34m(self, _GenerateJsonSchemaHandler__core_schema)\u001b[0m\n\u001b[1;32m     35\u001b[0m \u001b[38;5;28;01mdef\u001b[39;00m \u001b[38;5;21m__call__\u001b[39m(\u001b[38;5;28mself\u001b[39m, __core_schema: CoreSchemaOrField) \u001b[38;5;241m-\u001b[39m\u001b[38;5;241m>\u001b[39m JsonSchemaValue:\n\u001b[0;32m---> 36\u001b[0m     \u001b[38;5;28;01mreturn\u001b[39;00m \u001b[38;5;28;43mself\u001b[39;49m\u001b[38;5;241;43m.\u001b[39;49m\u001b[43mhandler\u001b[49m\u001b[43m(\u001b[49m\u001b[43m__core_schema\u001b[49m\u001b[43m)\u001b[49m\n",
      "File \u001b[0;32m~/.pyenv/versions/3.12.1/envs/abstractions/lib/python3.12/site-packages/pydantic/json_schema.py:504\u001b[0m, in \u001b[0;36mGenerateJsonSchema.generate_inner.<locals>.handler_func\u001b[0;34m(schema_or_field)\u001b[0m\n\u001b[1;32m    502\u001b[0m \u001b[38;5;28;01mif\u001b[39;00m _core_utils\u001b[38;5;241m.\u001b[39mis_core_schema(schema_or_field) \u001b[38;5;129;01mor\u001b[39;00m _core_utils\u001b[38;5;241m.\u001b[39mis_core_schema_field(schema_or_field):\n\u001b[1;32m    503\u001b[0m     generate_for_schema_type \u001b[38;5;241m=\u001b[39m \u001b[38;5;28mself\u001b[39m\u001b[38;5;241m.\u001b[39m_schema_type_to_method[schema_or_field[\u001b[38;5;124m'\u001b[39m\u001b[38;5;124mtype\u001b[39m\u001b[38;5;124m'\u001b[39m]]\n\u001b[0;32m--> 504\u001b[0m     json_schema \u001b[38;5;241m=\u001b[39m \u001b[43mgenerate_for_schema_type\u001b[49m\u001b[43m(\u001b[49m\u001b[43mschema_or_field\u001b[49m\u001b[43m)\u001b[49m\n\u001b[1;32m    505\u001b[0m \u001b[38;5;28;01melse\u001b[39;00m:\n\u001b[1;32m    506\u001b[0m     \u001b[38;5;28;01mraise\u001b[39;00m \u001b[38;5;167;01mTypeError\u001b[39;00m(\u001b[38;5;124mf\u001b[39m\u001b[38;5;124m'\u001b[39m\u001b[38;5;124mUnexpected schema type: schema=\u001b[39m\u001b[38;5;132;01m{\u001b[39;00mschema_or_field\u001b[38;5;132;01m}\u001b[39;00m\u001b[38;5;124m'\u001b[39m)\n",
      "File \u001b[0;32m~/.pyenv/versions/3.12.1/envs/abstractions/lib/python3.12/site-packages/pydantic/json_schema.py:1436\u001b[0m, in \u001b[0;36mGenerateJsonSchema.model_fields_schema\u001b[0;34m(self, schema)\u001b[0m\n\u001b[1;32m   1434\u001b[0m \u001b[38;5;28;01mif\u001b[39;00m \u001b[38;5;28mself\u001b[39m\u001b[38;5;241m.\u001b[39mmode \u001b[38;5;241m==\u001b[39m \u001b[38;5;124m'\u001b[39m\u001b[38;5;124mserialization\u001b[39m\u001b[38;5;124m'\u001b[39m:\n\u001b[1;32m   1435\u001b[0m     named_required_fields\u001b[38;5;241m.\u001b[39mextend(\u001b[38;5;28mself\u001b[39m\u001b[38;5;241m.\u001b[39m_name_required_computed_fields(schema\u001b[38;5;241m.\u001b[39mget(\u001b[38;5;124m'\u001b[39m\u001b[38;5;124mcomputed_fields\u001b[39m\u001b[38;5;124m'\u001b[39m, [])))\n\u001b[0;32m-> 1436\u001b[0m json_schema \u001b[38;5;241m=\u001b[39m \u001b[38;5;28;43mself\u001b[39;49m\u001b[38;5;241;43m.\u001b[39;49m\u001b[43m_named_required_fields_schema\u001b[49m\u001b[43m(\u001b[49m\u001b[43mnamed_required_fields\u001b[49m\u001b[43m)\u001b[49m\n\u001b[1;32m   1437\u001b[0m extras_schema \u001b[38;5;241m=\u001b[39m schema\u001b[38;5;241m.\u001b[39mget(\u001b[38;5;124m'\u001b[39m\u001b[38;5;124mextras_schema\u001b[39m\u001b[38;5;124m'\u001b[39m, \u001b[38;5;28;01mNone\u001b[39;00m)\n\u001b[1;32m   1438\u001b[0m \u001b[38;5;28;01mif\u001b[39;00m extras_schema \u001b[38;5;129;01mis\u001b[39;00m \u001b[38;5;129;01mnot\u001b[39;00m \u001b[38;5;28;01mNone\u001b[39;00m:\n",
      "File \u001b[0;32m~/.pyenv/versions/3.12.1/envs/abstractions/lib/python3.12/site-packages/pydantic/json_schema.py:1247\u001b[0m, in \u001b[0;36mGenerateJsonSchema._named_required_fields_schema\u001b[0;34m(self, named_required_fields)\u001b[0m\n\u001b[1;32m   1245\u001b[0m     name \u001b[38;5;241m=\u001b[39m \u001b[38;5;28mself\u001b[39m\u001b[38;5;241m.\u001b[39m_get_alias_name(field, name)\n\u001b[1;32m   1246\u001b[0m \u001b[38;5;28;01mtry\u001b[39;00m:\n\u001b[0;32m-> 1247\u001b[0m     field_json_schema \u001b[38;5;241m=\u001b[39m \u001b[38;5;28;43mself\u001b[39;49m\u001b[38;5;241;43m.\u001b[39;49m\u001b[43mgenerate_inner\u001b[49m\u001b[43m(\u001b[49m\u001b[43mfield\u001b[49m\u001b[43m)\u001b[49m\u001b[38;5;241m.\u001b[39mcopy()\n\u001b[1;32m   1248\u001b[0m \u001b[38;5;28;01mexcept\u001b[39;00m PydanticOmit:\n\u001b[1;32m   1249\u001b[0m     \u001b[38;5;28;01mcontinue\u001b[39;00m\n",
      "File \u001b[0;32m~/.pyenv/versions/3.12.1/envs/abstractions/lib/python3.12/site-packages/pydantic/json_schema.py:547\u001b[0m, in \u001b[0;36mGenerateJsonSchema.generate_inner\u001b[0;34m(self, schema)\u001b[0m\n\u001b[1;32m    543\u001b[0m         \u001b[38;5;28;01mreturn\u001b[39;00m json_schema\n\u001b[1;32m    545\u001b[0m     current_handler \u001b[38;5;241m=\u001b[39m _schema_generation_shared\u001b[38;5;241m.\u001b[39mGenerateJsonSchemaHandler(\u001b[38;5;28mself\u001b[39m, new_handler_func)\n\u001b[0;32m--> 547\u001b[0m json_schema \u001b[38;5;241m=\u001b[39m \u001b[43mcurrent_handler\u001b[49m\u001b[43m(\u001b[49m\u001b[43mschema\u001b[49m\u001b[43m)\u001b[49m\n\u001b[1;32m    548\u001b[0m \u001b[38;5;28;01mif\u001b[39;00m _core_utils\u001b[38;5;241m.\u001b[39mis_core_schema(schema):\n\u001b[1;32m    549\u001b[0m     json_schema \u001b[38;5;241m=\u001b[39m populate_defs(schema, json_schema)\n",
      "File \u001b[0;32m~/.pyenv/versions/3.12.1/envs/abstractions/lib/python3.12/site-packages/pydantic/_internal/_schema_generation_shared.py:36\u001b[0m, in \u001b[0;36mGenerateJsonSchemaHandler.__call__\u001b[0;34m(self, _GenerateJsonSchemaHandler__core_schema)\u001b[0m\n\u001b[1;32m     35\u001b[0m \u001b[38;5;28;01mdef\u001b[39;00m \u001b[38;5;21m__call__\u001b[39m(\u001b[38;5;28mself\u001b[39m, __core_schema: CoreSchemaOrField) \u001b[38;5;241m-\u001b[39m\u001b[38;5;241m>\u001b[39m JsonSchemaValue:\n\u001b[0;32m---> 36\u001b[0m     \u001b[38;5;28;01mreturn\u001b[39;00m \u001b[38;5;28;43mself\u001b[39;49m\u001b[38;5;241;43m.\u001b[39;49m\u001b[43mhandler\u001b[49m\u001b[43m(\u001b[49m\u001b[43m__core_schema\u001b[49m\u001b[43m)\u001b[49m\n",
      "File \u001b[0;32m~/.pyenv/versions/3.12.1/envs/abstractions/lib/python3.12/site-packages/pydantic/json_schema.py:539\u001b[0m, in \u001b[0;36mGenerateJsonSchema.generate_inner.<locals>.new_handler_func\u001b[0;34m(schema_or_field, current_handler, js_modify_function)\u001b[0m\n\u001b[1;32m    534\u001b[0m \u001b[38;5;28;01mdef\u001b[39;00m \u001b[38;5;21mnew_handler_func\u001b[39m(\n\u001b[1;32m    535\u001b[0m     schema_or_field: CoreSchemaOrField,\n\u001b[1;32m    536\u001b[0m     current_handler: GetJsonSchemaHandler \u001b[38;5;241m=\u001b[39m current_handler,\n\u001b[1;32m    537\u001b[0m     js_modify_function: GetJsonSchemaFunction \u001b[38;5;241m=\u001b[39m js_modify_function,\n\u001b[1;32m    538\u001b[0m ) \u001b[38;5;241m-\u001b[39m\u001b[38;5;241m>\u001b[39m JsonSchemaValue:\n\u001b[0;32m--> 539\u001b[0m     json_schema \u001b[38;5;241m=\u001b[39m \u001b[43mjs_modify_function\u001b[49m\u001b[43m(\u001b[49m\u001b[43mschema_or_field\u001b[49m\u001b[43m,\u001b[49m\u001b[43m \u001b[49m\u001b[43mcurrent_handler\u001b[49m\u001b[43m)\u001b[49m\n\u001b[1;32m    540\u001b[0m     \u001b[38;5;28;01mif\u001b[39;00m _core_utils\u001b[38;5;241m.\u001b[39mis_core_schema(schema_or_field):\n\u001b[1;32m    541\u001b[0m         json_schema \u001b[38;5;241m=\u001b[39m populate_defs(schema_or_field, json_schema)\n",
      "File \u001b[0;32m~/.pyenv/versions/3.12.1/envs/abstractions/lib/python3.12/site-packages/pydantic/_internal/_generate_schema.py:2105\u001b[0m, in \u001b[0;36mget_json_schema_update_func.<locals>.json_schema_update_func\u001b[0;34m(core_schema_or_field, handler)\u001b[0m\n\u001b[1;32m   2102\u001b[0m \u001b[38;5;28;01mdef\u001b[39;00m \u001b[38;5;21mjson_schema_update_func\u001b[39m(\n\u001b[1;32m   2103\u001b[0m     core_schema_or_field: CoreSchemaOrField, handler: GetJsonSchemaHandler\n\u001b[1;32m   2104\u001b[0m ) \u001b[38;5;241m-\u001b[39m\u001b[38;5;241m>\u001b[39m JsonSchemaValue:\n\u001b[0;32m-> 2105\u001b[0m     json_schema \u001b[38;5;241m=\u001b[39m {\u001b[38;5;241m*\u001b[39m\u001b[38;5;241m*\u001b[39m\u001b[43mhandler\u001b[49m\u001b[43m(\u001b[49m\u001b[43mcore_schema_or_field\u001b[49m\u001b[43m)\u001b[49m, \u001b[38;5;241m*\u001b[39m\u001b[38;5;241m*\u001b[39mjson_schema_update}\n\u001b[1;32m   2106\u001b[0m     add_json_schema_extra(json_schema, json_schema_extra)\n\u001b[1;32m   2107\u001b[0m     \u001b[38;5;28;01mreturn\u001b[39;00m json_schema\n",
      "File \u001b[0;32m~/.pyenv/versions/3.12.1/envs/abstractions/lib/python3.12/site-packages/pydantic/_internal/_schema_generation_shared.py:36\u001b[0m, in \u001b[0;36mGenerateJsonSchemaHandler.__call__\u001b[0;34m(self, _GenerateJsonSchemaHandler__core_schema)\u001b[0m\n\u001b[1;32m     35\u001b[0m \u001b[38;5;28;01mdef\u001b[39;00m \u001b[38;5;21m__call__\u001b[39m(\u001b[38;5;28mself\u001b[39m, __core_schema: CoreSchemaOrField) \u001b[38;5;241m-\u001b[39m\u001b[38;5;241m>\u001b[39m JsonSchemaValue:\n\u001b[0;32m---> 36\u001b[0m     \u001b[38;5;28;01mreturn\u001b[39;00m \u001b[38;5;28;43mself\u001b[39;49m\u001b[38;5;241;43m.\u001b[39;49m\u001b[43mhandler\u001b[49m\u001b[43m(\u001b[49m\u001b[43m__core_schema\u001b[49m\u001b[43m)\u001b[49m\n",
      "File \u001b[0;32m~/.pyenv/versions/3.12.1/envs/abstractions/lib/python3.12/site-packages/pydantic/json_schema.py:504\u001b[0m, in \u001b[0;36mGenerateJsonSchema.generate_inner.<locals>.handler_func\u001b[0;34m(schema_or_field)\u001b[0m\n\u001b[1;32m    502\u001b[0m \u001b[38;5;28;01mif\u001b[39;00m _core_utils\u001b[38;5;241m.\u001b[39mis_core_schema(schema_or_field) \u001b[38;5;129;01mor\u001b[39;00m _core_utils\u001b[38;5;241m.\u001b[39mis_core_schema_field(schema_or_field):\n\u001b[1;32m    503\u001b[0m     generate_for_schema_type \u001b[38;5;241m=\u001b[39m \u001b[38;5;28mself\u001b[39m\u001b[38;5;241m.\u001b[39m_schema_type_to_method[schema_or_field[\u001b[38;5;124m'\u001b[39m\u001b[38;5;124mtype\u001b[39m\u001b[38;5;124m'\u001b[39m]]\n\u001b[0;32m--> 504\u001b[0m     json_schema \u001b[38;5;241m=\u001b[39m \u001b[43mgenerate_for_schema_type\u001b[49m\u001b[43m(\u001b[49m\u001b[43mschema_or_field\u001b[49m\u001b[43m)\u001b[49m\n\u001b[1;32m    505\u001b[0m \u001b[38;5;28;01melse\u001b[39;00m:\n\u001b[1;32m    506\u001b[0m     \u001b[38;5;28;01mraise\u001b[39;00m \u001b[38;5;167;01mTypeError\u001b[39;00m(\u001b[38;5;124mf\u001b[39m\u001b[38;5;124m'\u001b[39m\u001b[38;5;124mUnexpected schema type: schema=\u001b[39m\u001b[38;5;132;01m{\u001b[39;00mschema_or_field\u001b[38;5;132;01m}\u001b[39;00m\u001b[38;5;124m'\u001b[39m)\n",
      "File \u001b[0;32m~/.pyenv/versions/3.12.1/envs/abstractions/lib/python3.12/site-packages/pydantic/json_schema.py:1315\u001b[0m, in \u001b[0;36mGenerateJsonSchema.model_field_schema\u001b[0;34m(self, schema)\u001b[0m\n\u001b[1;32m   1306\u001b[0m \u001b[38;5;28;01mdef\u001b[39;00m \u001b[38;5;21mmodel_field_schema\u001b[39m(\u001b[38;5;28mself\u001b[39m, schema: core_schema\u001b[38;5;241m.\u001b[39mModelField) \u001b[38;5;241m-\u001b[39m\u001b[38;5;241m>\u001b[39m JsonSchemaValue:\n\u001b[1;32m   1307\u001b[0m \u001b[38;5;250m    \u001b[39m\u001b[38;5;124;03m\"\"\"Generates a JSON schema that matches a schema that defines a model field.\u001b[39;00m\n\u001b[1;32m   1308\u001b[0m \n\u001b[1;32m   1309\u001b[0m \u001b[38;5;124;03m    Args:\u001b[39;00m\n\u001b[0;32m   (...)\u001b[0m\n\u001b[1;32m   1313\u001b[0m \u001b[38;5;124;03m        The generated JSON schema.\u001b[39;00m\n\u001b[1;32m   1314\u001b[0m \u001b[38;5;124;03m    \"\"\"\u001b[39;00m\n\u001b[0;32m-> 1315\u001b[0m     \u001b[38;5;28;01mreturn\u001b[39;00m \u001b[38;5;28;43mself\u001b[39;49m\u001b[38;5;241;43m.\u001b[39;49m\u001b[43mgenerate_inner\u001b[49m\u001b[43m(\u001b[49m\u001b[43mschema\u001b[49m\u001b[43m[\u001b[49m\u001b[38;5;124;43m'\u001b[39;49m\u001b[38;5;124;43mschema\u001b[39;49m\u001b[38;5;124;43m'\u001b[39;49m\u001b[43m]\u001b[49m\u001b[43m)\u001b[49m\n",
      "File \u001b[0;32m~/.pyenv/versions/3.12.1/envs/abstractions/lib/python3.12/site-packages/pydantic/json_schema.py:547\u001b[0m, in \u001b[0;36mGenerateJsonSchema.generate_inner\u001b[0;34m(self, schema)\u001b[0m\n\u001b[1;32m    543\u001b[0m         \u001b[38;5;28;01mreturn\u001b[39;00m json_schema\n\u001b[1;32m    545\u001b[0m     current_handler \u001b[38;5;241m=\u001b[39m _schema_generation_shared\u001b[38;5;241m.\u001b[39mGenerateJsonSchemaHandler(\u001b[38;5;28mself\u001b[39m, new_handler_func)\n\u001b[0;32m--> 547\u001b[0m json_schema \u001b[38;5;241m=\u001b[39m \u001b[43mcurrent_handler\u001b[49m\u001b[43m(\u001b[49m\u001b[43mschema\u001b[49m\u001b[43m)\u001b[49m\n\u001b[1;32m    548\u001b[0m \u001b[38;5;28;01mif\u001b[39;00m _core_utils\u001b[38;5;241m.\u001b[39mis_core_schema(schema):\n\u001b[1;32m    549\u001b[0m     json_schema \u001b[38;5;241m=\u001b[39m populate_defs(schema, json_schema)\n",
      "File \u001b[0;32m~/.pyenv/versions/3.12.1/envs/abstractions/lib/python3.12/site-packages/pydantic/_internal/_schema_generation_shared.py:36\u001b[0m, in \u001b[0;36mGenerateJsonSchemaHandler.__call__\u001b[0;34m(self, _GenerateJsonSchemaHandler__core_schema)\u001b[0m\n\u001b[1;32m     35\u001b[0m \u001b[38;5;28;01mdef\u001b[39;00m \u001b[38;5;21m__call__\u001b[39m(\u001b[38;5;28mself\u001b[39m, __core_schema: CoreSchemaOrField) \u001b[38;5;241m-\u001b[39m\u001b[38;5;241m>\u001b[39m JsonSchemaValue:\n\u001b[0;32m---> 36\u001b[0m     \u001b[38;5;28;01mreturn\u001b[39;00m \u001b[38;5;28;43mself\u001b[39;49m\u001b[38;5;241;43m.\u001b[39;49m\u001b[43mhandler\u001b[49m\u001b[43m(\u001b[49m\u001b[43m__core_schema\u001b[49m\u001b[43m)\u001b[49m\n",
      "File \u001b[0;32m~/.pyenv/versions/3.12.1/envs/abstractions/lib/python3.12/site-packages/pydantic/json_schema.py:504\u001b[0m, in \u001b[0;36mGenerateJsonSchema.generate_inner.<locals>.handler_func\u001b[0;34m(schema_or_field)\u001b[0m\n\u001b[1;32m    502\u001b[0m \u001b[38;5;28;01mif\u001b[39;00m _core_utils\u001b[38;5;241m.\u001b[39mis_core_schema(schema_or_field) \u001b[38;5;129;01mor\u001b[39;00m _core_utils\u001b[38;5;241m.\u001b[39mis_core_schema_field(schema_or_field):\n\u001b[1;32m    503\u001b[0m     generate_for_schema_type \u001b[38;5;241m=\u001b[39m \u001b[38;5;28mself\u001b[39m\u001b[38;5;241m.\u001b[39m_schema_type_to_method[schema_or_field[\u001b[38;5;124m'\u001b[39m\u001b[38;5;124mtype\u001b[39m\u001b[38;5;124m'\u001b[39m]]\n\u001b[0;32m--> 504\u001b[0m     json_schema \u001b[38;5;241m=\u001b[39m \u001b[43mgenerate_for_schema_type\u001b[49m\u001b[43m(\u001b[49m\u001b[43mschema_or_field\u001b[49m\u001b[43m)\u001b[49m\n\u001b[1;32m    505\u001b[0m \u001b[38;5;28;01melse\u001b[39;00m:\n\u001b[1;32m    506\u001b[0m     \u001b[38;5;28;01mraise\u001b[39;00m \u001b[38;5;167;01mTypeError\u001b[39;00m(\u001b[38;5;124mf\u001b[39m\u001b[38;5;124m'\u001b[39m\u001b[38;5;124mUnexpected schema type: schema=\u001b[39m\u001b[38;5;132;01m{\u001b[39;00mschema_or_field\u001b[38;5;132;01m}\u001b[39;00m\u001b[38;5;124m'\u001b[39m)\n",
      "File \u001b[0;32m~/.pyenv/versions/3.12.1/envs/abstractions/lib/python3.12/site-packages/pydantic/json_schema.py:999\u001b[0m, in \u001b[0;36mGenerateJsonSchema.default_schema\u001b[0;34m(self, schema)\u001b[0m\n\u001b[1;32m    990\u001b[0m \u001b[38;5;28;01mdef\u001b[39;00m \u001b[38;5;21mdefault_schema\u001b[39m(\u001b[38;5;28mself\u001b[39m, schema: core_schema\u001b[38;5;241m.\u001b[39mWithDefaultSchema) \u001b[38;5;241m-\u001b[39m\u001b[38;5;241m>\u001b[39m JsonSchemaValue:\n\u001b[1;32m    991\u001b[0m \u001b[38;5;250m    \u001b[39m\u001b[38;5;124;03m\"\"\"Generates a JSON schema that matches a schema with a default value.\u001b[39;00m\n\u001b[1;32m    992\u001b[0m \n\u001b[1;32m    993\u001b[0m \u001b[38;5;124;03m    Args:\u001b[39;00m\n\u001b[0;32m   (...)\u001b[0m\n\u001b[1;32m    997\u001b[0m \u001b[38;5;124;03m        The generated JSON schema.\u001b[39;00m\n\u001b[1;32m    998\u001b[0m \u001b[38;5;124;03m    \"\"\"\u001b[39;00m\n\u001b[0;32m--> 999\u001b[0m     json_schema \u001b[38;5;241m=\u001b[39m \u001b[38;5;28;43mself\u001b[39;49m\u001b[38;5;241;43m.\u001b[39;49m\u001b[43mgenerate_inner\u001b[49m\u001b[43m(\u001b[49m\u001b[43mschema\u001b[49m\u001b[43m[\u001b[49m\u001b[38;5;124;43m'\u001b[39;49m\u001b[38;5;124;43mschema\u001b[39;49m\u001b[38;5;124;43m'\u001b[39;49m\u001b[43m]\u001b[49m\u001b[43m)\u001b[49m\n\u001b[1;32m   1001\u001b[0m     \u001b[38;5;28;01mif\u001b[39;00m \u001b[38;5;124m'\u001b[39m\u001b[38;5;124mdefault\u001b[39m\u001b[38;5;124m'\u001b[39m \u001b[38;5;129;01mnot\u001b[39;00m \u001b[38;5;129;01min\u001b[39;00m schema:\n\u001b[1;32m   1002\u001b[0m         \u001b[38;5;28;01mreturn\u001b[39;00m json_schema\n",
      "File \u001b[0;32m~/.pyenv/versions/3.12.1/envs/abstractions/lib/python3.12/site-packages/pydantic/json_schema.py:547\u001b[0m, in \u001b[0;36mGenerateJsonSchema.generate_inner\u001b[0;34m(self, schema)\u001b[0m\n\u001b[1;32m    543\u001b[0m         \u001b[38;5;28;01mreturn\u001b[39;00m json_schema\n\u001b[1;32m    545\u001b[0m     current_handler \u001b[38;5;241m=\u001b[39m _schema_generation_shared\u001b[38;5;241m.\u001b[39mGenerateJsonSchemaHandler(\u001b[38;5;28mself\u001b[39m, new_handler_func)\n\u001b[0;32m--> 547\u001b[0m json_schema \u001b[38;5;241m=\u001b[39m \u001b[43mcurrent_handler\u001b[49m\u001b[43m(\u001b[49m\u001b[43mschema\u001b[49m\u001b[43m)\u001b[49m\n\u001b[1;32m    548\u001b[0m \u001b[38;5;28;01mif\u001b[39;00m _core_utils\u001b[38;5;241m.\u001b[39mis_core_schema(schema):\n\u001b[1;32m    549\u001b[0m     json_schema \u001b[38;5;241m=\u001b[39m populate_defs(schema, json_schema)\n",
      "File \u001b[0;32m~/.pyenv/versions/3.12.1/envs/abstractions/lib/python3.12/site-packages/pydantic/_internal/_schema_generation_shared.py:36\u001b[0m, in \u001b[0;36mGenerateJsonSchemaHandler.__call__\u001b[0;34m(self, _GenerateJsonSchemaHandler__core_schema)\u001b[0m\n\u001b[1;32m     35\u001b[0m \u001b[38;5;28;01mdef\u001b[39;00m \u001b[38;5;21m__call__\u001b[39m(\u001b[38;5;28mself\u001b[39m, __core_schema: CoreSchemaOrField) \u001b[38;5;241m-\u001b[39m\u001b[38;5;241m>\u001b[39m JsonSchemaValue:\n\u001b[0;32m---> 36\u001b[0m     \u001b[38;5;28;01mreturn\u001b[39;00m \u001b[38;5;28;43mself\u001b[39;49m\u001b[38;5;241;43m.\u001b[39;49m\u001b[43mhandler\u001b[49m\u001b[43m(\u001b[49m\u001b[43m__core_schema\u001b[49m\u001b[43m)\u001b[49m\n",
      "File \u001b[0;32m~/.pyenv/versions/3.12.1/envs/abstractions/lib/python3.12/site-packages/pydantic/json_schema.py:504\u001b[0m, in \u001b[0;36mGenerateJsonSchema.generate_inner.<locals>.handler_func\u001b[0;34m(schema_or_field)\u001b[0m\n\u001b[1;32m    502\u001b[0m \u001b[38;5;28;01mif\u001b[39;00m _core_utils\u001b[38;5;241m.\u001b[39mis_core_schema(schema_or_field) \u001b[38;5;129;01mor\u001b[39;00m _core_utils\u001b[38;5;241m.\u001b[39mis_core_schema_field(schema_or_field):\n\u001b[1;32m    503\u001b[0m     generate_for_schema_type \u001b[38;5;241m=\u001b[39m \u001b[38;5;28mself\u001b[39m\u001b[38;5;241m.\u001b[39m_schema_type_to_method[schema_or_field[\u001b[38;5;124m'\u001b[39m\u001b[38;5;124mtype\u001b[39m\u001b[38;5;124m'\u001b[39m]]\n\u001b[0;32m--> 504\u001b[0m     json_schema \u001b[38;5;241m=\u001b[39m \u001b[43mgenerate_for_schema_type\u001b[49m\u001b[43m(\u001b[49m\u001b[43mschema_or_field\u001b[49m\u001b[43m)\u001b[49m\n\u001b[1;32m    505\u001b[0m \u001b[38;5;28;01melse\u001b[39;00m:\n\u001b[1;32m    506\u001b[0m     \u001b[38;5;28;01mraise\u001b[39;00m \u001b[38;5;167;01mTypeError\u001b[39;00m(\u001b[38;5;124mf\u001b[39m\u001b[38;5;124m'\u001b[39m\u001b[38;5;124mUnexpected schema type: schema=\u001b[39m\u001b[38;5;132;01m{\u001b[39;00mschema_or_field\u001b[38;5;132;01m}\u001b[39;00m\u001b[38;5;124m'\u001b[39m)\n",
      "File \u001b[0;32m~/.pyenv/versions/3.12.1/envs/abstractions/lib/python3.12/site-packages/pydantic/json_schema.py:1040\u001b[0m, in \u001b[0;36mGenerateJsonSchema.nullable_schema\u001b[0;34m(self, schema)\u001b[0m\n\u001b[1;32m   1031\u001b[0m \u001b[38;5;250m\u001b[39m\u001b[38;5;124;03m\"\"\"Generates a JSON schema that matches a schema that allows null values.\u001b[39;00m\n\u001b[1;32m   1032\u001b[0m \n\u001b[1;32m   1033\u001b[0m \u001b[38;5;124;03mArgs:\u001b[39;00m\n\u001b[0;32m   (...)\u001b[0m\n\u001b[1;32m   1037\u001b[0m \u001b[38;5;124;03m    The generated JSON schema.\u001b[39;00m\n\u001b[1;32m   1038\u001b[0m \u001b[38;5;124;03m\"\"\"\u001b[39;00m\n\u001b[1;32m   1039\u001b[0m null_schema \u001b[38;5;241m=\u001b[39m {\u001b[38;5;124m'\u001b[39m\u001b[38;5;124mtype\u001b[39m\u001b[38;5;124m'\u001b[39m: \u001b[38;5;124m'\u001b[39m\u001b[38;5;124mnull\u001b[39m\u001b[38;5;124m'\u001b[39m}\n\u001b[0;32m-> 1040\u001b[0m inner_json_schema \u001b[38;5;241m=\u001b[39m \u001b[38;5;28;43mself\u001b[39;49m\u001b[38;5;241;43m.\u001b[39;49m\u001b[43mgenerate_inner\u001b[49m\u001b[43m(\u001b[49m\u001b[43mschema\u001b[49m\u001b[43m[\u001b[49m\u001b[38;5;124;43m'\u001b[39;49m\u001b[38;5;124;43mschema\u001b[39;49m\u001b[38;5;124;43m'\u001b[39;49m\u001b[43m]\u001b[49m\u001b[43m)\u001b[49m\n\u001b[1;32m   1042\u001b[0m \u001b[38;5;28;01mif\u001b[39;00m inner_json_schema \u001b[38;5;241m==\u001b[39m null_schema:\n\u001b[1;32m   1043\u001b[0m     \u001b[38;5;28;01mreturn\u001b[39;00m null_schema\n",
      "File \u001b[0;32m~/.pyenv/versions/3.12.1/envs/abstractions/lib/python3.12/site-packages/pydantic/json_schema.py:547\u001b[0m, in \u001b[0;36mGenerateJsonSchema.generate_inner\u001b[0;34m(self, schema)\u001b[0m\n\u001b[1;32m    543\u001b[0m         \u001b[38;5;28;01mreturn\u001b[39;00m json_schema\n\u001b[1;32m    545\u001b[0m     current_handler \u001b[38;5;241m=\u001b[39m _schema_generation_shared\u001b[38;5;241m.\u001b[39mGenerateJsonSchemaHandler(\u001b[38;5;28mself\u001b[39m, new_handler_func)\n\u001b[0;32m--> 547\u001b[0m json_schema \u001b[38;5;241m=\u001b[39m \u001b[43mcurrent_handler\u001b[49m\u001b[43m(\u001b[49m\u001b[43mschema\u001b[49m\u001b[43m)\u001b[49m\n\u001b[1;32m    548\u001b[0m \u001b[38;5;28;01mif\u001b[39;00m _core_utils\u001b[38;5;241m.\u001b[39mis_core_schema(schema):\n\u001b[1;32m    549\u001b[0m     json_schema \u001b[38;5;241m=\u001b[39m populate_defs(schema, json_schema)\n",
      "File \u001b[0;32m~/.pyenv/versions/3.12.1/envs/abstractions/lib/python3.12/site-packages/pydantic/_internal/_schema_generation_shared.py:36\u001b[0m, in \u001b[0;36mGenerateJsonSchemaHandler.__call__\u001b[0;34m(self, _GenerateJsonSchemaHandler__core_schema)\u001b[0m\n\u001b[1;32m     35\u001b[0m \u001b[38;5;28;01mdef\u001b[39;00m \u001b[38;5;21m__call__\u001b[39m(\u001b[38;5;28mself\u001b[39m, __core_schema: CoreSchemaOrField) \u001b[38;5;241m-\u001b[39m\u001b[38;5;241m>\u001b[39m JsonSchemaValue:\n\u001b[0;32m---> 36\u001b[0m     \u001b[38;5;28;01mreturn\u001b[39;00m \u001b[38;5;28;43mself\u001b[39;49m\u001b[38;5;241;43m.\u001b[39;49m\u001b[43mhandler\u001b[49m\u001b[43m(\u001b[49m\u001b[43m__core_schema\u001b[49m\u001b[43m)\u001b[49m\n",
      "File \u001b[0;32m~/.pyenv/versions/3.12.1/envs/abstractions/lib/python3.12/site-packages/pydantic/json_schema.py:504\u001b[0m, in \u001b[0;36mGenerateJsonSchema.generate_inner.<locals>.handler_func\u001b[0;34m(schema_or_field)\u001b[0m\n\u001b[1;32m    502\u001b[0m \u001b[38;5;28;01mif\u001b[39;00m _core_utils\u001b[38;5;241m.\u001b[39mis_core_schema(schema_or_field) \u001b[38;5;129;01mor\u001b[39;00m _core_utils\u001b[38;5;241m.\u001b[39mis_core_schema_field(schema_or_field):\n\u001b[1;32m    503\u001b[0m     generate_for_schema_type \u001b[38;5;241m=\u001b[39m \u001b[38;5;28mself\u001b[39m\u001b[38;5;241m.\u001b[39m_schema_type_to_method[schema_or_field[\u001b[38;5;124m'\u001b[39m\u001b[38;5;124mtype\u001b[39m\u001b[38;5;124m'\u001b[39m]]\n\u001b[0;32m--> 504\u001b[0m     json_schema \u001b[38;5;241m=\u001b[39m \u001b[43mgenerate_for_schema_type\u001b[49m\u001b[43m(\u001b[49m\u001b[43mschema_or_field\u001b[49m\u001b[43m)\u001b[49m\n\u001b[1;32m    505\u001b[0m \u001b[38;5;28;01melse\u001b[39;00m:\n\u001b[1;32m    506\u001b[0m     \u001b[38;5;28;01mraise\u001b[39;00m \u001b[38;5;167;01mTypeError\u001b[39;00m(\u001b[38;5;124mf\u001b[39m\u001b[38;5;124m'\u001b[39m\u001b[38;5;124mUnexpected schema type: schema=\u001b[39m\u001b[38;5;132;01m{\u001b[39;00mschema_or_field\u001b[38;5;132;01m}\u001b[39;00m\u001b[38;5;124m'\u001b[39m)\n",
      "File \u001b[0;32m~/.pyenv/versions/3.12.1/envs/abstractions/lib/python3.12/site-packages/pydantic/json_schema.py:765\u001b[0m, in \u001b[0;36mGenerateJsonSchema.is_instance_schema\u001b[0;34m(self, schema)\u001b[0m\n\u001b[1;32m    754\u001b[0m \u001b[38;5;28;01mdef\u001b[39;00m \u001b[38;5;21mis_instance_schema\u001b[39m(\u001b[38;5;28mself\u001b[39m, schema: core_schema\u001b[38;5;241m.\u001b[39mIsInstanceSchema) \u001b[38;5;241m-\u001b[39m\u001b[38;5;241m>\u001b[39m JsonSchemaValue:\n\u001b[1;32m    755\u001b[0m \u001b[38;5;250m    \u001b[39m\u001b[38;5;124;03m\"\"\"Handles JSON schema generation for a core schema that checks if a value is an instance of a class.\u001b[39;00m\n\u001b[1;32m    756\u001b[0m \n\u001b[1;32m    757\u001b[0m \u001b[38;5;124;03m    Unless overridden in a subclass, this raises an error.\u001b[39;00m\n\u001b[0;32m   (...)\u001b[0m\n\u001b[1;32m    763\u001b[0m \u001b[38;5;124;03m        The generated JSON schema.\u001b[39;00m\n\u001b[1;32m    764\u001b[0m \u001b[38;5;124;03m    \"\"\"\u001b[39;00m\n\u001b[0;32m--> 765\u001b[0m     \u001b[38;5;28;01mreturn\u001b[39;00m \u001b[38;5;28;43mself\u001b[39;49m\u001b[38;5;241;43m.\u001b[39;49m\u001b[43mhandle_invalid_for_json_schema\u001b[49m\u001b[43m(\u001b[49m\u001b[43mschema\u001b[49m\u001b[43m,\u001b[49m\u001b[43m \u001b[49m\u001b[38;5;124;43mf\u001b[39;49m\u001b[38;5;124;43m'\u001b[39;49m\u001b[38;5;124;43mcore_schema.IsInstanceSchema (\u001b[39;49m\u001b[38;5;132;43;01m{\u001b[39;49;00m\u001b[43mschema\u001b[49m\u001b[43m[\u001b[49m\u001b[38;5;124;43m\"\u001b[39;49m\u001b[38;5;124;43mcls\u001b[39;49m\u001b[38;5;124;43m\"\u001b[39;49m\u001b[43m]\u001b[49m\u001b[38;5;132;43;01m}\u001b[39;49;00m\u001b[38;5;124;43m)\u001b[39;49m\u001b[38;5;124;43m'\u001b[39;49m\u001b[43m)\u001b[49m\n",
      "File \u001b[0;32m~/.pyenv/versions/3.12.1/envs/abstractions/lib/python3.12/site-packages/pydantic/json_schema.py:2093\u001b[0m, in \u001b[0;36mGenerateJsonSchema.handle_invalid_for_json_schema\u001b[0;34m(self, schema, error_info)\u001b[0m\n\u001b[1;32m   2092\u001b[0m \u001b[38;5;28;01mdef\u001b[39;00m \u001b[38;5;21mhandle_invalid_for_json_schema\u001b[39m(\u001b[38;5;28mself\u001b[39m, schema: CoreSchemaOrField, error_info: \u001b[38;5;28mstr\u001b[39m) \u001b[38;5;241m-\u001b[39m\u001b[38;5;241m>\u001b[39m JsonSchemaValue:\n\u001b[0;32m-> 2093\u001b[0m     \u001b[38;5;28;01mraise\u001b[39;00m PydanticInvalidForJsonSchema(\u001b[38;5;124mf\u001b[39m\u001b[38;5;124m'\u001b[39m\u001b[38;5;124mCannot generate a JsonSchema for \u001b[39m\u001b[38;5;132;01m{\u001b[39;00merror_info\u001b[38;5;132;01m}\u001b[39;00m\u001b[38;5;124m'\u001b[39m)\n",
      "\u001b[0;31mPydanticInvalidForJsonSchema\u001b[0m: Cannot generate a JsonSchema for core_schema.IsInstanceSchema (<class 'infinipy.spatial.GridMap'>)\n\nFor further information visit https://errors.pydantic.dev/2.6/u/invalid-for-json-schema"
     ]
    }
   ],
   "source": [
    "generator = outlines.generate.json(model, Character)\n",
    "character = generator(\"Give me a character \")\n",
    "print(print(repr(character)))"
   ]
  },
  {
   "cell_type": "code",
   "execution_count": null,
   "metadata": {},
   "outputs": [],
   "source": [
    "a"
   ]
  },
  {
   "cell_type": "code",
   "execution_count": null,
   "metadata": {},
   "outputs": [
    {
     "name": "stderr",
     "output_type": "stream",
     "text": [
      "\n",
      "llama_print_timings:        load time =     386.15 ms\n",
      "llama_print_timings:      sample time =       0.40 ms /     5 runs   (    0.08 ms per token, 12468.83 tokens per second)\n",
      "llama_print_timings: prompt eval time =     310.30 ms /    16 tokens (   19.39 ms per token,    51.56 tokens per second)\n",
      "llama_print_timings:        eval time =     256.11 ms /     4 runs   (   64.03 ms per token,    15.62 tokens per second)\n",
      "llama_print_timings:       total time =     572.55 ms /    20 tokens\n"
     ]
    }
   ],
   "source": [
    "generator = generate.choice(model, [\"skirt\", \"dress\", \"pen\", \"jackettt\"])\n",
    "answer = generator(\"Pick the odd word out: skirt, dress, pen, jackloet\")"
   ]
  },
  {
   "cell_type": "code",
   "execution_count": null,
   "metadata": {},
   "outputs": [
    {
     "data": {
      "text/plain": [
       "'jackettt'"
      ]
     },
     "execution_count": 11,
     "metadata": {},
     "output_type": "execute_result"
    }
   ],
   "source": [
    "answer"
   ]
  },
  {
   "cell_type": "code",
   "execution_count": null,
   "metadata": {},
   "outputs": [],
   "source": []
  }
 ],
 "metadata": {
  "kernelspec": {
   "display_name": "abstractions",
   "language": "python",
   "name": "python3"
  },
  "language_info": {
   "codemirror_mode": {
    "name": "ipython",
    "version": 3
   },
   "file_extension": ".py",
   "mimetype": "text/x-python",
   "name": "python",
   "nbconvert_exporter": "python",
   "pygments_lexer": "ipython3",
   "version": "3.12.1"
  }
 },
 "nbformat": 4,
 "nbformat_minor": 2
}
