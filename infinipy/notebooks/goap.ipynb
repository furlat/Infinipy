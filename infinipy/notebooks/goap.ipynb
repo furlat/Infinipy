{
 "cells": [
  {
   "cell_type": "code",
   "execution_count": 15,
   "metadata": {},
   "outputs": [],
   "source": [
    "from pydantic import BaseModel, Field, ValidationError, validator, field_validator\n",
    "from typing import Annotated, Any, Dict, List, Optional, Set, Union\n",
    "from pydantic.functional_validators import AfterValidator\n",
    "import uuid\n",
    "from infinipy.entity import Entity, Attribute,RegistryHolder, Statement\n",
    "from pydantic import BaseModel, Field, ValidationError, ValidationInfo\n",
    "from pydantic.functional_validators import field_validator\n",
    "from typing import Annotated, Any, Dict, List, Optional, Set, Union, Tuple\n",
    "from pydantic import create_model, ValidationError\n"
   ]
  },
  {
   "cell_type": "code",
   "execution_count": null,
   "metadata": {},
   "outputs": [],
   "source": []
  },
  {
   "cell_type": "code",
   "execution_count": 2,
   "metadata": {},
   "outputs": [
    {
     "name": "stdout",
     "output_type": "stream",
     "text": [
      "Example usage with nested entities:\n",
      "name='Main Entrance' id='7ef88ea1-f866-4c9d-ae7f-bb0e3f44b703' open=Open(name='Open', id='cf30d8f5-5e59-48c4-a9c3-d508b5d833cb', value=True) color=Color(name='Color', id='963266eb-2639-4dc1-b56a-3d763bfb2399', value='white') material=Material(name='Material', id='0599ad51-f397-46b8-b760-ce5aaca65c93', value='wood') lock=Lock(name='Lock', id='0bcefcf3-e1bb-40fc-8b04-1d55385374ae', locked=Locked(name='Locked', id='26b68fe8-5e0f-4ae6-9052-a5240de5f35d', value=True)) gang='gang'\n",
      "\n",
      "Example usage with multiple inheritance:\n",
      "name='Exit' id='c33ffac1-2ea1-4f20-b5dc-7efecc702282' locked=Locked(name='Locked', id='6f758b3f-2110-4049-9615-3b18006ad933', value=True) open=Open(name='Open', id='42b36d4f-c5aa-4f3b-a526-23ab02b100ae', value=True) color=Color(name='Color', id='f43c0e71-e83b-4be7-8c4a-df5556418fba', value='white') material=Material(name='Material', id='73a22d54-95a2-4b1f-94bb-931edfacd35c', value='wood')\n"
     ]
    }
   ],
   "source": [
    "# Specific attribute classes inheriting from Attribute\n",
    "class Open(Attribute):\n",
    "    value: bool = Field(default=True, description=\"Indicates if the entity is open or closed\")\n",
    "\n",
    "class Locked(Attribute):\n",
    "    value: bool = Field(default=False, description=\"Indicates if the entity is locked or unlocked\")\n",
    "\n",
    "class Color(Attribute):\n",
    "    value: str = Field(default=\"white\", description=\"The color of the entity\")\n",
    "\n",
    "class Material(Attribute):\n",
    "    value: str = Field(default=\"wood\", description=\"The material of the entity\")\n",
    "\n",
    "\n",
    "# Door entity inheriting from Entity\n",
    "class Door(Entity):\n",
    "    open: Open = Field(default_factory=Open, description=\"Attribute to indicate door's open state\")\n",
    "    color: Color = Field(default_factory=Color, description=\"Attribute for the door's color\")\n",
    "    material: Material = Field(default_factory=Material, description=\"Attribute representing the door's material\")\n",
    "\n",
    "# Lock entity inheriting from Entity\n",
    "class Lock(Entity):\n",
    "    locked: Locked = Field(default_factory=Locked, description=\"Lock state, unlocked or locked\")\n",
    "\n",
    "# LockableDoor entity inheriting from Door and including a Lock entity\n",
    "class LockableDoor(Door):\n",
    "    lock: Lock = Field(default_factory=Lock, description=\"Lock entity for the door\")\n",
    "    gang: str = Field(default=\"gang\", description=\"gang\")\n",
    "        \n",
    "\n",
    "#alternatively, you can use the following to inherit from both Door and Lock instead of storing a lock Entity\n",
    "class DoorLockable(Door,Lock):\n",
    "    pass\n",
    "\n",
    "# Example usage\n",
    "print(\"Example usage with nested entities:\")\n",
    "try:\n",
    "    lockable_door = LockableDoor(\n",
    "        name=\"Main Entrance\",\n",
    "        open=Open(value=True),\n",
    "        color=Color(value='white'),\n",
    "        material=Material(value='wood'),\n",
    "        lock=Lock(locked=Locked(value=True)),\n",
    "    )\n",
    "    print(lockable_door)\n",
    "except ValidationError as e:\n",
    "    print(f\"Validation error: {e}\")\n",
    "print(\"\\nExample usage with multiple inheritance:\")\n",
    "try:\n",
    "    door_lockable = DoorLockable(\n",
    "        name=\"Exit\",\n",
    "        open=Open(value=True),\n",
    "        color=Color(value='white'),\n",
    "        material=Material(value='wood'),\n",
    "        locked=Locked(value=True),\n",
    "        \n",
    "    )\n",
    "    print(door_lockable)\n",
    "except ValidationError as e:\n",
    "    print(f\"Validation error: {e}\")"
   ]
  },
  {
   "cell_type": "code",
   "execution_count": 3,
   "metadata": {},
   "outputs": [],
   "source": [
    "class Position(Attribute):\n",
    "    value: Tuple[int, int] = Field(default=(0, 0), description=\"The (x, y) coordinates of the entity\")\n",
    "\n",
    "    @property\n",
    "    def x(self):\n",
    "        return self.value[0]\n",
    "\n",
    "    @property\n",
    "    def y(self):\n",
    "        return self.value[1]"
   ]
  },
  {
   "cell_type": "code",
   "execution_count": 4,
   "metadata": {},
   "outputs": [],
   "source": [
    "class Node(Entity):\n",
    "    position: Position = Field(default_factory=Position, description=\"The position of the node\")\n",
    "    entities: List[Entity] = Field(default_factory=list, description=\"The entities contained within the node\")\n",
    "\n",
    "    def add_entity(self, entity: Entity):\n",
    "        self.entities.append(entity)\n",
    "\n",
    "    def remove_entity(self, entity: Entity):\n",
    "        self.entities.remove(entity)"
   ]
  },
  {
   "cell_type": "code",
   "execution_count": 33,
   "metadata": {},
   "outputs": [],
   "source": []
  },
  {
   "cell_type": "code",
   "execution_count": 17,
   "metadata": {},
   "outputs": [],
   "source": [
    "# Specific attribute classes inheriting from Attribute\n",
    "class Open(Attribute):\n",
    "    value: bool = Field(default=True, description=\"Indicates if the entity is open or closed\")\n",
    "\n",
    "class Locked(Attribute):\n",
    "    value: bool = Field(default=False, description=\"Indicates if the entity is locked or unlocked\")\n",
    "\n",
    "class Color(Attribute):\n",
    "    value: str = Field(default=\"white\", description=\"The color of the entity\")\n",
    "\n",
    "class Material(Attribute):\n",
    "    value: str = Field(default=\"wood\", description=\"The material of the entity\")\n",
    "\n",
    "class Height(Attribute):\n",
    "    value: float = Field(default=0.0, description=\"The height of the entity\")\n",
    "\n",
    "class Width(Attribute):\n",
    "    value: float = Field(default=0.0, description=\"The width of the entity\")\n",
    "\n",
    "# Door entity inheriting from Entity\n",
    "class Door(Entity):\n",
    "    open: Open = Field(default_factory=Open, description=\"Attribute to indicate door's open state\")\n",
    "    color: Color = Field(default_factory=Color, description=\"Attribute for the door's color\")\n",
    "    material: Material = Field(default_factory=Material, description=\"Attribute representing the door's material\")\n",
    "    height: Height = Field(default_factory=Height, description=\"Attribute for the door's height\")\n",
    "    width: Width = Field(default_factory=Width, description=\"Attribute for the door's width\")\n",
    "\n",
    "# Window entity inheriting from Entity\n",
    "class Window(Entity):\n",
    "    open: Open = Field(default_factory=Open, description=\"Attribute to indicate window's open state\")\n",
    "    color: Color = Field(default_factory=Color, description=\"Attribute for the window's color\")\n",
    "    material: Material = Field(default_factory=Material, description=\"Attribute representing the window's material\")\n",
    "    height: Height = Field(default_factory=Height, description=\"Attribute for the window's height\")\n",
    "    width: Width = Field(default_factory=Width, description=\"Attribute for the window's width\")\n",
    "\n"
   ]
  },
  {
   "cell_type": "code",
   "execution_count": 18,
   "metadata": {},
   "outputs": [
    {
     "data": {
      "text/plain": [
       "(Door(name='Wooden Door', id='1baee8d1-06d0-4eb8-89e7-34bb8d9926da', open=Open(name='Open', id='50778343-f71d-4599-a8f4-4d7dccdb1a3b', value=True), color=Color(name='Color', id='0ce199dd-5a3d-4a65-a5d3-fb3acd8ae61b', value='brown'), material=Material(name='Material', id='036139b5-9ce2-4df8-b9a9-1c082c2ab1b0', value='wood'), height=Height(name='Height', id='26d4f509-49f2-4b08-b630-dc814c86fd6f', value=2.0), width=Width(name='Width', id='2ca5b55c-e5de-4fc7-9bd5-9acc76f7d3a0', value=0.8)),\n",
       " Window(name='Glass Window', id='315860c0-b6f4-45a4-8fbd-46714d613b77', open=Open(name='Open', id='ce4c19b1-0022-466d-87da-4d031ec6f599', value=False), color=Color(name='Color', id='337d1cc1-c166-4d88-aa38-591f69a4bab2', value='white'), material=Material(name='Material', id='fe68d780-406c-4998-b934-366b243caf02', value='glass'), height=Height(name='Height', id='c3dc390d-222d-4d5a-81e4-97ebec728588', value=1.0), width=Width(name='Width', id='472d818c-06b7-4add-a4d6-982682486468', value=1.2)))"
      ]
     },
     "execution_count": 18,
     "metadata": {},
     "output_type": "execute_result"
    }
   ],
   "source": [
    "# Create door and window entities\n",
    "door = Door(name=\"Wooden Door\", open=Open(value=True), color=Color(value=\"brown\"), material=Material(value=\"wood\"), height=Height(value=2.0), width=Width(value=0.8))\n",
    "window = Window(name=\"Glass Window\", open=Open(value=False), color=Color(value=\"white\"), material=Material(value=\"glass\"), height=Height(value=1.0), width=Width(value=1.2))\n",
    "door,window\n"
   ]
  },
  {
   "cell_type": "code",
   "execution_count": 34,
   "metadata": {},
   "outputs": [
    {
     "name": "stdout",
     "output_type": "stream",
     "text": [
      "Door Open Statement Validation: True\n",
      "Window Closed Statement Validation: True\n",
      "Door Material Statement Validation: True\n"
     ]
    },
    {
     "ename": "AttributeError",
     "evalue": "'Statement' object has no attribute 'compare_attribute'",
     "output_type": "error",
     "traceback": [
      "\u001b[1;31m---------------------------------------------------------------------------\u001b[0m",
      "\u001b[1;31mAttributeError\u001b[0m                            Traceback (most recent call last)",
      "Cell \u001b[1;32mIn[34], line 13\u001b[0m\n\u001b[0;32m     11\u001b[0m \u001b[38;5;66;03m# Create a joint statement for attribute comparison\u001b[39;00m\n\u001b[0;32m     12\u001b[0m height_comparison_statement \u001b[38;5;241m=\u001b[39m Statement\u001b[38;5;241m.\u001b[39mfrom_entities(door, window, name\u001b[38;5;241m=\u001b[39m\u001b[38;5;124m\"\u001b[39m\u001b[38;5;124mHeight Comparison Statement\u001b[39m\u001b[38;5;124m\"\u001b[39m)\n\u001b[1;32m---> 13\u001b[0m \u001b[38;5;28mprint\u001b[39m(\u001b[38;5;124m\"\u001b[39m\u001b[38;5;124mHeight Comparison Statement Validation:\u001b[39m\u001b[38;5;124m\"\u001b[39m, \u001b[43mheight_comparison_statement\u001b[49m\u001b[38;5;241;43m.\u001b[39;49m\u001b[43mcompare_attribute\u001b[49m(\u001b[38;5;124m\"\u001b[39m\u001b[38;5;124mheight\u001b[39m\u001b[38;5;124m\"\u001b[39m, door, window))\n",
      "File \u001b[1;32mc:\\Users\\Tommaso\\AppData\\Local\\Programs\\Python\\Python310\\lib\\site-packages\\pydantic\\main.py:710\u001b[0m, in \u001b[0;36mBaseModel.__getattr__\u001b[1;34m(self, item)\u001b[0m\n\u001b[0;32m    707\u001b[0m     \u001b[38;5;28;01mreturn\u001b[39;00m \u001b[38;5;28msuper\u001b[39m()\u001b[38;5;241m.\u001b[39m\u001b[38;5;21m__getattribute__\u001b[39m(item)  \u001b[38;5;66;03m# Raises AttributeError if appropriate\u001b[39;00m\n\u001b[0;32m    708\u001b[0m \u001b[38;5;28;01melse\u001b[39;00m:\n\u001b[0;32m    709\u001b[0m     \u001b[38;5;66;03m# this is the current error\u001b[39;00m\n\u001b[1;32m--> 710\u001b[0m     \u001b[38;5;28;01mraise\u001b[39;00m \u001b[38;5;167;01mAttributeError\u001b[39;00m(\u001b[38;5;124mf\u001b[39m\u001b[38;5;124m'\u001b[39m\u001b[38;5;132;01m{\u001b[39;00m\u001b[38;5;28mtype\u001b[39m(\u001b[38;5;28mself\u001b[39m)\u001b[38;5;241m.\u001b[39m\u001b[38;5;18m__name__\u001b[39m\u001b[38;5;132;01m!r}\u001b[39;00m\u001b[38;5;124m object has no attribute \u001b[39m\u001b[38;5;132;01m{\u001b[39;00mitem\u001b[38;5;132;01m!r}\u001b[39;00m\u001b[38;5;124m'\u001b[39m)\n",
      "\u001b[1;31mAttributeError\u001b[0m: 'Statement' object has no attribute 'compare_attribute'"
     ]
    }
   ],
   "source": [
    "# Create statements for validation\n",
    "door_open_statement = Statement.from_entity(door, name=\"Door Open Statement\", conditions={\"open\": True})\n",
    "window_closed_statement = Statement.from_entity(window, name=\"Window Closed Statement\", conditions={\"open\": False})\n",
    "door_material_statement = Statement.from_entity(door, name=\"Door Material Statement\", conditions={\"material\": \"wood\"})\n",
    "\n",
    "# Validate statements\n",
    "print(\"Door Open Statement Validation:\", door_open_statement.validate_condition(door))\n",
    "print(\"Window Closed Statement Validation:\", window_closed_statement.validate_condition(window))\n",
    "print(\"Door Material Statement Validation:\", door_material_statement.validate_condition(door))\n",
    "\n",
    "# Create a joint statement for attribute comparison\n",
    "height_comparison_statement = Statement.from_entities(door, window, name=\"Height Comparison Statement\")\n",
    "print(\"Height Comparison Statement Validation:\", height_comparison_statement.compare_attribute(\"height\", door, window))\n"
   ]
  },
  {
   "cell_type": "code",
   "execution_count": 36,
   "metadata": {},
   "outputs": [
    {
     "name": "stdout",
     "output_type": "stream",
     "text": [
      "Height Comparison Statement Validation: True\n",
      "Width Comparison Statement Validation: False\n"
     ]
    }
   ],
   "source": [
    "# Custom comparison functions\n",
    "def greater_than(a, b):\n",
    "    return a > b\n",
    "\n",
    "def less_than(a, b):\n",
    "    return a < b\n",
    "\n",
    "# Create statements with attribute comparisons\n",
    "height_comparison_statement = Statement.from_entities(\n",
    "    door,\n",
    "    window,\n",
    "    name=\"Height Comparison Statement\",\n",
    "    comparisons={\"height_comparison\": (\"height\", \"height\", greater_than)}\n",
    ")\n",
    "\n",
    "width_comparison_statement = Statement.from_entities(\n",
    "    door,\n",
    "    window,\n",
    "    name=\"Width Comparison Statement\",\n",
    "    comparisons={\"width_comparison\": (\"width\", \"width\", greater_than)}\n",
    ")\n",
    "\n",
    "# Validate comparisons\n",
    "print(\"Height Comparison Statement Validation:\", height_comparison_statement.validate_comparisons(door, window))\n",
    "print(\"Width Comparison Statement Validation:\", width_comparison_statement.validate_comparisons(door, window))"
   ]
  },
  {
   "cell_type": "code",
   "execution_count": null,
   "metadata": {},
   "outputs": [],
   "source": []
  },
  {
   "cell_type": "code",
   "execution_count": 22,
   "metadata": {},
   "outputs": [
    {
     "data": {
      "text/plain": [
       "2.0"
      ]
     },
     "execution_count": 22,
     "metadata": {},
     "output_type": "execute_result"
    }
   ],
   "source": [
    "door.height.value"
   ]
  },
  {
   "cell_type": "code",
   "execution_count": 23,
   "metadata": {},
   "outputs": [
    {
     "data": {
      "text/plain": [
       "1.0"
      ]
     },
     "execution_count": 23,
     "metadata": {},
     "output_type": "execute_result"
    }
   ],
   "source": [
    "window.height.value"
   ]
  },
  {
   "cell_type": "code",
   "execution_count": 24,
   "metadata": {},
   "outputs": [
    {
     "data": {
      "text/plain": [
       "Statement(name='Height Comparison Statement', id='aec563b6-dd02-45b4-8ff4-d798daac01d0', use_flattened=True)"
      ]
     },
     "execution_count": 24,
     "metadata": {},
     "output_type": "execute_result"
    }
   ],
   "source": [
    "height_comparison_statement"
   ]
  },
  {
   "cell_type": "code",
   "execution_count": 27,
   "metadata": {},
   "outputs": [
    {
     "data": {
      "text/plain": [
       "True"
      ]
     },
     "execution_count": 27,
     "metadata": {},
     "output_type": "execute_result"
    }
   ],
   "source": [
    "window_closed_statement.validate_condition(window)"
   ]
  },
  {
   "cell_type": "code",
   "execution_count": 20,
   "metadata": {},
   "outputs": [
    {
     "name": "stdout",
     "output_type": "stream",
     "text": [
      "Door Open Statement Validation: True\n",
      "Window Closed Statement Validation: True\n",
      "Door Material Statement Validation: True\n",
      "The door is taller than the window.\n"
     ]
    }
   ],
   "source": [
    "# Validate statements\n",
    "print(\"Door Open Statement Validation:\", door_open_statement.validate_condition(door))\n",
    "print(\"Window Closed Statement Validation:\", window_closed_statement.validate_condition(window))\n",
    "print(\"Door Material Statement Validation:\", door_material_statement.validate_condition(door))\n",
    "\n",
    "# Compare attributes using the joint statement\n",
    "height_comparison = height_comparison_statement.compare_attribute(\"height\", door, window)\n",
    "if height_comparison > 0:\n",
    "    print(\"The door is taller than the window.\")\n",
    "elif height_comparison < 0:\n",
    "    print(\"The window is taller than the door.\")\n",
    "else:\n",
    "    print(\"The door and window have the same height.\")"
   ]
  },
  {
   "cell_type": "code",
   "execution_count": 5,
   "metadata": {},
   "outputs": [],
   "source": [
    "class GridMap:\n",
    "    def __init__(self, width: int, height: int):\n",
    "        self.width = width\n",
    "        self.height = height\n",
    "        self.grid: List[List[Node]] = [[Node(position=Position(value=(x, y))) for y in range(height)] for x in range(width)]\n",
    "\n",
    "    def get_node(self, x: int, y: int) -> Node:\n",
    "        return self.grid[x][y]\n",
    "\n",
    "    def set_node(self, x: int, y: int, node: Node):\n",
    "        self.grid[x][y] = node\n",
    "\n",
    "    def all_nodes(self) -> List[Node]:\n",
    "        return [node for row in self.grid for node in row]"
   ]
  },
  {
   "cell_type": "code",
   "execution_count": 6,
   "metadata": {},
   "outputs": [],
   "source": [
    "class Action(BaseModel, RegistryHolder):\n",
    "    name: str = Field(\"\", description=\"The name of the action\")\n",
    "    id: str = Field(default_factory=lambda: str(uuid.uuid4()), description=\"The unique identifier of the action\")\n",
    "    preconditions: List[Statement] = Field(default_factory=list, description=\"The preconditions for the action\")\n",
    "    effects: List[Statement] = Field(default_factory=list, description=\"The effects of the action\")\n",
    "\n",
    "    def __init__(self, **data: Any):\n",
    "        super().__init__(**data)\n",
    "        if not self.name:\n",
    "            self.name = self.__class__.__name__\n",
    "        self.register(self)\n",
    "\n",
    "    def execute(self, source: Entity, target: Entity):\n",
    "        # Check preconditions\n",
    "        for precondition in self.preconditions:\n",
    "            if not self.check_condition(precondition, source, target):\n",
    "                raise ValueError(f\"Precondition not met: {precondition}\")\n",
    "\n",
    "        # Apply effects\n",
    "        for effect in self.effects:\n",
    "            self.apply_effect(effect, source, target)\n",
    "\n",
    "    def check_condition(self, condition: Statement, source: Entity, target: Entity) -> bool:\n",
    "        # Implement condition checking logic here\n",
    "        pass\n",
    "\n",
    "    def apply_effect(self, effect: Statement, source: Entity, target: Entity):\n",
    "        # Implement effect application logic here\n",
    "        pass"
   ]
  },
  {
   "cell_type": "code",
   "execution_count": 7,
   "metadata": {},
   "outputs": [],
   "source": [
    "class Condition(Statement):\n",
    "    pass\n",
    "\n",
    "class Effect(Statement):\n",
    "    pass"
   ]
  },
  {
   "cell_type": "code",
   "execution_count": 8,
   "metadata": {},
   "outputs": [
    {
     "ename": "ValueError",
     "evalue": "Precondition not met: name='Condition' id='ccc59da5-edcc-4c84-bb82-256b8104d810'",
     "output_type": "error",
     "traceback": [
      "\u001b[1;31m---------------------------------------------------------------------------\u001b[0m",
      "\u001b[1;31mValueError\u001b[0m                                Traceback (most recent call last)",
      "Cell \u001b[1;32mIn[8], line 22\u001b[0m\n\u001b[0;32m     15\u001b[0m close_door_action \u001b[38;5;241m=\u001b[39m Action(\n\u001b[0;32m     16\u001b[0m     name\u001b[38;5;241m=\u001b[39m\u001b[38;5;124m\"\u001b[39m\u001b[38;5;124mClose Door\u001b[39m\u001b[38;5;124m\"\u001b[39m,\n\u001b[0;32m     17\u001b[0m     preconditions\u001b[38;5;241m=\u001b[39m[Condition(\u001b[38;5;28mopen\u001b[39m\u001b[38;5;241m=\u001b[39mOpen(value\u001b[38;5;241m=\u001b[39m\u001b[38;5;28;01mTrue\u001b[39;00m))],\n\u001b[0;32m     18\u001b[0m     effects\u001b[38;5;241m=\u001b[39m[Effect(\u001b[38;5;28mopen\u001b[39m\u001b[38;5;241m=\u001b[39mOpen(value\u001b[38;5;241m=\u001b[39m\u001b[38;5;28;01mFalse\u001b[39;00m))]\n\u001b[0;32m     19\u001b[0m )\n\u001b[0;32m     21\u001b[0m \u001b[38;5;66;03m# Execute the action on the door\u001b[39;00m\n\u001b[1;32m---> 22\u001b[0m \u001b[43mclose_door_action\u001b[49m\u001b[38;5;241;43m.\u001b[39;49m\u001b[43mexecute\u001b[49m\u001b[43m(\u001b[49m\u001b[43msource\u001b[49m\u001b[38;5;241;43m=\u001b[39;49m\u001b[38;5;28;43;01mNone\u001b[39;49;00m\u001b[43m,\u001b[49m\u001b[43m \u001b[49m\u001b[43mtarget\u001b[49m\u001b[38;5;241;43m=\u001b[39;49m\u001b[43mdoor\u001b[49m\u001b[43m)\u001b[49m\n\u001b[0;32m     24\u001b[0m \u001b[38;5;66;03m# Print the updated door state\u001b[39;00m\n\u001b[0;32m     25\u001b[0m \u001b[38;5;28mprint\u001b[39m(door)\n",
      "Cell \u001b[1;32mIn[6], line 17\u001b[0m, in \u001b[0;36mAction.execute\u001b[1;34m(self, source, target)\u001b[0m\n\u001b[0;32m     15\u001b[0m \u001b[38;5;28;01mfor\u001b[39;00m precondition \u001b[38;5;129;01min\u001b[39;00m \u001b[38;5;28mself\u001b[39m\u001b[38;5;241m.\u001b[39mpreconditions:\n\u001b[0;32m     16\u001b[0m     \u001b[38;5;28;01mif\u001b[39;00m \u001b[38;5;129;01mnot\u001b[39;00m \u001b[38;5;28mself\u001b[39m\u001b[38;5;241m.\u001b[39mcheck_condition(precondition, source, target):\n\u001b[1;32m---> 17\u001b[0m         \u001b[38;5;28;01mraise\u001b[39;00m \u001b[38;5;167;01mValueError\u001b[39;00m(\u001b[38;5;124mf\u001b[39m\u001b[38;5;124m\"\u001b[39m\u001b[38;5;124mPrecondition not met: \u001b[39m\u001b[38;5;132;01m{\u001b[39;00mprecondition\u001b[38;5;132;01m}\u001b[39;00m\u001b[38;5;124m\"\u001b[39m)\n\u001b[0;32m     19\u001b[0m \u001b[38;5;66;03m# Apply effects\u001b[39;00m\n\u001b[0;32m     20\u001b[0m \u001b[38;5;28;01mfor\u001b[39;00m effect \u001b[38;5;129;01min\u001b[39;00m \u001b[38;5;28mself\u001b[39m\u001b[38;5;241m.\u001b[39meffects:\n",
      "\u001b[1;31mValueError\u001b[0m: Precondition not met: name='Condition' id='ccc59da5-edcc-4c84-bb82-256b8104d810'"
     ]
    }
   ],
   "source": [
    "# Create a grid map\n",
    "grid_map = GridMap(width=5, height=5)\n",
    "\n",
    "# Create a door entity\n",
    "door = Door(name=\"Wooden Door\", open=Open(value=True), color=Color(value=\"brown\"), material=Material(value=\"wood\"))\n",
    "\n",
    "# Create a node and add the door entity to it\n",
    "node = Node(position=Position(value=(2, 2)))\n",
    "node.add_entity(door)\n",
    "\n",
    "# Set the node in the grid map\n",
    "grid_map.set_node(2, 2, node)\n",
    "\n",
    "# Create an action to close the door\n",
    "close_door_action = Action(\n",
    "    name=\"Close Door\",\n",
    "    preconditions=[Condition(open=Open(value=True))],\n",
    "    effects=[Effect(open=Open(value=False))]\n",
    ")\n",
    "\n",
    "# Execute the action on the door\n",
    "close_door_action.execute(source=None, target=door)\n",
    "\n",
    "# Print the updated door state\n",
    "print(door)"
   ]
  }
 ],
 "metadata": {
  "kernelspec": {
   "display_name": "Python 3",
   "language": "python",
   "name": "python3"
  },
  "language_info": {
   "codemirror_mode": {
    "name": "ipython",
    "version": 3
   },
   "file_extension": ".py",
   "mimetype": "text/x-python",
   "name": "python",
   "nbconvert_exporter": "python",
   "pygments_lexer": "ipython3",
   "version": "3.10.6"
  }
 },
 "nbformat": 4,
 "nbformat_minor": 2
}
