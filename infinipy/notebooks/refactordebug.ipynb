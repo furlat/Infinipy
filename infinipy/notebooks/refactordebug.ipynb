{
 "cells": [
  {
   "cell_type": "code",
   "execution_count": 1,
   "metadata": {},
   "outputs": [
    {
     "name": "stdout",
     "output_type": "stream",
     "text": [
      "pygame-ce 2.4.1 (SDL 2.28.5, Python 3.10.6)\n",
      "Updating block attributes... for door\n"
     ]
    }
   ],
   "source": [
    "import pygame\n",
    "from infinipy.gridmap import GridMap\n",
    "from infinipy.nodes import Node, GameEntity, BlocksMovement, BlocksLight\n",
    "from infinipy.spatial import WalkableGraph\n",
    "from infinipy.interactions import Character, Door, Key, Treasure, Floor, Wall, InanimateEntity, IsPickupable, TestItem, Open, Close, Unlock, Lock, Pickup, Drop, Move\n",
    "from infinipy.game.main import generate_dungeon\n",
    "\n",
    "\n",
    "def debug_walkable_graph(grid_map: GridMap):\n",
    "    print(\"Debugging Walkable Graph...\")\n",
    "    \n",
    "    # Get the walkable graph\n",
    "    walkable_graph = grid_map.get_walkable_graph()\n",
    "    \n",
    "    # Print the walkable matrix\n",
    "    print(\"Walkable Matrix:\")\n",
    "    for row in walkable_graph.walkable_matrix:\n",
    "        print(row)\n",
    "    \n",
    "    # Check if the walkable matrix matches the node's blocks_movement attribute\n",
    "    print(\"Checking Node's blocks_movement attribute...\")\n",
    "    for x in range(grid_map.width):\n",
    "        for y in range(grid_map.height):\n",
    "            node = grid_map.get_node((x, y))\n",
    "            print(f\"Node ({x}, {y}):\")\n",
    "            print(f\"  Entities: {[entity.__class__.__name__ for entity in node.entities]}\")\n",
    "            print(f\"  Blocks Movement: {[entity.blocks_movement.value for entity in node.entities]}\")\n",
    "            if node.blocks_movement != (not walkable_graph.walkable_matrix[y][x]):\n",
    "                print(f\"  Mismatch found:\")\n",
    "                print(f\"    Node blocks_movement: {node.blocks_movement}\")\n",
    "                print(f\"    Walkable matrix value: {walkable_graph.walkable_matrix[y][x]}\")\n",
    "                \n",
    "                # Fix the node's blocks_movement attribute\n",
    "                node.blocks_movement = not walkable_graph.walkable_matrix[y][x]\n",
    "                print(f\"    Fixed node blocks_movement: {node.blocks_movement}\")\n",
    "    \n",
    "    print(\"Debugging complete.\")\n",
    "\n",
    "# Usage example\n",
    "grid_map = GridMap(width=10, height=10)\n",
    "grid_map.register_actions([Move, Pickup, Drop, Open, Close, Unlock, Lock])\n",
    "room_width, room_height = 6, 6\n",
    "character, door, key, treasure = generate_dungeon(grid_map, room_width, room_height)\n",
    "\n",
    "# Generate the entity type map\n",
    "grid_map.generate_entity_type_map()\n",
    "\n",
    "# # Debug the walkable graph\n",
    "# debug_walkable_graph(grid_map)"
   ]
  },
  {
   "cell_type": "code",
   "execution_count": null,
   "metadata": {},
   "outputs": [],
   "source": []
  }
 ],
 "metadata": {
  "kernelspec": {
   "display_name": "Python 3",
   "language": "python",
   "name": "python3"
  },
  "language_info": {
   "codemirror_mode": {
    "name": "ipython",
    "version": 3
   },
   "file_extension": ".py",
   "mimetype": "text/x-python",
   "name": "python",
   "nbconvert_exporter": "python",
   "pygments_lexer": "ipython3",
   "version": "3.10.6"
  }
 },
 "nbformat": 4,
 "nbformat_minor": 2
}
